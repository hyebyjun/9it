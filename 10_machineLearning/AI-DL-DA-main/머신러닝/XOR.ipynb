{
  "nbformat": 4,
  "nbformat_minor": 0,
  "metadata": {
    "colab": {
      "name": "keras_xor.ipynb",
      "provenance": [],
      "collapsed_sections": [],
      "authorship_tag": "ABX9TyMgUQx9kAgHs/raDiY1iFl8",
      "include_colab_link": true
    },
    "kernelspec": {
      "name": "python3",
      "display_name": "Python 3"
    },
    "language_info": {
      "name": "python"
    }
  },
  "cells": [
    {
      "cell_type": "markdown",
      "metadata": {
        "id": "view-in-github",
        "colab_type": "text"
      },
      "source": [
        "<a href=\"https://colab.research.google.com/github/kang-narae/AI-DL-DA/blob/main/%EB%A8%B8%EC%8B%A0%EB%9F%AC%EB%8B%9D/keras_xor.ipynb\" target=\"_parent\"><img src=\"https://colab.research.google.com/assets/colab-badge.svg\" alt=\"Open In Colab\"/></a>"
      ]
    },
    {
      "cell_type": "markdown",
      "source": [
        "## 인공지능의 역사\n",
        "\n",
        "https://itwiki.kr/w/%EC%9D%B8%EA%B3%B5%EC%A7%80%EB%8A%A5"
      ],
      "metadata": {
        "id": "jO15Nsjs3s6D"
      }
    },
    {
      "cell_type": "code",
      "source": [
        "import numpy as np\n",
        "from tensorflow.keras.models import Sequential\n",
        "from tensorflow.keras.layers import Dense\n",
        "import matplotlib.pyplot as plt\n"
      ],
      "metadata": {
        "id": "PCrGHFxO3ufb"
      },
      "execution_count": null,
      "outputs": []
    },
    {
      "cell_type": "code",
      "source": [
        "training_data = np.array(\n",
        "    [\n",
        "     [0,0], [0,1], [1,0], [1,1]\n",
        "    ],  'float32'\n",
        ")\n",
        "target_data = np.array([\n",
        "                        [0],[1],[1],[0]\n",
        "                        ], 'float32')"
      ],
      "metadata": {
        "id": "UvfNUn2z4MUK"
      },
      "execution_count": null,
      "outputs": []
    },
    {
      "cell_type": "code",
      "source": [
        "model = Sequential()\n",
        "model.add(Dense(32, input_dim=2, activation='relu'))   #인풋딤 인풋레이어는 레이어로 안친다.   히든레이어를 레이어로 침.\n",
        "# model.add(Dense(16, activation='relu'))   #보통 히든레이어는 relu를 줌.\n",
        "model.add(Dense(1, activation='sigmoid'))   #맨마지막 레이어가 출력층.  중간에 있는 게 히든레이어.  여기선 히든레이어가  1개.. (주석풀면2)\n",
        "#sigmoid때문에 두번째 겨울 맞이하게됨 ㅋㅋ \n",
        "model.compile(loss='mse', optimizer='adam', metrics=['binary_accuracy'])\n",
        "print(model.summary())"
      ],
      "metadata": {
        "colab": {
          "base_uri": "https://localhost:8080/"
        },
        "id": "gi-BGtNE4yYJ",
        "outputId": "879f70f4-1b3e-4271-914c-ca5df4f4e9fc"
      },
      "execution_count": null,
      "outputs": [
        {
          "output_type": "stream",
          "name": "stdout",
          "text": [
            "Model: \"sequential_3\"\n",
            "_________________________________________________________________\n",
            " Layer (type)                Output Shape              Param #   \n",
            "=================================================================\n",
            " dense_5 (Dense)             (None, 32)                96        \n",
            "                                                                 \n",
            " dense_6 (Dense)             (None, 1)                 33        \n",
            "                                                                 \n",
            "=================================================================\n",
            "Total params: 129\n",
            "Trainable params: 129\n",
            "Non-trainable params: 0\n",
            "_________________________________________________________________\n",
            "None\n"
          ]
        }
      ]
    },
    {
      "cell_type": "code",
      "source": [
        "fit_hist = model.fit(training_data, target_data, epochs=500, verbose=1)  #500번 공부시킴. 입력값인 트레이닝데이터랑 출력값인 타겟데이터 넣고. verbose는 정보상세수준"
      ],
      "metadata": {
        "id": "z-9XxJMx9gqo"
      },
      "execution_count": null,
      "outputs": []
    },
    {
      "cell_type": "code",
      "source": [
        "plt.plot(fit_hist.history['loss'])\n",
        "plt.show()"
      ],
      "metadata": {
        "colab": {
          "base_uri": "https://localhost:8080/",
          "height": 265
        },
        "id": "n6I2CJ3UAzHP",
        "outputId": "328992bb-8d51-4145-e57b-2068378c83f7"
      },
      "execution_count": null,
      "outputs": [
        {
          "output_type": "display_data",
          "data": {
            "text/plain": [
              "<Figure size 432x288 with 1 Axes>"
            ],
            "image/png": "[encoded data removed]"
          },
          "metadata": {
            "needs_background": "light"
          }
        }
      ]
    },
    {
      "cell_type": "code",
      "source": [
        "plt.plot(fit_hist.history['binary_accuracy'])  #0.75일 수 있지. 1/4간격으로 정확도가 올라가겠지.  loss 줄이는 건 계속되어도 정확도(분류)는 그 이전에 할 수 있고.\n",
        "plt.show()"
      ],
      "metadata": {
        "colab": {
          "base_uri": "https://localhost:8080/",
          "height": 265
        },
        "id": "zhH0_JDnEnCV",
        "outputId": "2ea18c83-f825-4d76-97dc-9c9a010d7320"
      },
      "execution_count": null,
      "outputs": [
        {
          "output_type": "display_data",
          "data": {
            "text/plain": [
              "<Figure size 432x288 with 1 Axes>"
            ],
            "image/png": "[encoded data removed]"
          },
          "metadata": {
            "needs_background": "light"
          }
        }
      ]
    },
    {
      "cell_type": "code",
      "source": [
        "inp= list(map(int, input('논리값을 입력하세요.').split()))\n",
        "qwe= np.array(inp)\n",
        "print('입력 값:', qwe)\n",
        "qwe= qwe.reshape(-1,2)\n",
        "print('reshape:', qwe)\n",
        "print('결과 값:', model.predict(qwe)[0][0].round())"
      ],
      "metadata": {
        "colab": {
          "base_uri": "https://localhost:8080/"
        },
        "id": "SO3dLZShEu79",
        "outputId": "199671c6-229f-45a2-dff6-9a9de6f1d6b1"
      },
      "execution_count": null,
      "outputs": [
        {
          "output_type": "stream",
          "name": "stdout",
          "text": [
            "논리값을 입력하세요.1 1\n",
            "입력 값: [1 1]\n",
            "reshape: [[1 1]]\n",
            "결과 값: 0.0\n"
          ]
        }
      ]
    },
    {
      "cell_type": "code",
      "source": [
        ""
      ],
      "metadata": {
        "id": "nm0EyIq7FPNG"
      },
      "execution_count": null,
      "outputs": []
    }
  ]
}