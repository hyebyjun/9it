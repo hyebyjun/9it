{
 "cells": [
  {
   "cell_type": "code",
   "execution_count": 20,
   "metadata": {},
   "outputs": [],
   "source": [
    "class add_graph:\n",
    "    def __init__(self):\n",
    "        pass\n",
    "    def forward(self, x, y):\n",
    "        out = x + y\n",
    "        return out\n",
    "    def backward(self, dout):  # 미분..\n",
    "        dx = 1 * dout\n",
    "        dy = 1 * dout\n",
    "        return dx, dy"
   ]
  },
  {
   "cell_type": "code",
   "execution_count": 21,
   "metadata": {},
   "outputs": [],
   "source": [
    "class mul_graph:\n",
    "    def __init__(self):\n",
    "        self.x = None\n",
    "        self.y = None\n",
    "    def forward(self, x, y):\n",
    "        self.x = x\n",
    "        self.y = y\n",
    "        out = x * y\n",
    "        return out\n",
    "    def backward(self, dout):\n",
    "        dx = self.y * dout\n",
    "        dy = self.x * dout\n",
    "        return dx, dy\n",
    "        "
   ]
  },
  {
   "cell_type": "code",
   "execution_count": 22,
   "metadata": {},
   "outputs": [],
   "source": [
    "apple = 100\n",
    "apple_num = 2\n",
    "orange = 150\n",
    "orange_num = 3\n",
    "tax = 1.1"
   ]
  },
  {
   "cell_type": "code",
   "execution_count": 23,
   "metadata": {},
   "outputs": [],
   "source": [
    "mul_apple_graph = mul_graph()\n",
    "mul_orange_graph = mul_graph()\n",
    "add_apple_orange_graph = add_graph()\n",
    "mul_tax_graph = mul_graph()"
   ]
  },
  {
   "cell_type": "code",
   "execution_count": 24,
   "metadata": {},
   "outputs": [
    {
     "name": "stdout",
     "output_type": "stream",
     "text": [
      "715.0000000000001\n"
     ]
    }
   ],
   "source": [
    "apple_price = mul_apple_graph.forward(apple, apple_num)\n",
    "orange_price = mul_orange_graph.forward(orange, orange_num)\n",
    "all_price = add_apple_orange_graph.forward(apple_price, orange_price)\n",
    "total_price = mul_tax_graph.forward(all_price, tax)\n",
    "print(total_price)"
   ]
  }
 ],
 "metadata": {
  "interpreter": {
   "hash": "4575c94a40ab9deff75d62c2d009a795e0a61bcd141d3513a0cd65a998cae360"
  },
  "kernelspec": {
   "display_name": "Python 3.7.11 ('DL_exam_37')",
   "language": "python",
   "name": "python3"
  },
  "language_info": {
   "codemirror_mode": {
    "name": "ipython",
    "version": 3
   },
   "file_extension": ".py",
   "mimetype": "text/x-python",
   "name": "python",
   "nbconvert_exporter": "python",
   "pygments_lexer": "ipython3",
   "version": "3.7.11"
  },
  "orig_nbformat": 4
 },
 "nbformat": 4,
 "nbformat_minor": 2
}
