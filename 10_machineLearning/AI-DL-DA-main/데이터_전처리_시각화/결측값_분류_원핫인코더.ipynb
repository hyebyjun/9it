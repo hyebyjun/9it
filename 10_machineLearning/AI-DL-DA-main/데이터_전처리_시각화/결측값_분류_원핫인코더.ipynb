{
  "nbformat": 4,
  "nbformat_minor": 0,
  "metadata": {
    "colab": {
      "name": "데이터전처리.ipynb",
      "provenance": [],
      "collapsed_sections": [],
      "authorship_tag": "ABX9TyOjRgQ5RjamPpIQeMZqOj3G",
      "include_colab_link": true
    },
    "kernelspec": {
      "name": "python3",
      "display_name": "Python 3"
    },
    "language_info": {
      "name": "python"
    }
  },
  "cells": [
    {
      "cell_type": "markdown",
      "metadata": {
        "id": "view-in-github",
        "colab_type": "text"
      },
      "source": [
        "<a href=\"https://colab.research.google.com/github/kang-narae/AI-DL-DA/blob/main/%EB%8D%B0%EC%9D%B4%ED%84%B0%EC%A0%84%EC%B2%98%EB%A6%AC/%EA%B2%B0%EC%B8%A1%EA%B0%92_%EB%B6%84%EB%A5%98_%EC%9B%90%ED%95%AB%EC%9D%B8%EC%BD%94%EB%8D%94.ipynb\" target=\"_parent\"><img src=\"https://colab.research.google.com/assets/colab-badge.svg\" alt=\"Open In Colab\"/></a>"
      ]
    },
    {
      "cell_type": "markdown",
      "source": [
        "## 일단 seaborn의 datasets을 불러오자\n"
      ],
      "metadata": {
        "id": "LGDlOHOP06O_"
      }
    },
    {
      "cell_type": "code",
      "execution_count": null,
      "metadata": {
        "id": "EF5P9fn3QOdN"
      },
      "outputs": [],
      "source": [
        "import pandas as pd\n",
        "import numpy as np\n",
        "import seaborn as sns  #시각화 패키지\n",
        "from sklearn import preprocessing"
      ]
    },
    {
      "cell_type": "code",
      "source": [
        "df= sns.load_dataset('titanic')            #sns seaborn에서 데이터셋 불러옴.  데이터프레임 타입임.\n",
        "\n",
        "  #살았는지 죽었는지 예측하는 거니까, 분류.   그중에서도 2가지 중 예측하는 거니까 이진분류.\n",
        "print(df)"
      ],
      "metadata": {
        "colab": {
          "base_uri": "https://localhost:8080/"
        },
        "id": "uzVoTYz0bIbh",
        "outputId": "3a8db567-a5b7-4033-cc67-b069bf8d8a33"
      },
      "execution_count": null,
      "outputs": [
        {
          "output_type": "stream",
          "name": "stdout",
          "text": [
            "     survived  pclass     sex   age  sibsp  parch     fare embarked   class  \\\n",
            "0           0       3    male  22.0      1      0   7.2500        S   Third   \n",
            "1           1       1  female  38.0      1      0  71.2833        C   First   \n",
            "2           1       3  female  26.0      0      0   7.9250        S   Third   \n",
            "3           1       1  female  35.0      1      0  53.1000        S   First   \n",
            "4           0       3    male  35.0      0      0   8.0500        S   Third   \n",
            "..        ...     ...     ...   ...    ...    ...      ...      ...     ...   \n",
            "886         0       2    male  27.0      0      0  13.0000        S  Second   \n",
            "887         1       1  female  19.0      0      0  30.0000        S   First   \n",
            "888         0       3  female   NaN      1      2  23.4500        S   Third   \n",
            "889         1       1    male  26.0      0      0  30.0000        C   First   \n",
            "890         0       3    male  32.0      0      0   7.7500        Q   Third   \n",
            "\n",
            "       who  adult_male deck  embark_town alive  alone  \n",
            "0      man        True  NaN  Southampton    no  False  \n",
            "1    woman       False    C    Cherbourg   yes  False  \n",
            "2    woman       False  NaN  Southampton   yes   True  \n",
            "3    woman       False    C  Southampton   yes  False  \n",
            "4      man        True  NaN  Southampton    no   True  \n",
            "..     ...         ...  ...          ...   ...    ...  \n",
            "886    man        True  NaN  Southampton    no   True  \n",
            "887  woman       False    B  Southampton   yes   True  \n",
            "888  woman       False  NaN  Southampton    no  False  \n",
            "889    man        True    C    Cherbourg   yes   True  \n",
            "890    man        True  NaN   Queenstown    no   True  \n",
            "\n",
            "[891 rows x 15 columns]\n"
          ]
        }
      ]
    },
    {
      "cell_type": "code",
      "source": [
        "print(df.head(10))"
      ],
      "metadata": {
        "colab": {
          "base_uri": "https://localhost:8080/"
        },
        "id": "3_Zh9ePYbbcI",
        "outputId": "ed590ff6-6580-446a-84c7-55b1b8f633b4"
      },
      "execution_count": null,
      "outputs": [
        {
          "output_type": "stream",
          "name": "stdout",
          "text": [
            "   survived  pclass     sex   age  sibsp  parch     fare embarked   class  \\\n",
            "0         0       3    male  22.0      1      0   7.2500        S   Third   \n",
            "1         1       1  female  38.0      1      0  71.2833        C   First   \n",
            "2         1       3  female  26.0      0      0   7.9250        S   Third   \n",
            "3         1       1  female  35.0      1      0  53.1000        S   First   \n",
            "4         0       3    male  35.0      0      0   8.0500        S   Third   \n",
            "5         0       3    male   NaN      0      0   8.4583        Q   Third   \n",
            "6         0       1    male  54.0      0      0  51.8625        S   First   \n",
            "7         0       3    male   2.0      3      1  21.0750        S   Third   \n",
            "8         1       3  female  27.0      0      2  11.1333        S   Third   \n",
            "9         1       2  female  14.0      1      0  30.0708        C  Second   \n",
            "\n",
            "     who  adult_male deck  embark_town alive  alone  \n",
            "0    man        True  NaN  Southampton    no  False  \n",
            "1  woman       False    C    Cherbourg   yes  False  \n",
            "2  woman       False  NaN  Southampton   yes   True  \n",
            "3  woman       False    C  Southampton   yes  False  \n",
            "4    man        True  NaN  Southampton    no   True  \n",
            "5    man        True  NaN   Queenstown    no   True  \n",
            "6    man        True    E  Southampton    no   True  \n",
            "7  child       False  NaN  Southampton    no  False  \n",
            "8  woman       False  NaN  Southampton   yes  False  \n",
            "9  child       False  NaN    Cherbourg   yes  False  \n"
          ]
        }
      ]
    },
    {
      "cell_type": "markdown",
      "source": [
        "## 특정 컬럼의 중복값 세기\n",
        "\n",
        "\n"
      ],
      "metadata": {
        "id": "3gK75ONWx4tm"
      }
    },
    {
      "cell_type": "code",
      "source": [
        "nan_deck= df['deck'].value_counts(dropna=False)\n",
        "print(nan_deck)        #NaN이 안나옴. value_counts는 기본적으로 난을 안 센 값.   dropna=False하면 결측치 nan도 버리지 말고 보여주게 함."
      ],
      "metadata": {
        "colab": {
          "base_uri": "https://localhost:8080/"
        },
        "id": "qVdDqXorcEIA",
        "outputId": "944d67e4-4c6f-4ab0-c3f1-a7d7a4ff8e14"
      },
      "execution_count": null,
      "outputs": [
        {
          "output_type": "stream",
          "name": "stdout",
          "text": [
            "NaN    688\n",
            "C       59\n",
            "B       47\n",
            "D       33\n",
            "E       32\n",
            "A       15\n",
            "F       13\n",
            "G        4\n",
            "Name: deck, dtype: int64\n"
          ]
        }
      ]
    },
    {
      "cell_type": "code",
      "source": [
        "print(type(nan_deck))"
      ],
      "metadata": {
        "colab": {
          "base_uri": "https://localhost:8080/"
        },
        "id": "SMpDkhNOcJ7Y",
        "outputId": "b7c14798-5376-4936-df9f-90b9d9ae4f16"
      },
      "execution_count": null,
      "outputs": [
        {
          "output_type": "stream",
          "name": "stdout",
          "text": [
            "<class 'pandas.core.series.Series'>\n"
          ]
        }
      ]
    },
    {
      "cell_type": "markdown",
      "source": [
        "## dataframe의 각 값이 null인지 확인"
      ],
      "metadata": {
        "id": "9taP9wh4yW0y"
      }
    },
    {
      "cell_type": "code",
      "source": [
        "print(df.head().isnull())      #각 값에 null이냐 아니냐 물어본거임. 불린값 반환하지."
      ],
      "metadata": {
        "colab": {
          "base_uri": "https://localhost:8080/"
        },
        "id": "NSh7uPs6cVm4",
        "outputId": "64b0579c-970f-4e2b-bd42-62df13392ae0"
      },
      "execution_count": null,
      "outputs": [
        {
          "output_type": "stream",
          "name": "stdout",
          "text": [
            "   survived  pclass    sex    age  sibsp  parch   fare  embarked  class  \\\n",
            "0     False   False  False  False  False  False  False     False  False   \n",
            "1     False   False  False  False  False  False  False     False  False   \n",
            "2     False   False  False  False  False  False  False     False  False   \n",
            "3     False   False  False  False  False  False  False     False  False   \n",
            "4     False   False  False  False  False  False  False     False  False   \n",
            "\n",
            "     who  adult_male   deck  embark_town  alive  alone  \n",
            "0  False       False   True        False  False  False  \n",
            "1  False       False  False        False  False  False  \n",
            "2  False       False   True        False  False  False  \n",
            "3  False       False  False        False  False  False  \n",
            "4  False       False   True        False  False  False  \n"
          ]
        }
      ]
    },
    {
      "cell_type": "code",
      "source": [
        "print(df.head().notnull())"
      ],
      "metadata": {
        "colab": {
          "base_uri": "https://localhost:8080/"
        },
        "id": "7sAixK1pclEI",
        "outputId": "5d4d2346-7c46-4c31-b057-94c40deb2ce3"
      },
      "execution_count": null,
      "outputs": [
        {
          "output_type": "stream",
          "name": "stdout",
          "text": [
            "   survived  pclass   sex   age  sibsp  parch  fare  embarked  class   who  \\\n",
            "0      True    True  True  True   True   True  True      True   True  True   \n",
            "1      True    True  True  True   True   True  True      True   True  True   \n",
            "2      True    True  True  True   True   True  True      True   True  True   \n",
            "3      True    True  True  True   True   True  True      True   True  True   \n",
            "4      True    True  True  True   True   True  True      True   True  True   \n",
            "\n",
            "   adult_male   deck  embark_town  alive  alone  \n",
            "0        True  False         True   True   True  \n",
            "1        True   True         True   True   True  \n",
            "2        True  False         True   True   True  \n",
            "3        True   True         True   True   True  \n",
            "4        True  False         True   True   True  \n"
          ]
        }
      ]
    },
    {
      "cell_type": "code",
      "source": [
        "print(df.isnull().sum(axis=0))  #row방향, 각 컬럼 기준으로.\n",
        "#결측값 수 계산한거임"
      ],
      "metadata": {
        "colab": {
          "base_uri": "https://localhost:8080/"
        },
        "id": "0G-vyQ-hc0U4",
        "outputId": "05a1c906-0736-4079-c882-d76ba3c30ce6"
      },
      "execution_count": null,
      "outputs": [
        {
          "output_type": "stream",
          "name": "stdout",
          "text": [
            "survived         0\n",
            "pclass           0\n",
            "sex              0\n",
            "age            177\n",
            "sibsp            0\n",
            "parch            0\n",
            "fare             0\n",
            "embarked         2\n",
            "class            0\n",
            "who              0\n",
            "adult_male       0\n",
            "deck           688\n",
            "embark_town      2\n",
            "alive            0\n",
            "alone            0\n",
            "dtype: int64\n"
          ]
        }
      ]
    },
    {
      "cell_type": "code",
      "source": [
        "df.info()"
      ],
      "metadata": {
        "colab": {
          "base_uri": "https://localhost:8080/"
        },
        "id": "QcAbn4UBdDW7",
        "outputId": "238ba575-c343-4441-f3df-1a2fc468d1f7"
      },
      "execution_count": null,
      "outputs": [
        {
          "output_type": "stream",
          "name": "stdout",
          "text": [
            "<class 'pandas.core.frame.DataFrame'>\n",
            "RangeIndex: 891 entries, 0 to 890\n",
            "Data columns (total 15 columns):\n",
            " #   Column       Non-Null Count  Dtype   \n",
            "---  ------       --------------  -----   \n",
            " 0   survived     891 non-null    int64   \n",
            " 1   pclass       891 non-null    int64   \n",
            " 2   sex          891 non-null    object  \n",
            " 3   age          714 non-null    float64 \n",
            " 4   sibsp        891 non-null    int64   \n",
            " 5   parch        891 non-null    int64   \n",
            " 6   fare         891 non-null    float64 \n",
            " 7   embarked     889 non-null    object  \n",
            " 8   class        891 non-null    category\n",
            " 9   who          891 non-null    object  \n",
            " 10  adult_male   891 non-null    bool    \n",
            " 11  deck         203 non-null    category\n",
            " 12  embark_town  889 non-null    object  \n",
            " 13  alive        891 non-null    object  \n",
            " 14  alone        891 non-null    bool    \n",
            "dtypes: bool(2), category(2), float64(2), int64(4), object(5)\n",
            "memory usage: 80.7+ KB\n"
          ]
        }
      ]
    },
    {
      "cell_type": "markdown",
      "source": [
        "## 결측값 많은 컬럼 삭제\n"
      ],
      "metadata": {
        "id": "UaewjgM00kHG"
      }
    },
    {
      "cell_type": "code",
      "source": [
        "df.dropna(axis=1, thresh=500, inplace=True)  #컬럼기준으로 넌값이 500넘으면 삭제해라.\n",
        "print(df.columns)      #결측치 500개 넘었던 컬럼인 'deck'가 사라졌음."
      ],
      "metadata": {
        "colab": {
          "base_uri": "https://localhost:8080/"
        },
        "id": "xwhSNTI5dTBQ",
        "outputId": "a143e897-69c7-4647-ef2e-2bf30d7329dc"
      },
      "execution_count": null,
      "outputs": [
        {
          "output_type": "stream",
          "name": "stdout",
          "text": [
            "Index(['survived', 'pclass', 'sex', 'age', 'sibsp', 'parch', 'fare',\n",
            "       'embarked', 'class', 'who', 'adult_male', 'embark_town', 'alive',\n",
            "       'alone'],\n",
            "      dtype='object')\n"
          ]
        }
      ]
    },
    {
      "cell_type": "code",
      "source": [
        "df_age = df.dropna(subset=['age'], how='any', axis=0)  \n",
        "#df에서, age컬럼 중 넌값이 있으면 row 기준으로 삭제하겠다. 그걸 df_age 객체로 만든 거.\n",
        "df_age.info()    #인덱스는 890까지 있다는 거임. 중간중간 빠지게 된다는 거."
      ],
      "metadata": {
        "colab": {
          "base_uri": "https://localhost:8080/"
        },
        "id": "cfk3Yb4UdnD9",
        "outputId": "0edfbea4-1896-4ad4-d393-c990eca3f2a5"
      },
      "execution_count": null,
      "outputs": [
        {
          "output_type": "stream",
          "name": "stdout",
          "text": [
            "<class 'pandas.core.frame.DataFrame'>\n",
            "Int64Index: 714 entries, 0 to 890\n",
            "Data columns (total 14 columns):\n",
            " #   Column       Non-Null Count  Dtype   \n",
            "---  ------       --------------  -----   \n",
            " 0   survived     714 non-null    int64   \n",
            " 1   pclass       714 non-null    int64   \n",
            " 2   sex          714 non-null    object  \n",
            " 3   age          714 non-null    float64 \n",
            " 4   sibsp        714 non-null    int64   \n",
            " 5   parch        714 non-null    int64   \n",
            " 6   fare         714 non-null    float64 \n",
            " 7   embarked     712 non-null    object  \n",
            " 8   class        714 non-null    category\n",
            " 9   who          714 non-null    object  \n",
            " 10  adult_male   714 non-null    bool    \n",
            " 11  embark_town  712 non-null    object  \n",
            " 12  alive        714 non-null    object  \n",
            " 13  alone        714 non-null    bool    \n",
            "dtypes: bool(2), category(1), float64(2), int64(4), object(5)\n",
            "memory usage: 69.2+ KB\n"
          ]
        }
      ]
    },
    {
      "cell_type": "markdown",
      "source": [
        "## 특정 컬럼의 결측값을 평균값으로 대체하기"
      ],
      "metadata": {
        "id": "_j2OMtc72G_o"
      }
    },
    {
      "cell_type": "code",
      "source": [
        "mean_age = df['age'].mean()\n",
        "print(mean_age)           #df의 mean함수는 알아서 nan값 빼고 계산함."
      ],
      "metadata": {
        "colab": {
          "base_uri": "https://localhost:8080/"
        },
        "id": "XmLffLcHedQZ",
        "outputId": "3b78b0c9-8ea4-4897-a499-2a3ccf01dec9"
      },
      "execution_count": null,
      "outputs": [
        {
          "output_type": "stream",
          "name": "stdout",
          "text": [
            "29.69911764705882\n"
          ]
        }
      ]
    },
    {
      "cell_type": "code",
      "source": [
        "df['age'].fillna(mean_age, inplace=True) #df의 age컬럼에서 결측값에 앞서 계산한 값인 mean_age를 넣음.\n",
        "print(df.head(10))           #나이 결측값에 평균값을 넣었음."
      ],
      "metadata": {
        "colab": {
          "base_uri": "https://localhost:8080/"
        },
        "id": "wudDsiDefcXZ",
        "outputId": "06526a5f-1b8e-48ab-eb65-6a5a1f9b8580"
      },
      "execution_count": null,
      "outputs": [
        {
          "output_type": "stream",
          "name": "stdout",
          "text": [
            "   survived  pclass     sex        age  sibsp  parch     fare embarked  \\\n",
            "0         0       3    male  22.000000      1      0   7.2500        S   \n",
            "1         1       1  female  38.000000      1      0  71.2833        C   \n",
            "2         1       3  female  26.000000      0      0   7.9250        S   \n",
            "3         1       1  female  35.000000      1      0  53.1000        S   \n",
            "4         0       3    male  35.000000      0      0   8.0500        S   \n",
            "5         0       3    male  29.699118      0      0   8.4583        Q   \n",
            "6         0       1    male  54.000000      0      0  51.8625        S   \n",
            "7         0       3    male   2.000000      3      1  21.0750        S   \n",
            "8         1       3  female  27.000000      0      2  11.1333        S   \n",
            "9         1       2  female  14.000000      1      0  30.0708        C   \n",
            "\n",
            "    class    who  adult_male  embark_town alive  alone  \n",
            "0   Third    man        True  Southampton    no  False  \n",
            "1   First  woman       False    Cherbourg   yes  False  \n",
            "2   Third  woman       False  Southampton   yes   True  \n",
            "3   First  woman       False  Southampton   yes  False  \n",
            "4   Third    man        True  Southampton    no   True  \n",
            "5   Third    man        True   Queenstown    no   True  \n",
            "6   First    man        True  Southampton    no   True  \n",
            "7   Third  child       False  Southampton    no  False  \n",
            "8   Third  woman       False  Southampton   yes  False  \n",
            "9  Second  child       False    Cherbourg   yes  False  \n"
          ]
        }
      ]
    },
    {
      "cell_type": "markdown",
      "source": [
        "## 결측값 채우기. (최빈값 / 이전값/ 이후값)\n",
        "\n"
      ],
      "metadata": {
        "id": "MnnN5jfU2wBs"
      }
    },
    {
      "cell_type": "code",
      "source": [
        "most_freq= df['embark_town'].value_counts(dropna=True).idxmax()  \n",
        " #df의 embark_town컬럼에서 최빈값 찾기\n",
        "print(most_freq)\n"
      ],
      "metadata": {
        "colab": {
          "base_uri": "https://localhost:8080/"
        },
        "id": "fc-E9Cawf16_",
        "outputId": "e92f38f3-3210-44c6-f668-21a670ecc51a"
      },
      "execution_count": null,
      "outputs": [
        {
          "output_type": "stream",
          "name": "stdout",
          "text": [
            "Southampton\n"
          ]
        }
      ]
    },
    {
      "cell_type": "code",
      "source": [
        "df_most_freq = df['embark_town'].fillna(most_freq, inplace=False)  \n",
        " # df의 embark_town 컬럼에서 결측값을 most_freq최빈값으로 넣음. 이렇게해서 새로 만들어진 df객체는 그 컬럼 하나만 가지고 있네..      원본 안 건드리려고 inplace=False\n",
        "print(df_most_freq[825:830])\n",
        "print(df[825:830])"
      ],
      "metadata": {
        "colab": {
          "base_uri": "https://localhost:8080/"
        },
        "id": "u88TZma0gmAA",
        "outputId": "4649489a-0e3f-4f14-ea2e-22e46e9c343a"
      },
      "execution_count": null,
      "outputs": [
        {
          "output_type": "stream",
          "name": "stdout",
          "text": [
            "825     Queenstown\n",
            "826    Southampton\n",
            "827      Cherbourg\n",
            "828     Queenstown\n",
            "829    Southampton\n",
            "Name: embark_town, dtype: object\n",
            "     survived  pclass     sex        age  sibsp  parch     fare embarked  \\\n",
            "825         0       3    male  29.699118      0      0   6.9500        Q   \n",
            "826         0       3    male  29.699118      0      0  56.4958        S   \n",
            "827         1       2    male   1.000000      0      2  37.0042        C   \n",
            "828         1       3    male  29.699118      0      0   7.7500        Q   \n",
            "829         1       1  female  62.000000      0      0  80.0000      NaN   \n",
            "\n",
            "      class    who  adult_male  embark_town alive  alone  \n",
            "825   Third    man        True   Queenstown    no   True  \n",
            "826   Third    man        True  Southampton    no   True  \n",
            "827  Second  child       False    Cherbourg   yes  False  \n",
            "828   Third    man        True   Queenstown   yes   True  \n",
            "829   First  woman       False          NaN   yes   True  \n"
          ]
        }
      ]
    },
    {
      "cell_type": "code",
      "source": [
        "df['embark_town'].fillna(method='ffill', inplace=True)   #ffill은 결측값을 앞에값으로 채우는 거.   bfill은 뒤에걸로.\n",
        "print(df['embark_town'][825:830])"
      ],
      "metadata": {
        "colab": {
          "base_uri": "https://localhost:8080/"
        },
        "id": "7lm9i0x7hH23",
        "outputId": "9a379eb3-5537-4495-baf2-808caf98f936"
      },
      "execution_count": null,
      "outputs": [
        {
          "output_type": "stream",
          "name": "stdout",
          "text": [
            "825     Queenstown\n",
            "826    Southampton\n",
            "827      Cherbourg\n",
            "828     Queenstown\n",
            "829     Queenstown\n",
            "Name: embark_town, dtype: object\n"
          ]
        }
      ]
    },
    {
      "cell_type": "code",
      "source": [
        "print(df.isnull().sum(axis=0))"
      ],
      "metadata": {
        "colab": {
          "base_uri": "https://localhost:8080/"
        },
        "id": "RTsAU-hximb3",
        "outputId": "a9f9e0ce-7f17-4260-f72a-d6f16709a069"
      },
      "execution_count": null,
      "outputs": [
        {
          "output_type": "stream",
          "name": "stdout",
          "text": [
            "survived       0\n",
            "pclass         0\n",
            "sex            0\n",
            "age            0\n",
            "sibsp          0\n",
            "parch          0\n",
            "fare           0\n",
            "embarked       2\n",
            "class          0\n",
            "who            0\n",
            "adult_male     0\n",
            "embark_town    0\n",
            "alive          0\n",
            "alone          0\n",
            "dtype: int64\n"
          ]
        }
      ]
    },
    {
      "cell_type": "markdown",
      "source": [
        "## 불필요한 컬럼 삭제"
      ],
      "metadata": {
        "id": "mDkfgYj_38f-"
      }
    },
    {
      "cell_type": "code",
      "source": [
        "df.drop(['survived', 'embarked'], inplace=True, axis=1)\n",
        "df.info()"
      ],
      "metadata": {
        "colab": {
          "base_uri": "https://localhost:8080/"
        },
        "id": "p0jzBoNiisIu",
        "outputId": "6ca28ae7-050a-4d89-dbd1-d23685c9ce0d"
      },
      "execution_count": null,
      "outputs": [
        {
          "output_type": "stream",
          "name": "stdout",
          "text": [
            "<class 'pandas.core.frame.DataFrame'>\n",
            "RangeIndex: 891 entries, 0 to 890\n",
            "Data columns (total 12 columns):\n",
            " #   Column       Non-Null Count  Dtype   \n",
            "---  ------       --------------  -----   \n",
            " 0   pclass       891 non-null    int64   \n",
            " 1   sex          891 non-null    object  \n",
            " 2   age          891 non-null    float64 \n",
            " 3   sibsp        891 non-null    int64   \n",
            " 4   parch        891 non-null    int64   \n",
            " 5   fare         891 non-null    float64 \n",
            " 6   class        891 non-null    category\n",
            " 7   who          891 non-null    object  \n",
            " 8   adult_male   891 non-null    bool    \n",
            " 9   embark_town  891 non-null    object  \n",
            " 10  alive        891 non-null    object  \n",
            " 11  alone        891 non-null    bool    \n",
            "dtypes: bool(2), category(1), float64(2), int64(3), object(4)\n",
            "memory usage: 65.5+ KB\n"
          ]
        }
      ]
    },
    {
      "cell_type": "code",
      "source": [
        "print(df.isnull().sum(axis=0))"
      ],
      "metadata": {
        "colab": {
          "base_uri": "https://localhost:8080/"
        },
        "id": "y2jX6LcTjcBw",
        "outputId": "b15b42f3-19e5-4111-fb6f-440f5a6ebe86"
      },
      "execution_count": null,
      "outputs": [
        {
          "output_type": "stream",
          "name": "stdout",
          "text": [
            "pclass         0\n",
            "sex            0\n",
            "age            0\n",
            "sibsp          0\n",
            "parch          0\n",
            "fare           0\n",
            "class          0\n",
            "who            0\n",
            "adult_male     0\n",
            "embark_town    0\n",
            "alive          0\n",
            "alone          0\n",
            "dtype: int64\n"
          ]
        }
      ]
    },
    {
      "cell_type": "markdown",
      "source": [
        "## 중복제거\n"
      ],
      "metadata": {
        "id": "w4R3VuPoqLzH"
      }
    },
    {
      "cell_type": "code",
      "source": [
        "df= pd.DataFrame({'c1':['a','a','b','a','b'],\n",
        "                  'c2':[1,1,1,2,2],\n",
        "                  'c3':[1,1,2,2,2]\n",
        "                  })\n",
        "\n",
        "print(df)"
      ],
      "metadata": {
        "colab": {
          "base_uri": "https://localhost:8080/"
        },
        "id": "QSocJ0j4qOac",
        "outputId": "38d211b8-1c8d-47f7-dfe5-2114323e0047"
      },
      "execution_count": null,
      "outputs": [
        {
          "output_type": "stream",
          "name": "stdout",
          "text": [
            "  c1  c2  c3\n",
            "0  a   1   1\n",
            "1  a   1   1\n",
            "2  b   1   2\n",
            "3  a   2   2\n",
            "4  b   2   2\n"
          ]
        }
      ]
    },
    {
      "cell_type": "code",
      "source": [
        "df_dup = df.duplicated()   # row 전체가 같으면 중복. df객체에서 중복인 row를 찾기. 불린값으로.\n",
        "print(df_dup)"
      ],
      "metadata": {
        "colab": {
          "base_uri": "https://localhost:8080/"
        },
        "id": "6Rjp89lJqoF8",
        "outputId": "6f0e95b9-9870-4ef7-e056-c7343802cfcd"
      },
      "execution_count": null,
      "outputs": [
        {
          "output_type": "stream",
          "name": "stdout",
          "text": [
            "0    False\n",
            "1     True\n",
            "2    False\n",
            "3    False\n",
            "4    False\n",
            "dtype: bool\n"
          ]
        }
      ]
    },
    {
      "cell_type": "code",
      "source": [
        "df_dup = df['c2'].duplicated()   #df의 c2컬럼만 보는 것. 중복의 기준은 이전에 나왔느냐이다. 그러니까 맨처음꺼는 중복일 수가 없음.\n",
        "print(df_dup)"
      ],
      "metadata": {
        "colab": {
          "base_uri": "https://localhost:8080/"
        },
        "id": "twp0sttOq5vc",
        "outputId": "8354e32d-696a-452c-d115-bfa2f55e0a57"
      },
      "execution_count": null,
      "outputs": [
        {
          "output_type": "stream",
          "name": "stdout",
          "text": [
            "0    False\n",
            "1     True\n",
            "2     True\n",
            "3    False\n",
            "4     True\n",
            "Name: c2, dtype: bool\n"
          ]
        }
      ]
    },
    {
      "cell_type": "code",
      "source": [
        "df2= df.drop_duplicates()            #df에서 중복row 제거한 것.\n",
        "print(df2)"
      ],
      "metadata": {
        "colab": {
          "base_uri": "https://localhost:8080/"
        },
        "id": "n3PBx3j0rYFs",
        "outputId": "f85a325d-defa-431b-9762-4574ee7e2b90"
      },
      "execution_count": null,
      "outputs": [
        {
          "output_type": "stream",
          "name": "stdout",
          "text": [
            "  c1  c2  c3\n",
            "0  a   1   1\n",
            "2  b   1   2\n",
            "3  a   2   2\n",
            "4  b   2   2\n"
          ]
        }
      ]
    },
    {
      "cell_type": "code",
      "source": [
        "df2= df.drop_duplicates(subset=['c2','c3'])   #df에서 c2와 c3 두컬럼의 값이 중복인 걸 제거한 객체 df2.\n",
        "print(df2)"
      ],
      "metadata": {
        "colab": {
          "base_uri": "https://localhost:8080/"
        },
        "id": "lW4-asTKrr_7",
        "outputId": "deaf1663-c402-4320-e5b3-c621212963d2"
      },
      "execution_count": null,
      "outputs": [
        {
          "output_type": "stream",
          "name": "stdout",
          "text": [
            "  c1  c2  c3\n",
            "0  a   1   1\n",
            "2  b   1   2\n",
            "3  a   2   2\n"
          ]
        }
      ]
    },
    {
      "cell_type": "markdown",
      "source": [
        "## 자동차 데이터 불러오자"
      ],
      "metadata": {
        "id": "Cio3ExqW5FI8"
      }
    },
    {
      "cell_type": "code",
      "source": [
        "df = pd.read_csv('./datasets/auto-mpg.csv', header= None)\n",
        "#파일을 새로 불러와보자\n",
        "df.columns = ['mpg', 'cylinders', 'displacement', 'horsepower', 'weight', 'acceleration', 'model year', 'origin', 'name']\n",
        "print(df.head())"
      ],
      "metadata": {
        "colab": {
          "base_uri": "https://localhost:8080/"
        },
        "id": "KsGWU6jHsAwL",
        "outputId": "669c1e55-b874-412b-a38d-752091ffe9ce"
      },
      "execution_count": null,
      "outputs": [
        {
          "output_type": "stream",
          "name": "stdout",
          "text": [
            "    mpg  cylinders  displacement horsepower  weight  acceleration  model year  \\\n",
            "0  18.0          8         307.0      130.0  3504.0          12.0          70   \n",
            "1  15.0          8         350.0      165.0  3693.0          11.5          70   \n",
            "2  18.0          8         318.0      150.0  3436.0          11.0          70   \n",
            "3  16.0          8         304.0      150.0  3433.0          12.0          70   \n",
            "4  17.0          8         302.0      140.0  3449.0          10.5          70   \n",
            "\n",
            "   origin                       name  \n",
            "0       1  chevrolet chevelle malibu  \n",
            "1       1          buick skylark 320  \n",
            "2       1         plymouth satellite  \n",
            "3       1              amc rebel sst  \n",
            "4       1                ford torino  \n"
          ]
        }
      ]
    },
    {
      "cell_type": "code",
      "source": [
        "mpg_to_kpl = 0.425144\n",
        "df['kpl']= df['mpg']*mpg_to_kpl\n",
        "#새 컬럼 만들었음\n",
        "print(df.head())"
      ],
      "metadata": {
        "colab": {
          "base_uri": "https://localhost:8080/"
        },
        "id": "vjs2Up4btVFs",
        "outputId": "656b1a0d-28cf-4320-8a38-d5ea99dd9543"
      },
      "execution_count": null,
      "outputs": [
        {
          "output_type": "stream",
          "name": "stdout",
          "text": [
            "    mpg  cylinders  displacement horsepower  weight  acceleration  model year  \\\n",
            "0  18.0          8         307.0      130.0  3504.0          12.0          70   \n",
            "1  15.0          8         350.0      165.0  3693.0          11.5          70   \n",
            "2  18.0          8         318.0      150.0  3436.0          11.0          70   \n",
            "3  16.0          8         304.0      150.0  3433.0          12.0          70   \n",
            "4  17.0          8         302.0      140.0  3449.0          10.5          70   \n",
            "\n",
            "   origin                       name       kpl  \n",
            "0       1  chevrolet chevelle malibu  7.652592  \n",
            "1       1          buick skylark 320  6.377160  \n",
            "2       1         plymouth satellite  7.652592  \n",
            "3       1              amc rebel sst  6.802304  \n",
            "4       1                ford torino  7.227448  \n"
          ]
        }
      ]
    },
    {
      "cell_type": "code",
      "source": [
        "df['kpl'] = df['kpl'].round(2)   #소수점처리함\n",
        "print(df.head())"
      ],
      "metadata": {
        "colab": {
          "base_uri": "https://localhost:8080/"
        },
        "id": "JnGd_DeLuE96",
        "outputId": "ce45efc1-2525-490d-9873-097f46e60d1f"
      },
      "execution_count": null,
      "outputs": [
        {
          "output_type": "stream",
          "name": "stdout",
          "text": [
            "    mpg  cylinders  displacement horsepower  weight  acceleration  model year  \\\n",
            "0  18.0          8         307.0      130.0  3504.0          12.0          70   \n",
            "1  15.0          8         350.0      165.0  3693.0          11.5          70   \n",
            "2  18.0          8         318.0      150.0  3436.0          11.0          70   \n",
            "3  16.0          8         304.0      150.0  3433.0          12.0          70   \n",
            "4  17.0          8         302.0      140.0  3449.0          10.5          70   \n",
            "\n",
            "   origin                       name   kpl  \n",
            "0       1  chevrolet chevelle malibu  7.65  \n",
            "1       1          buick skylark 320  6.38  \n",
            "2       1         plymouth satellite  7.65  \n",
            "3       1              amc rebel sst  6.80  \n",
            "4       1                ford torino  7.23  \n"
          ]
        }
      ]
    },
    {
      "cell_type": "code",
      "source": [
        "df.info()"
      ],
      "metadata": {
        "colab": {
          "base_uri": "https://localhost:8080/"
        },
        "id": "-by64b0Tu3RB",
        "outputId": "52904d71-7d68-431d-c59c-72f6d9899e1d"
      },
      "execution_count": null,
      "outputs": [
        {
          "output_type": "stream",
          "name": "stdout",
          "text": [
            "<class 'pandas.core.frame.DataFrame'>\n",
            "RangeIndex: 398 entries, 0 to 397\n",
            "Data columns (total 10 columns):\n",
            " #   Column        Non-Null Count  Dtype  \n",
            "---  ------        --------------  -----  \n",
            " 0   mpg           398 non-null    float64\n",
            " 1   cylinders     398 non-null    int64  \n",
            " 2   displacement  398 non-null    float64\n",
            " 3   horsepower    398 non-null    object \n",
            " 4   weight        398 non-null    float64\n",
            " 5   acceleration  398 non-null    float64\n",
            " 6   model year    398 non-null    int64  \n",
            " 7   origin        398 non-null    int64  \n",
            " 8   name          398 non-null    object \n",
            " 9   kpl           398 non-null    float64\n",
            "dtypes: float64(5), int64(3), object(2)\n",
            "memory usage: 31.2+ KB\n"
          ]
        }
      ]
    },
    {
      "cell_type": "markdown",
      "source": [
        "## 특정 컬럼의 고유값 가져온 후 , 이상값을 nan으로 바꾼 이후 전처리함.\n",
        "\n"
      ],
      "metadata": {
        "id": "jduMseP26w7L"
      }
    },
    {
      "cell_type": "code",
      "source": [
        "print(df['horsepower'].unique())"
      ],
      "metadata": {
        "colab": {
          "base_uri": "https://localhost:8080/"
        },
        "id": "PT5ky01avGda",
        "outputId": "d7a034de-f250-44c9-b330-4b522065e310"
      },
      "execution_count": null,
      "outputs": [
        {
          "output_type": "stream",
          "name": "stdout",
          "text": [
            "['130.0' '165.0' '150.0' '140.0' '198.0' '220.0' '215.0' '225.0' '190.0'\n",
            " '170.0' '160.0' '95.00' '97.00' '85.00' '88.00' '46.00' '87.00' '90.00'\n",
            " '113.0' '200.0' '210.0' '193.0' '?' '100.0' '105.0' '175.0' '153.0'\n",
            " '180.0' '110.0' '72.00' '86.00' '70.00' '76.00' '65.00' '69.00' '60.00'\n",
            " '80.00' '54.00' '208.0' '155.0' '112.0' '92.00' '145.0' '137.0' '158.0'\n",
            " '167.0' '94.00' '107.0' '230.0' '49.00' '75.00' '91.00' '122.0' '67.00'\n",
            " '83.00' '78.00' '52.00' '61.00' '93.00' '148.0' '129.0' '96.00' '71.00'\n",
            " '98.00' '115.0' '53.00' '81.00' '79.00' '120.0' '152.0' '102.0' '108.0'\n",
            " '68.00' '58.00' '149.0' '89.00' '63.00' '48.00' '66.00' '139.0' '103.0'\n",
            " '125.0' '133.0' '138.0' '135.0' '142.0' '77.00' '62.00' '132.0' '84.00'\n",
            " '64.00' '74.00' '116.0' '82.00']\n"
          ]
        }
      ]
    },
    {
      "cell_type": "code",
      "source": [
        "df['horsepower'].replace('?', np.nan, inplace=True)  #이상값은 일단 nan값으로 바꾼후에 여러가지 연산처리를 함."
      ],
      "metadata": {
        "id": "S5-hqhN5vPXC"
      },
      "execution_count": null,
      "outputs": []
    },
    {
      "cell_type": "markdown",
      "source": [
        "## 결측값 있는 row 삭제"
      ],
      "metadata": {
        "id": "_iivWH2q9QuQ"
      }
    },
    {
      "cell_type": "code",
      "source": [
        "df.dropna(subset=['horsepower'], axis=0, inplace=True)\n",
        "# horsepower 컬럼 중 결측값이 있는 row를 삭제해라\n",
        "\n",
        "df['horsepower']= df['horsepower'].astype('float')\n",
        "df.info()"
      ],
      "metadata": {
        "colab": {
          "base_uri": "https://localhost:8080/"
        },
        "id": "2K5VTKktvlBj",
        "outputId": "9a272e33-ac69-4f37-81eb-65149c49ec5d"
      },
      "execution_count": null,
      "outputs": [
        {
          "output_type": "stream",
          "name": "stdout",
          "text": [
            "<class 'pandas.core.frame.DataFrame'>\n",
            "Int64Index: 392 entries, 0 to 397\n",
            "Data columns (total 10 columns):\n",
            " #   Column        Non-Null Count  Dtype  \n",
            "---  ------        --------------  -----  \n",
            " 0   mpg           392 non-null    float64\n",
            " 1   cylinders     392 non-null    int64  \n",
            " 2   displacement  392 non-null    float64\n",
            " 3   horsepower    392 non-null    float64\n",
            " 4   weight        392 non-null    float64\n",
            " 5   acceleration  392 non-null    float64\n",
            " 6   model year    392 non-null    int64  \n",
            " 7   origin        392 non-null    int64  \n",
            " 8   name          392 non-null    object \n",
            " 9   kpl           392 non-null    float64\n",
            "dtypes: float64(6), int64(3), object(1)\n",
            "memory usage: 33.7+ KB\n"
          ]
        }
      ]
    },
    {
      "cell_type": "code",
      "source": [
        "print(df['horsepower'].unique())"
      ],
      "metadata": {
        "colab": {
          "base_uri": "https://localhost:8080/"
        },
        "id": "9tEGvFeGwE07",
        "outputId": "152538ed-d50b-4386-d332-e664cf522aa0"
      },
      "execution_count": null,
      "outputs": [
        {
          "output_type": "stream",
          "name": "stdout",
          "text": [
            "[130. 165. 150. 140. 198. 220. 215. 225. 190. 170. 160.  95.  97.  85.\n",
            "  88.  46.  87.  90. 113. 200. 210. 193. 100. 105. 175. 153. 180. 110.\n",
            "  72.  86.  70.  76.  65.  69.  60.  80.  54. 208. 155. 112.  92. 145.\n",
            " 137. 158. 167.  94. 107. 230.  49.  75.  91. 122.  67.  83.  78.  52.\n",
            "  61.  93. 148. 129.  96.  71.  98. 115.  53.  81.  79. 120. 152. 102.\n",
            " 108.  68.  58. 149.  89.  63.  48.  66. 139. 103. 125. 133. 138. 135.\n",
            " 142.  77.  62. 132.  84.  64.  74. 116.  82.]\n"
          ]
        }
      ]
    },
    {
      "cell_type": "markdown",
      "source": [
        "## 분류값 가지는 컬럼의 값을 다른 값으로 대체 - 컬럼의 데이터타입 변경"
      ],
      "metadata": {
        "id": "eqEAxopB9XTK"
      }
    },
    {
      "cell_type": "code",
      "source": [
        "df['origin'].replace({1:'USA', 2:'EU', 3:'JP'}, inplace=True)\n",
        "print(df['origin'].unique())\n",
        "print(df['origin'].value_counts())"
      ],
      "metadata": {
        "id": "h029Q2V_wk1a",
        "colab": {
          "base_uri": "https://localhost:8080/"
        },
        "outputId": "768b0372-bf69-4690-f432-aa6b692dc79e"
      },
      "execution_count": null,
      "outputs": [
        {
          "output_type": "stream",
          "name": "stdout",
          "text": [
            "['USA' 'JP' 'EU']\n",
            "USA    245\n",
            "JP      79\n",
            "EU      68\n",
            "Name: origin, dtype: int64\n"
          ]
        }
      ]
    },
    {
      "cell_type": "code",
      "source": [
        "print(df['origin'].dtypes)"
      ],
      "metadata": {
        "colab": {
          "base_uri": "https://localhost:8080/"
        },
        "id": "ZHkz3KGPJNlG",
        "outputId": "c10825a9-7e76-457c-ea3b-da152fae465b"
      },
      "execution_count": null,
      "outputs": [
        {
          "output_type": "stream",
          "name": "stdout",
          "text": [
            "object\n"
          ]
        }
      ]
    },
    {
      "cell_type": "code",
      "source": [
        "df['origin'] = df['origin'].astype('category')           #카테고리 (분류) 라는 데이터타입이 있음\n",
        "print(df['origin'].dtypes)\n",
        "print(df['origin'])"
      ],
      "metadata": {
        "colab": {
          "base_uri": "https://localhost:8080/"
        },
        "id": "tFUToSqPKB_u",
        "outputId": "1f7e009c-9a60-47ce-97e0-dbd8cc6b578c"
      },
      "execution_count": null,
      "outputs": [
        {
          "output_type": "stream",
          "name": "stdout",
          "text": [
            "category\n",
            "0      USA\n",
            "1      USA\n",
            "2      USA\n",
            "3      USA\n",
            "4      USA\n",
            "      ... \n",
            "393    USA\n",
            "394     EU\n",
            "395    USA\n",
            "396    USA\n",
            "397    USA\n",
            "Name: origin, Length: 392, dtype: category\n",
            "Categories (3, object): ['EU', 'JP', 'USA']\n"
          ]
        }
      ]
    },
    {
      "cell_type": "code",
      "source": [
        "df['origin'] = df['origin'].astype('str')\n",
        "print(df['origin'].dtypes)\n",
        "print(df['origin'])"
      ],
      "metadata": {
        "colab": {
          "base_uri": "https://localhost:8080/"
        },
        "id": "tJ8fJh-GKaQn",
        "outputId": "320fc161-f769-4e47-e519-d2d07c8de411"
      },
      "execution_count": null,
      "outputs": [
        {
          "output_type": "stream",
          "name": "stdout",
          "text": [
            "object\n",
            "0      USA\n",
            "1      USA\n",
            "2      USA\n",
            "3      USA\n",
            "4      USA\n",
            "      ... \n",
            "393    USA\n",
            "394     EU\n",
            "395    USA\n",
            "396    USA\n",
            "397    USA\n",
            "Name: origin, Length: 392, dtype: object\n"
          ]
        }
      ]
    },
    {
      "cell_type": "markdown",
      "source": [
        "# 컬럼값 구간 나누기\n"
      ],
      "metadata": {
        "id": "RmclCeuW-EbZ"
      }
    },
    {
      "cell_type": "code",
      "source": [
        "count, bin_dividers = np.histogram(df['horsepower'], bins=3)    #3개 구간으로 알아서 나눠줌\n",
        "print(count)        #마력을 저출력 중출력 고출력 3개 구간으로 나눈거임\n",
        "print(bin_dividers)    #최소값/ 경계/ 경계 / 최대값 나온 거임."
      ],
      "metadata": {
        "colab": {
          "base_uri": "https://localhost:8080/"
        },
        "id": "dXQv9vh1Ktk3",
        "outputId": "6cec5330-74e1-42b5-fdd4-3c4b28308dfd"
      },
      "execution_count": null,
      "outputs": [
        {
          "output_type": "stream",
          "name": "stdout",
          "text": [
            "[257 103  32]\n",
            "[ 46.         107.33333333 168.66666667 230.        ]\n"
          ]
        }
      ]
    },
    {
      "cell_type": "code",
      "source": [
        "bin_names=['저출력', '보통출력', '고출력']\n",
        "df['hp_bin'] = pd.cut(x=df['horsepower'], bins=bin_dividers, labels=bin_names , include_lowest=True  )\n",
        "#include_lowest면  작은쪽 경계값도 포함하겠다는 것.  107.33333이 나오면 중출력으로 간다는 거.\n",
        "\n",
        "print(df[['horsepower', 'hp_bin']].head(20))"
      ],
      "metadata": {
        "colab": {
          "base_uri": "https://localhost:8080/"
        },
        "id": "SidAT4y2MLRb",
        "outputId": "5ed54a4d-4923-483f-ea9a-e912e52b9cc4"
      },
      "execution_count": null,
      "outputs": [
        {
          "output_type": "stream",
          "name": "stdout",
          "text": [
            "    horsepower hp_bin\n",
            "0        130.0   보통출력\n",
            "1        165.0   보통출력\n",
            "2        150.0   보통출력\n",
            "3        150.0   보통출력\n",
            "4        140.0   보통출력\n",
            "5        198.0    고출력\n",
            "6        220.0    고출력\n",
            "7        215.0    고출력\n",
            "8        225.0    고출력\n",
            "9        190.0    고출력\n",
            "10       170.0    고출력\n",
            "11       160.0   보통출력\n",
            "12       150.0   보통출력\n",
            "13       225.0    고출력\n",
            "14        95.0    저출력\n",
            "15        95.0    저출력\n",
            "16        97.0    저출력\n",
            "17        85.0    저출력\n",
            "18        88.0    저출력\n",
            "19        46.0    저출력\n"
          ]
        }
      ]
    },
    {
      "cell_type": "code",
      "source": [
        "df.info()"
      ],
      "metadata": {
        "colab": {
          "base_uri": "https://localhost:8080/"
        },
        "id": "Irm6IWUVLr7B",
        "outputId": "489bd129-f52e-4adc-feb4-6af28ca5076c"
      },
      "execution_count": null,
      "outputs": [
        {
          "output_type": "stream",
          "name": "stdout",
          "text": [
            "<class 'pandas.core.frame.DataFrame'>\n",
            "Int64Index: 392 entries, 0 to 397\n",
            "Data columns (total 11 columns):\n",
            " #   Column        Non-Null Count  Dtype   \n",
            "---  ------        --------------  -----   \n",
            " 0   mpg           392 non-null    float64 \n",
            " 1   cylinders     392 non-null    int64   \n",
            " 2   displacement  392 non-null    float64 \n",
            " 3   horsepower    392 non-null    float64 \n",
            " 4   weight        392 non-null    float64 \n",
            " 5   acceleration  392 non-null    float64 \n",
            " 6   model year    392 non-null    int64   \n",
            " 7   origin        392 non-null    object  \n",
            " 8   name          392 non-null    object  \n",
            " 9   kpl           392 non-null    float64 \n",
            " 10  hp_bin        392 non-null    category\n",
            "dtypes: category(1), float64(6), int64(2), object(2)\n",
            "memory usage: 34.2+ KB\n"
          ]
        }
      ]
    },
    {
      "cell_type": "markdown",
      "source": [
        "# 라벨인코더와 원핫 인코더"
      ],
      "metadata": {
        "id": "O-JCFUxksaZn"
      }
    },
    {
      "cell_type": "code",
      "source": [
        "label_encoder= preprocessing.LabelEncoder()        #LabelEncoder 객체 만들었음. 처음엔 빈 상태임.\n",
        "onehot_encoder = preprocessing.OneHotEncoder()\n",
        "#print(label_encoder.classes_)  #에러남. 클래스가 없기 때문임. 아직 객체만 만들었고, 뭘 카테고리로 나누지 않았기 때문에 클래스가 없는 거임."
      ],
      "metadata": {
        "id": "pzvKvRA-NRDX"
      },
      "execution_count": null,
      "outputs": []
    },
    {
      "cell_type": "code",
      "source": [
        "hp_bin_labeled= label_encoder.fit_transform(df['hp_bin'].head(15))            #저출력 중출력 고출력을 다시 0 1 2로 바꾼 거임.\n",
        "#엔코더에게 데이터를 줌 (괄호안에 데이터), 그거 주고나면 fit_transform하면 라벨 붙여주면서 클래스가 생겼고, 이제 클래스 출력이 됨.\n",
        "#줄바꿈 하고 싶으면 \\ 넣으면 됨\n",
        "print(hp_bin_labeled)\n",
        "print(type(hp_bin_labeled))   #넘파이객체임\n",
        "print(label_encoder.classes_)   #이결과로 나온 순서의 인덱스가 0, 1, 2임.\n"
      ],
      "metadata": {
        "colab": {
          "base_uri": "https://localhost:8080/"
        },
        "id": "-LCP_c8UR1F0",
        "outputId": "58de4990-ff80-4ad9-ac1e-25184a928262"
      },
      "execution_count": null,
      "outputs": [
        {
          "output_type": "stream",
          "name": "stdout",
          "text": [
            "[1 1 1 1 1 0 0 0 0 0 0 1 1 0 2]\n",
            "<class 'numpy.ndarray'>\n",
            "['고출력' '보통출력' '저출력']\n"
          ]
        }
      ]
    },
    {
      "cell_type": "code",
      "source": [
        "#onehot encoder. 머신러닝 학습할 때 이런식으로 바꿔서 제공한다? \n",
        "#0 = [1 0 0 0 0 0]\n",
        "#1 =  [ 0 1 0 0 0 0] ...\n",
        "\n",
        "print(hp_bin_labeled.shape)\n",
        "\n",
        "\n",
        "#튜플은 하나만 있어도 뒤에 콤마를 찍었었음..\n",
        "\n"
      ],
      "metadata": {
        "colab": {
          "base_uri": "https://localhost:8080/"
        },
        "id": "9OMPqYQ7SR7E",
        "outputId": "dafb1685-cbc0-4593-ad6e-b518478aaf4d"
      },
      "execution_count": null,
      "outputs": [
        {
          "output_type": "stream",
          "name": "stdout",
          "text": [
            "(15,)\n"
          ]
        }
      ]
    },
    {
      "cell_type": "code",
      "source": [
        "#hp bin labeled 15개를 각각 리스트로 묶고 원핫인코더로 바꿔준다 ?\n",
        "\n",
        "hp_bin_labeled= hp_bin_labeled.reshape(-1, 1)             #-1은 니가 알아서 해 라는 의미임.  (-1, 5) 이렇게 하면 (3,5)로 나오는 거임.\n",
        "print(hp_bin_labeled)\n"
      ],
      "metadata": {
        "colab": {
          "base_uri": "https://localhost:8080/"
        },
        "id": "vuh_C22IU88n",
        "outputId": "00fbfe46-bdba-4b29-9449-f6d557aa8e1a"
      },
      "execution_count": null,
      "outputs": [
        {
          "output_type": "stream",
          "name": "stdout",
          "text": [
            "[[1]\n",
            " [1]\n",
            " [1]\n",
            " [1]\n",
            " [1]\n",
            " [0]\n",
            " [0]\n",
            " [0]\n",
            " [0]\n",
            " [0]\n",
            " [0]\n",
            " [1]\n",
            " [1]\n",
            " [0]\n",
            " [2]]\n"
          ]
        }
      ]
    },
    {
      "cell_type": "code",
      "source": [
        "hp_bin_labeled= hp_bin_labeled.reshape(-1, 1, 3)             #이러면 3차원 행렬.\n",
        "print(hp_bin_labeled)"
      ],
      "metadata": {
        "colab": {
          "base_uri": "https://localhost:8080/"
        },
        "id": "RMEhx4e5VW4P",
        "outputId": "7cbe0108-b0ed-454b-faf6-c78936fb2869"
      },
      "execution_count": null,
      "outputs": [
        {
          "output_type": "stream",
          "name": "stdout",
          "text": [
            "[[[1 1 1]]\n",
            "\n",
            " [[1 1 0]]\n",
            "\n",
            " [[0 0 0]]\n",
            "\n",
            " [[0 0 1]]\n",
            "\n",
            " [[1 0 2]]]\n"
          ]
        }
      ]
    },
    {
      "cell_type": "code",
      "source": [
        "hp_bin_labeled= hp_bin_labeled.reshape(-1, 1)             #이제 이걸 원핫인코더에 주자.\n",
        "print(hp_bin_labeled)"
      ],
      "metadata": {
        "colab": {
          "base_uri": "https://localhost:8080/"
        },
        "id": "JUWN45kXV9dA",
        "outputId": "fd176fa4-8a7e-4b54-d846-268480efaca7"
      },
      "execution_count": null,
      "outputs": [
        {
          "output_type": "stream",
          "name": "stdout",
          "text": [
            "[[1]\n",
            " [1]\n",
            " [1]\n",
            " [1]\n",
            " [1]\n",
            " [0]\n",
            " [0]\n",
            " [0]\n",
            " [0]\n",
            " [0]\n",
            " [0]\n",
            " [1]\n",
            " [1]\n",
            " [0]\n",
            " [2]]\n"
          ]
        }
      ]
    },
    {
      "cell_type": "code",
      "source": [
        "onehot_pitted = onehot_encoder.fit_transform(hp_bin_labeled)\n",
        "print(onehot_pitted)"
      ],
      "metadata": {
        "colab": {
          "base_uri": "https://localhost:8080/"
        },
        "id": "GuaWtl_5WDIn",
        "outputId": "98b8b7ba-7725-452a-be8a-eab83fe71cbf"
      },
      "execution_count": null,
      "outputs": [
        {
          "output_type": "stream",
          "name": "stdout",
          "text": [
            "  (0, 1)\t1.0\n",
            "  (1, 1)\t1.0\n",
            "  (2, 1)\t1.0\n",
            "  (3, 1)\t1.0\n",
            "  (4, 1)\t1.0\n",
            "  (5, 0)\t1.0\n",
            "  (6, 0)\t1.0\n",
            "  (7, 0)\t1.0\n",
            "  (8, 0)\t1.0\n",
            "  (9, 0)\t1.0\n",
            "  (10, 0)\t1.0\n",
            "  (11, 1)\t1.0\n",
            "  (12, 1)\t1.0\n",
            "  (13, 0)\t1.0\n",
            "  (14, 2)\t1.0\n"
          ]
        }
      ]
    },
    {
      "cell_type": "code",
      "source": [
        "# 원핫인코더, 희소행렬 표현법.   0번행렬은 1번이(2번이) 값이 1이다  =  (0,1)   1   이렇게 표현\n",
        "#희소행렬 표현법. 대부분 다 0이기 때문에 0이 아닌 것의 좌표를 알려준 거임.\n",
        "\n",
        "\n",
        "#예를들어 마지막 14행(15번째)는 2값임. 이거는 [0, 0, 1] 이거지. 그래서 (14,2)에  1이 들어가 있다는 거지."
      ],
      "metadata": {
        "id": "LWb9U0NuWPBw"
      },
      "execution_count": null,
      "outputs": []
    },
    {
      "cell_type": "code",
      "source": [
        "df1= df[['horsepower', 'hp_bin']]\n",
        "df2= pd.get_dummies(df1)\n",
        "df2"
      ],
      "metadata": {
        "colab": {
          "base_uri": "https://localhost:8080/",
          "height": 424
        },
        "id": "9ZNP2vSoXk-C",
        "outputId": "6b82232a-13c5-4e4a-ee25-fb8744372e83"
      },
      "execution_count": null,
      "outputs": [
        {
          "output_type": "execute_result",
          "data": {
            "text/plain": [
              "     horsepower  hp_bin_저출력  hp_bin_보통출력  hp_bin_고출력\n",
              "0         130.0           0            1           0\n",
              "1         165.0           0            1           0\n",
              "2         150.0           0            1           0\n",
              "3         150.0           0            1           0\n",
              "4         140.0           0            1           0\n",
              "..          ...         ...          ...         ...\n",
              "393        86.0           1            0           0\n",
              "394        52.0           1            0           0\n",
              "395        84.0           1            0           0\n",
              "396        79.0           1            0           0\n",
              "397        82.0           1            0           0\n",
              "\n",
              "[392 rows x 4 columns]"
            ],
            "text/html": [
              "\n",
              "  <div id=\"df-c286f515-aed7-466b-b9e9-b3d8be7aae05\">\n",
              "    <div class=\"colab-df-container\">\n",
              "      <div>\n",
              "<style scoped>\n",
              "    .dataframe tbody tr th:only-of-type {\n",
              "        vertical-align: middle;\n",
              "    }\n",
              "\n",
              "    .dataframe tbody tr th {\n",
              "        vertical-align: top;\n",
              "    }\n",
              "\n",
              "    .dataframe thead th {\n",
              "        text-align: right;\n",
              "    }\n",
              "</style>\n",
              "<table border=\"1\" class=\"dataframe\">\n",
              "  <thead>\n",
              "    <tr style=\"text-align: right;\">\n",
              "      <th></th>\n",
              "      <th>horsepower</th>\n",
              "      <th>hp_bin_저출력</th>\n",
              "      <th>hp_bin_보통출력</th>\n",
              "      <th>hp_bin_고출력</th>\n",
              "    </tr>\n",
              "  </thead>\n",
              "  <tbody>\n",
              "    <tr>\n",
              "      <th>0</th>\n",
              "      <td>130.0</td>\n",
              "      <td>0</td>\n",
              "      <td>1</td>\n",
              "      <td>0</td>\n",
              "    </tr>\n",
              "    <tr>\n",
              "      <th>1</th>\n",
              "      <td>165.0</td>\n",
              "      <td>0</td>\n",
              "      <td>1</td>\n",
              "      <td>0</td>\n",
              "    </tr>\n",
              "    <tr>\n",
              "      <th>2</th>\n",
              "      <td>150.0</td>\n",
              "      <td>0</td>\n",
              "      <td>1</td>\n",
              "      <td>0</td>\n",
              "    </tr>\n",
              "    <tr>\n",
              "      <th>3</th>\n",
              "      <td>150.0</td>\n",
              "      <td>0</td>\n",
              "      <td>1</td>\n",
              "      <td>0</td>\n",
              "    </tr>\n",
              "    <tr>\n",
              "      <th>4</th>\n",
              "      <td>140.0</td>\n",
              "      <td>0</td>\n",
              "      <td>1</td>\n",
              "      <td>0</td>\n",
              "    </tr>\n",
              "    <tr>\n",
              "      <th>...</th>\n",
              "      <td>...</td>\n",
              "      <td>...</td>\n",
              "      <td>...</td>\n",
              "      <td>...</td>\n",
              "    </tr>\n",
              "    <tr>\n",
              "      <th>393</th>\n",
              "      <td>86.0</td>\n",
              "      <td>1</td>\n",
              "      <td>0</td>\n",
              "      <td>0</td>\n",
              "    </tr>\n",
              "    <tr>\n",
              "      <th>394</th>\n",
              "      <td>52.0</td>\n",
              "      <td>1</td>\n",
              "      <td>0</td>\n",
              "      <td>0</td>\n",
              "    </tr>\n",
              "    <tr>\n",
              "      <th>395</th>\n",
              "      <td>84.0</td>\n",
              "      <td>1</td>\n",
              "      <td>0</td>\n",
              "      <td>0</td>\n",
              "    </tr>\n",
              "    <tr>\n",
              "      <th>396</th>\n",
              "      <td>79.0</td>\n",
              "      <td>1</td>\n",
              "      <td>0</td>\n",
              "      <td>0</td>\n",
              "    </tr>\n",
              "    <tr>\n",
              "      <th>397</th>\n",
              "      <td>82.0</td>\n",
              "      <td>1</td>\n",
              "      <td>0</td>\n",
              "      <td>0</td>\n",
              "    </tr>\n",
              "  </tbody>\n",
              "</table>\n",
              "<p>392 rows × 4 columns</p>\n",
              "</div>\n",
              "      <button class=\"colab-df-convert\" onclick=\"convertToInteractive('df-c286f515-aed7-466b-b9e9-b3d8be7aae05')\"\n",
              "              title=\"Convert this dataframe to an interactive table.\"\n",
              "              style=\"display:none;\">\n",
              "        \n",
              "  <svg xmlns=\"http://www.w3.org/2000/svg\" height=\"24px\"viewBox=\"0 0 24 24\"\n",
              "       width=\"24px\">\n",
              "    <path d=\"M0 0h24v24H0V0z\" fill=\"none\"/>\n",
              "    <path d=\"M18.56 5.44l.94 2.06.94-2.06 2.06-.94-2.06-.94-.94-2.06-.94 2.06-2.06.94zm-11 1L8.5 8.5l.94-2.06 2.06-.94-2.06-.94L8.5 2.5l-.94 2.06-2.06.94zm10 10l.94 2.06.94-2.06 2.06-.94-2.06-.94-.94-2.06-.94 2.06-2.06.94z\"/><path d=\"M17.41 7.96l-1.37-1.37c-.4-.4-.92-.59-1.43-.59-.52 0-1.04.2-1.43.59L10.3 9.45l-7.72 7.72c-.78.78-.78 2.05 0 2.83L4 21.41c.39.39.9.59 1.41.59.51 0 1.02-.2 1.41-.59l7.78-7.78 2.81-2.81c.8-.78.8-2.07 0-2.86zM5.41 20L4 18.59l7.72-7.72 1.47 1.35L5.41 20z\"/>\n",
              "  </svg>\n",
              "      </button>\n",
              "      \n",
              "  <style>\n",
              "    .colab-df-container {\n",
              "      display:flex;\n",
              "      flex-wrap:wrap;\n",
              "      gap: 12px;\n",
              "    }\n",
              "\n",
              "    .colab-df-convert {\n",
              "      background-color: #E8F0FE;\n",
              "      border: none;\n",
              "      border-radius: 50%;\n",
              "      cursor: pointer;\n",
              "      display: none;\n",
              "      fill: #1967D2;\n",
              "      height: 32px;\n",
              "      padding: 0 0 0 0;\n",
              "      width: 32px;\n",
              "    }\n",
              "\n",
              "    .colab-df-convert:hover {\n",
              "      background-color: #E2EBFA;\n",
              "      box-shadow: 0px 1px 2px rgba(60, 64, 67, 0.3), 0px 1px 3px 1px rgba(60, 64, 67, 0.15);\n",
              "      fill: #174EA6;\n",
              "    }\n",
              "\n",
              "    [theme=dark] .colab-df-convert {\n",
              "      background-color: #3B4455;\n",
              "      fill: #D2E3FC;\n",
              "    }\n",
              "\n",
              "    [theme=dark] .colab-df-convert:hover {\n",
              "      background-color: #434B5C;\n",
              "      box-shadow: 0px 1px 3px 1px rgba(0, 0, 0, 0.15);\n",
              "      filter: drop-shadow(0px 1px 2px rgba(0, 0, 0, 0.3));\n",
              "      fill: #FFFFFF;\n",
              "    }\n",
              "  </style>\n",
              "\n",
              "      <script>\n",
              "        const buttonEl =\n",
              "          document.querySelector('#df-c286f515-aed7-466b-b9e9-b3d8be7aae05 button.colab-df-convert');\n",
              "        buttonEl.style.display =\n",
              "          google.colab.kernel.accessAllowed ? 'block' : 'none';\n",
              "\n",
              "        async function convertToInteractive(key) {\n",
              "          const element = document.querySelector('#df-c286f515-aed7-466b-b9e9-b3d8be7aae05');\n",
              "          const dataTable =\n",
              "            await google.colab.kernel.invokeFunction('convertToInteractive',\n",
              "                                                     [key], {});\n",
              "          if (!dataTable) return;\n",
              "\n",
              "          const docLinkHtml = 'Like what you see? Visit the ' +\n",
              "            '<a target=\"_blank\" href=https://colab.research.google.com/notebooks/data_table.ipynb>data table notebook</a>'\n",
              "            + ' to learn more about interactive tables.';\n",
              "          element.innerHTML = '';\n",
              "          dataTable['output_type'] = 'display_data';\n",
              "          await google.colab.output.renderOutput(dataTable, element);\n",
              "          const docLink = document.createElement('div');\n",
              "          docLink.innerHTML = docLinkHtml;\n",
              "          element.appendChild(docLink);\n",
              "        }\n",
              "      </script>\n",
              "    </div>\n",
              "  </div>\n",
              "  "
            ]
          },
          "metadata": {},
          "execution_count": 73
        }
      ]
    },
    {
      "cell_type": "markdown",
      "source": [
        "## MinMaxScaler"
      ],
      "metadata": {
        "id": "EiSXFqdtuUmX"
      }
    },
    {
      "cell_type": "code",
      "source": [
        "from sklearn.preprocessing import StandardScaler                    #sklearn에 통계분석 위한 게 많이 들어있음\n",
        "from sklearn.preprocessing import Normalizer\n",
        "from sklearn.preprocessing import MinMaxScaler   #최솟값은0 최댓값은1에 맞춰서 비례적으로 바꿔주는 거임.\n",
        "import numpy as np\n",
        "\n",
        "data= np.array([4,5,6,7,8])\n",
        "min= 4\n",
        "max= 8\n"
      ],
      "metadata": {
        "id": "4pvENnJjYDDI"
      },
      "execution_count": null,
      "outputs": []
    },
    {
      "cell_type": "code",
      "source": [
        "data1= data -4\n",
        "print(data1)"
      ],
      "metadata": {
        "colab": {
          "base_uri": "https://localhost:8080/"
        },
        "id": "Ruq8hmNgZdEP",
        "outputId": "c7feea74-c868-4573-a835-49856299c44a"
      },
      "execution_count": null,
      "outputs": [
        {
          "output_type": "stream",
          "name": "stdout",
          "text": [
            "[0 1 2 3 4]\n"
          ]
        }
      ]
    },
    {
      "cell_type": "code",
      "source": [
        "data1= data1/4\n",
        "print(data1)"
      ],
      "metadata": {
        "colab": {
          "base_uri": "https://localhost:8080/"
        },
        "id": "RJdNf-NjZvTv",
        "outputId": "66b24a33-76e3-4aa7-f2c7-710c209a2db1"
      },
      "execution_count": null,
      "outputs": [
        {
          "output_type": "stream",
          "name": "stdout",
          "text": [
            "[0.   0.25 0.5  0.75 1.  ]\n"
          ]
        }
      ]
    },
    {
      "cell_type": "code",
      "source": [
        "# data = (data-min)/(max-min)"
      ],
      "metadata": {
        "id": "lkKcj5DJeORR"
      },
      "execution_count": null,
      "outputs": []
    },
    {
      "cell_type": "code",
      "source": [
        "minmaxscaler=  MinMaxScaler()\n",
        "data3 = minmaxscaler.fit_transform(data.reshape(-1,1))\n",
        "print(data3)\n"
      ],
      "metadata": {
        "colab": {
          "base_uri": "https://localhost:8080/"
        },
        "id": "W9MXUy2Heb2v",
        "outputId": "857e75e3-1ff4-4a06-ca6f-af4bd4015367"
      },
      "execution_count": null,
      "outputs": [
        {
          "output_type": "stream",
          "name": "stdout",
          "text": [
            "[[0.  ]\n",
            " [0.25]\n",
            " [0.5 ]\n",
            " [0.75]\n",
            " [1.  ]]\n"
          ]
        }
      ]
    },
    {
      "cell_type": "code",
      "source": [
        ""
      ],
      "metadata": {
        "id": "RF1cz3jEe_aX"
      },
      "execution_count": null,
      "outputs": []
    }
  ]
}