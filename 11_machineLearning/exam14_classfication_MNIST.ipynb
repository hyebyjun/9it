{
 "cells": [
  {
   "cell_type": "code",
   "execution_count": 3,
   "metadata": {},
   "outputs": [],
   "source": [
    "from tensorflow.keras.models import Sequential\n",
    "from tensorflow.keras.layers import Dense, Dropout\n",
    "from tensorflow.keras.optimizers import Adam\n",
    "from tensorflow.keras import datasets\n",
    "from keras.utils import np_utils\n",
    "import pandas as pd\n",
    "import numpy as np\n",
    "import matplotlib.pyplot as plt\n",
    "plt.rcParams['figure.figsize'] = [12, 8]\n",
    "from sklearn.preprocessing import StandardScaler\n",
    "from sklearn.preprocessing import OneHotEncoder\n",
    "from sklearn.model_selection import train_test_split\n",
    "from sklearn.datasets import load_iris"
   ]
  },
  {
   "cell_type": "code",
   "execution_count": 4,
   "metadata": {},
   "outputs": [
    {
     "name": "stdout",
     "output_type": "stream",
     "text": [
      "(60000, 28, 28) (60000,)\n",
      "(10000, 28, 28) (10000,)\n"
     ]
    }
   ],
   "source": [
    "(X_train, Y_train), (X_test, Y_test) = datasets.mnist.load_data()\n",
    "print(X_train.shape, Y_train.shape)\n",
    "print(X_test.shape, Y_test.shape)"
   ]
  },
  {
   "cell_type": "code",
   "execution_count": 5,
   "metadata": {},
   "outputs": [
    {
     "data": {
      "image/png": "[encoded data removed]",
      "text/plain": [
       "<Figure size 864x576 with 1 Axes>"
      ]
     },
     "metadata": {
      "needs_background": "light"
     },
     "output_type": "display_data"
    },
    {
     "name": "stdout",
     "output_type": "stream",
     "text": [
      "6\n",
      "[[  0   0   0   0   0   0   0   0   0   0   0   0   0   0   0   0   0   0\n",
      "    0   0   0   0   0   0   0   0   0   0]\n",
      " [  0   0   0   0   0   0   0   0   0   0   0   0   0   0   0   0   0   0\n",
      "    0   0   0   0   0   0   0   0   0   0]\n",
      " [  0   0   0   0   0   0   0   0   0   0   0   0   0   0   0   0  26 170\n",
      "   32   0   0   0   0   0   0   0   0   0]\n",
      " [  0   0   0   0   0   0   0   0   0   0   0   0   0   0   0  30 214 254\n",
      "  198   0   0   0   0   0   0   0   0   0]\n",
      " [  0   0   0   0   0   0   0   0   0   0   0   0   0   0   0 191 253 254\n",
      "  206   0   0   0   0   0   0   0   0   0]\n",
      " [  0   0   0   0   0   0   0   0   0   0   0   0   0   0  85 224 253 254\n",
      "  173   0   0   0   0   0   0   0   0   0]\n",
      " [  0   0   0   0   0   0   0   0   0   0   0   0   0  70 245 254 254 185\n",
      "    0   0   0   0   0   0   0   0   0   0]\n",
      " [  0   0   0   0   0   0   0   0   0   0   0   0   0 178 253 248 173  50\n",
      "    0   0   0   0   0   0   0   0   0   0]\n",
      " [  0   0   0   0   0   0   0   0   0   0   0   3 157 254 253 154   0   0\n",
      "    0   0   0   0   0   0   0   0   0   0]\n",
      " [  0   0   0   0   0   0   0   0   0   0   0 125 253 254 253 137   0   0\n",
      "    0   0   0   0   0   0   0   0   0   0]\n",
      " [  0   0   0   0   0   0   0   0   0   0  13 221 254 255  90   0   0   0\n",
      "    0   0   0   0   0   0   0   0   0   0]\n",
      " [  0   0   0   0   0   0   0   0   0   0 147 253 253 140   2   0   0   0\n",
      "    0   0   0   0   0   0   0   0   0   0]\n",
      " [  0   0   0   0   0   0   0   0   0   0 222 253 253  59   0   0   0   0\n",
      "    0   0   0   0   0   0   0   0   0   0]\n",
      " [  0   0   0   0   0   0   0   0   0   0 206 253 253  59   0   0   0   0\n",
      "    0   0   0   0   0   0   0   0   0   0]\n",
      " [  0   0   0   0   0   0   0   0   0  95 254 254 161   0   0   0  51  51\n",
      "    0   0   0   0   0   0   0   0   0   0]\n",
      " [  0   0   0   0   0   0   0   0   0 161 253 189  40   0   9 130 247 248\n",
      "  214 130  13   0   0   0   0   0   0   0]\n",
      " [  0   0   0   0   0   0   0   0   0 161 253 137   0   0  97 253 253 254\n",
      "  253 253  77   0   0   0   0   0   0   0]\n",
      " [  0   0   0   0   0   0   0   0   0 161 253 137   0   0 230 253 253 254\n",
      "  253 253 160   0   0   0   0   0   0   0]\n",
      " [  0   0   0   0   0   0   0   0   0 187 254 138   0  26 239 247 235 229\n",
      "  254 254 186   0   0   0   0   0   0   0]\n",
      " [  0   0   0   0   0   0   0   0   0 186 253 158  13   0  21  21  17 212\n",
      "  253 253 236   0   0   0   0   0   0   0]\n",
      " [  0   0   0   0   0   0   0   0   0 136 253 253 220 116 116 116 182 254\n",
      "  253 234  79   0   0   0   0   0   0   0]\n",
      " [  0   0   0   0   0   0   0   0   0 104 253 253 253 254 253 253 253 254\n",
      "  236  29   0   0   0   0   0   0   0   0]\n",
      " [  0   0   0   0   0   0   0   0   0   0   0   0   0   0   0   0   0   0\n",
      "    0   0   0   0   0   0   0   0   0   0]\n",
      " [  0   0   0   0   0   0   0   0   0   0   0   0   0   0   0   0   0   0\n",
      "    0   0   0   0   0   0   0   0   0   0]\n",
      " [  0   0   0   0   0   0   0   0   0   0   0   0   0   0   0   0   0   0\n",
      "    0   0   0   0   0   0   0   0   0   0]\n",
      " [  0   0   0   0   0   0   0   0   0   0   0   0   0   0   0   0   0   0\n",
      "    0   0   0   0   0   0   0   0   0   0]\n",
      " [  0   0   0   0   0   0   0   0   0   0   0   0   0   0   0   0   0   0\n",
      "    0   0   0   0   0   0   0   0   0   0]\n",
      " [  0   0   0   0   0   0   0   0   0   0   0   0   0   0   0   0   0   0\n",
      "    0   0   0   0   0   0   0   0   0   0]]\n"
     ]
    }
   ],
   "source": [
    "my_sample = np.random.randint(60000)\n",
    "plt.imshow(X_train[my_sample])\n",
    "plt.show()\n",
    "print(Y_train[my_sample])\n",
    "print(X_train[my_sample])"
   ]
  },
  {
   "cell_type": "code",
   "execution_count": 6,
   "metadata": {},
   "outputs": [
    {
     "name": "stdout",
     "output_type": "stream",
     "text": [
      "7\n",
      "[0. 0. 0. 0. 0. 0. 0. 1. 0. 0.]\n"
     ]
    }
   ],
   "source": [
    "y_train = np_utils.to_categorical(Y_train)\n",
    "y_test = np_utils.to_categorical(Y_test)\n",
    "print(Y_train[5000])\n",
    "print(y_train[5000])"
   ]
  },
  {
   "cell_type": "code",
   "execution_count": 7,
   "metadata": {},
   "outputs": [
    {
     "name": "stdout",
     "output_type": "stream",
     "text": [
      "(60000, 784)\n"
     ]
    }
   ],
   "source": [
    "x_train = X_train.reshape(-1, 28*28)\n",
    "x_test = X_test.reshape(-1, 28*28)\n",
    "x_train = x_train / 255 # minmax 스케일링 : 0~1 사이의 값으로 바꿔주려고\n",
    "x_test = x_test / 255\n",
    "print(x_train.shape)"
   ]
  },
  {
   "cell_type": "code",
   "execution_count": 8,
   "metadata": {},
   "outputs": [],
   "source": [
    "model = Sequential()\n",
    "model.add(Dense(128, input_dim=28*28, activation='relu'))\n",
    "model.add(Dense(128, activation='relu'))\n",
    "model.add(Dense(10, activation='softmax'))"
   ]
  },
  {
   "cell_type": "code",
   "execution_count": 9,
   "metadata": {},
   "outputs": [
    {
     "name": "stdout",
     "output_type": "stream",
     "text": [
      "Model: \"sequential\"\n",
      "_________________________________________________________________\n",
      "Layer (type)                 Output Shape              Param #   \n",
      "=================================================================\n",
      "dense (Dense)                (None, 128)               100480    \n",
      "_________________________________________________________________\n",
      "dense_1 (Dense)              (None, 128)               16512     \n",
      "_________________________________________________________________\n",
      "dense_2 (Dense)              (None, 10)                1290      \n",
      "=================================================================\n",
      "Total params: 118,282\n",
      "Trainable params: 118,282\n",
      "Non-trainable params: 0\n",
      "_________________________________________________________________\n",
      "None\n"
     ]
    }
   ],
   "source": [
    "model.compile(optimizer='adam', loss='categorical_crossentropy', metrics=['accuracy'])\n",
    "print(model.summary())"
   ]
  },
  {
   "cell_type": "code",
   "execution_count": 10,
   "metadata": {},
   "outputs": [
    {
     "name": "stdout",
     "output_type": "stream",
     "text": [
      "Epoch 1/15\n",
      "375/375 [==============================] - 1s 2ms/step - loss: 0.3465 - accuracy: 0.9024 - val_loss: 0.1664 - val_accuracy: 0.9532\n",
      "Epoch 2/15\n",
      "375/375 [==============================] - 0s 1ms/step - loss: 0.1383 - accuracy: 0.9589 - val_loss: 0.1139 - val_accuracy: 0.9658\n",
      "Epoch 3/15\n",
      "375/375 [==============================] - 0s 1ms/step - loss: 0.0953 - accuracy: 0.9711 - val_loss: 0.1019 - val_accuracy: 0.9697\n",
      "Epoch 4/15\n",
      "375/375 [==============================] - 0s 1ms/step - loss: 0.0705 - accuracy: 0.9785 - val_loss: 0.0912 - val_accuracy: 0.9727\n",
      "Epoch 5/15\n",
      "375/375 [==============================] - 0s 1ms/step - loss: 0.0565 - accuracy: 0.9828 - val_loss: 0.0926 - val_accuracy: 0.9731\n",
      "Epoch 6/15\n",
      "375/375 [==============================] - 0s 1ms/step - loss: 0.0439 - accuracy: 0.9863 - val_loss: 0.0889 - val_accuracy: 0.9740\n",
      "Epoch 7/15\n",
      "375/375 [==============================] - 0s 1ms/step - loss: 0.0354 - accuracy: 0.9892 - val_loss: 0.0881 - val_accuracy: 0.9753\n",
      "Epoch 8/15\n",
      "375/375 [==============================] - 0s 1ms/step - loss: 0.0279 - accuracy: 0.9919 - val_loss: 0.0977 - val_accuracy: 0.9749\n",
      "Epoch 9/15\n",
      "375/375 [==============================] - 0s 1ms/step - loss: 0.0239 - accuracy: 0.9929 - val_loss: 0.0933 - val_accuracy: 0.9743\n",
      "Epoch 10/15\n",
      "375/375 [==============================] - 0s 1ms/step - loss: 0.0203 - accuracy: 0.9937 - val_loss: 0.1014 - val_accuracy: 0.9743\n",
      "Epoch 11/15\n",
      "375/375 [==============================] - 0s 1ms/step - loss: 0.0173 - accuracy: 0.9945 - val_loss: 0.0979 - val_accuracy: 0.9746\n",
      "Epoch 12/15\n",
      "375/375 [==============================] - 0s 1ms/step - loss: 0.0158 - accuracy: 0.9950 - val_loss: 0.1025 - val_accuracy: 0.9764\n",
      "Epoch 13/15\n",
      "375/375 [==============================] - 0s 1ms/step - loss: 0.0114 - accuracy: 0.9965 - val_loss: 0.1060 - val_accuracy: 0.9762\n",
      "Epoch 14/15\n",
      "375/375 [==============================] - 0s 1ms/step - loss: 0.0107 - accuracy: 0.9970 - val_loss: 0.1174 - val_accuracy: 0.9752\n",
      "Epoch 15/15\n",
      "375/375 [==============================] - 0s 1ms/step - loss: 0.0102 - accuracy: 0.9967 - val_loss: 0.1126 - val_accuracy: 0.9773\n"
     ]
    }
   ],
   "source": [
    "fit_hist = model.fit(x_train, y_train, batch_size=128,\n",
    "                     validation_split=0.2, epochs=15, verbose=1)"
   ]
  },
  {
   "cell_type": "code",
   "execution_count": 11,
   "metadata": {},
   "outputs": [
    {
     "name": "stdout",
     "output_type": "stream",
     "text": [
      "Final Test set accuracy : 0.9772999882698059\n"
     ]
    }
   ],
   "source": [
    "score = model.evaluate(x_test, y_test, verbose=0)\n",
    "print('Final Test set accuracy :', score[1])"
   ]
  },
  {
   "cell_type": "code",
   "execution_count": 12,
   "metadata": {},
   "outputs": [
    {
     "data": {
      "image/png": "[encoded data removed]",
      "text/plain": [
       "<Figure size 864x576 with 1 Axes>"
      ]
     },
     "metadata": {
      "needs_background": "light"
     },
     "output_type": "display_data"
    }
   ],
   "source": [
    "plt.plot(fit_hist.history['accuracy'])\n",
    "plt.plot(fit_hist.history['val_accuracy'])\n",
    "plt.show()"
   ]
  },
  {
   "cell_type": "code",
   "execution_count": 13,
   "metadata": {},
   "outputs": [
    {
     "name": "stdout",
     "output_type": "stream",
     "text": [
      "8\n",
      "[[2.5064485e-11 4.7208924e-11 2.8511735e-08 2.3944488e-06 2.3835883e-17\n",
      "  8.6027305e-12 6.2045665e-13 7.8088550e-13 9.9999762e-01 2.1931272e-09]]\n",
      "8\n"
     ]
    },
    {
     "data": {
      "image/png": "[encoded data removed]",
      "text/plain": [
       "<Figure size 864x576 with 1 Axes>"
      ]
     },
     "metadata": {
      "needs_background": "light"
     },
     "output_type": "display_data"
    }
   ],
   "source": [
    "my_sample = np.random.randint(10000)\n",
    "plt.imshow(X_test[my_sample], cmap='gray')\n",
    "print(Y_test[my_sample])\n",
    "pred = model.predict(x_test[my_sample].reshape(-1, 28 * 28))\n",
    "print(pred)\n",
    "print(np.argmax(pred))"
   ]
  }
 ],
 "metadata": {
  "interpreter": {
   "hash": "4575c94a40ab9deff75d62c2d009a795e0a61bcd141d3513a0cd65a998cae360"
  },
  "kernelspec": {
   "display_name": "Python 3.7.11 ('DL_exam_37')",
   "language": "python",
   "name": "python3"
  },
  "language_info": {
   "codemirror_mode": {
    "name": "ipython",
    "version": 3
   },
   "file_extension": ".py",
   "mimetype": "text/x-python",
   "name": "python",
   "nbconvert_exporter": "python",
   "pygments_lexer": "ipython3",
   "version": "3.7.11"
  },
  "orig_nbformat": 4
 },
 "nbformat": 4,
 "nbformat_minor": 2
}
