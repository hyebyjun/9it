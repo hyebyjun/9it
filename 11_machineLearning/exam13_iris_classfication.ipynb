{
 "cells": [
  {
   "cell_type": "code",
   "execution_count": 1,
   "metadata": {},
   "outputs": [],
   "source": [
    "from tensorflow.keras.models import Sequential\n",
    "from tensorflow.keras.layers import Dense, Dropout\n",
    "import pandas as pd\n",
    "import numpy as np\n",
    "import matplotlib.pyplot as plt\n",
    "plt.rcParams['figure.figsize'] = [12, 8]\n",
    "from sklearn.preprocessing import StandardScaler\n",
    "from sklearn.preprocessing import OneHotEncoder\n",
    "from sklearn.model_selection import train_test_split\n",
    "from sklearn.datasets import load_iris\n",
    "from tensorflow.keras.optimizers import Adam"
   ]
  },
  {
   "cell_type": "code",
   "execution_count": 2,
   "metadata": {},
   "outputs": [
    {
     "name": "stdout",
     "output_type": "stream",
     "text": [
      "<class 'sklearn.utils.Bunch'>\n",
      "Data : (150, 4)\n",
      "Label : (150,)\n",
      "iris datasets keys\n",
      " dict_keys(['data', 'target', 'frame', 'target_names', 'DESCR', 'feature_names', 'filename', 'data_module'])\n"
     ]
    }
   ],
   "source": [
    "iris = load_iris()\n",
    "print(type(iris))\n",
    "print('Data :', iris.data.shape)  # 4개씩 묶어서 150개의 자료가 들어있음 (?)\n",
    "print('Label :', iris.target.shape)\n",
    "print('iris datasets keys\\n', iris.keys())"
   ]
  },
  {
   "cell_type": "code",
   "execution_count": 3,
   "metadata": {},
   "outputs": [
    {
     "name": "stdout",
     "output_type": "stream",
     "text": [
      "(150, 3)\n",
      "[[0. 1. 0.]\n",
      " [0. 1. 0.]\n",
      " [0. 1. 0.]\n",
      " [0. 1. 0.]\n",
      " [0. 1. 0.]]\n",
      "[[1]\n",
      " [1]\n",
      " [1]\n",
      " [1]\n",
      " [1]]\n"
     ]
    }
   ],
   "source": [
    "x = iris.data\n",
    "y = iris.target\n",
    "\n",
    "encoder = OneHotEncoder(sparse=False)\n",
    "y = y.reshape(-1, 1)\n",
    "encoded_y = encoder.fit_transform(y)\n",
    "print(encoded_y.shape)\n",
    "print(encoded_y[50:55])\n",
    "print(y[50:55])"
   ]
  },
  {
   "cell_type": "code",
   "execution_count": 4,
   "metadata": {},
   "outputs": [
    {
     "name": "stdout",
     "output_type": "stream",
     "text": [
      "(120, 4) (120, 3)\n",
      "(30, 4) (30, 3)\n"
     ]
    }
   ],
   "source": [
    "# 공부용, 시험용 데이터 덜어내고 나눠주기?\n",
    "X_train, X_test, Y_train, Y_test = train_test_split(x, encoded_y, test_size=0.2)\n",
    "print(X_train.shape, Y_train.shape)\n",
    "print(X_test.shape, Y_test.shape)"
   ]
  },
  {
   "cell_type": "code",
   "execution_count": 5,
   "metadata": {},
   "outputs": [],
   "source": [
    "model = Sequential()\n",
    "model.add(Dense(256, input_dim=4, activation='relu'))  # 차원 수 (???)\n",
    "model.add(Dense(128, activation='relu'))\n",
    "model.add(Dense(512, activation='relu'))\n",
    "model.add(Dense(3, activation='softmax'))\n",
    "# 클래스가 3개니까 마지막 출력도 3개, 마지막에 이진분류면 sigmoid, 다중분류면 softmax"
   ]
  },
  {
   "cell_type": "code",
   "execution_count": 6,
   "metadata": {},
   "outputs": [
    {
     "name": "stdout",
     "output_type": "stream",
     "text": [
      "Model: \"sequential\"\n",
      "_________________________________________________________________\n",
      "Layer (type)                 Output Shape              Param #   \n",
      "=================================================================\n",
      "dense (Dense)                (None, 256)               1280      \n",
      "_________________________________________________________________\n",
      "dense_1 (Dense)              (None, 128)               32896     \n",
      "_________________________________________________________________\n",
      "dense_2 (Dense)              (None, 512)               66048     \n",
      "_________________________________________________________________\n",
      "dense_3 (Dense)              (None, 3)                 1539      \n",
      "=================================================================\n",
      "Total params: 101,763\n",
      "Trainable params: 101,763\n",
      "Non-trainable params: 0\n",
      "_________________________________________________________________\n"
     ]
    }
   ],
   "source": [
    "# 아담은 제일 똑똑해서 learningRate를 별도 지정하지 않아도 되지만.. 주고싶을땐 지정 가능\n",
    "# 대신 지정하려면 아담 객채를 만들어서 저렇게 지정해야된다고 함\n",
    "\n",
    "opt = Adam(lr=0.001)  # 궁금하면 learningRate를 크게 작게 조절해보자\n",
    "# 이 비율이 크면 최저점 찾기 위한 설정값 자체가 커서 좌우 와리가리 발산한다..\n",
    "# 비율이 크면 발산하고, 너무 작으면 최저점 찾기 전에 학습이 끝나버릴 수 있음\n",
    "\n",
    "model.compile(opt, loss='categorical_crossentropy', metrics=['accuracy'])\n",
    "model.summary()"
   ]
  },
  {
   "cell_type": "code",
   "execution_count": 7,
   "metadata": {},
   "outputs": [
    {
     "name": "stdout",
     "output_type": "stream",
     "text": [
      "Epoch 1/50\n",
      "24/24 [==============================] - 0s 743us/step - loss: 0.7469 - accuracy: 0.6583\n",
      "Epoch 2/50\n",
      "24/24 [==============================] - 0s 665us/step - loss: 0.4742 - accuracy: 0.7167\n",
      "Epoch 3/50\n",
      "24/24 [==============================] - 0s 665us/step - loss: 0.3555 - accuracy: 0.7917\n",
      "Epoch 4/50\n",
      "24/24 [==============================] - 0s 788us/step - loss: 0.2030 - accuracy: 0.9417\n",
      "Epoch 5/50\n",
      "24/24 [==============================] - 0s 706us/step - loss: 0.2483 - accuracy: 0.8833\n",
      "Epoch 6/50\n",
      "24/24 [==============================] - 0s 748us/step - loss: 0.1762 - accuracy: 0.9417\n",
      "Epoch 7/50\n",
      "24/24 [==============================] - 0s 956us/step - loss: 0.1246 - accuracy: 0.9667\n",
      "Epoch 8/50\n",
      "24/24 [==============================] - 0s 790us/step - loss: 0.2339 - accuracy: 0.8917\n",
      "Epoch 9/50\n",
      "24/24 [==============================] - 0s 706us/step - loss: 0.1341 - accuracy: 0.9500\n",
      "Epoch 10/50\n",
      "24/24 [==============================] - 0s 665us/step - loss: 0.2497 - accuracy: 0.8833\n",
      "Epoch 11/50\n",
      "24/24 [==============================] - 0s 748us/step - loss: 0.2094 - accuracy: 0.9083\n",
      "Epoch 12/50\n",
      "24/24 [==============================] - 0s 623us/step - loss: 0.1937 - accuracy: 0.9333\n",
      "Epoch 13/50\n",
      "24/24 [==============================] - 0s 665us/step - loss: 0.1451 - accuracy: 0.9417\n",
      "Epoch 14/50\n",
      "24/24 [==============================] - 0s 623us/step - loss: 0.1515 - accuracy: 0.9333\n",
      "Epoch 15/50\n",
      "24/24 [==============================] - 0s 706us/step - loss: 0.1399 - accuracy: 0.9500\n",
      "Epoch 16/50\n",
      "24/24 [==============================] - 0s 665us/step - loss: 0.1299 - accuracy: 0.9417\n",
      "Epoch 17/50\n",
      "24/24 [==============================] - 0s 706us/step - loss: 0.1095 - accuracy: 0.9583\n",
      "Epoch 18/50\n",
      "24/24 [==============================] - 0s 623us/step - loss: 0.1284 - accuracy: 0.9500\n",
      "Epoch 19/50\n",
      "24/24 [==============================] - 0s 665us/step - loss: 0.1876 - accuracy: 0.9333\n",
      "Epoch 20/50\n",
      "24/24 [==============================] - 0s 665us/step - loss: 0.1182 - accuracy: 0.9500\n",
      "Epoch 21/50\n",
      "24/24 [==============================] - 0s 748us/step - loss: 0.0892 - accuracy: 0.9833\n",
      "Epoch 22/50\n",
      "24/24 [==============================] - 0s 665us/step - loss: 0.1137 - accuracy: 0.9500\n",
      "Epoch 23/50\n",
      "24/24 [==============================] - 0s 623us/step - loss: 0.1025 - accuracy: 0.9583\n",
      "Epoch 24/50\n",
      "24/24 [==============================] - 0s 665us/step - loss: 0.1997 - accuracy: 0.9417\n",
      "Epoch 25/50\n",
      "24/24 [==============================] - 0s 623us/step - loss: 0.1319 - accuracy: 0.9750\n",
      "Epoch 26/50\n",
      "24/24 [==============================] - 0s 623us/step - loss: 0.1494 - accuracy: 0.9583\n",
      "Epoch 27/50\n",
      "24/24 [==============================] - 0s 665us/step - loss: 0.0970 - accuracy: 0.9583\n",
      "Epoch 28/50\n",
      "24/24 [==============================] - 0s 665us/step - loss: 0.0943 - accuracy: 0.9667\n",
      "Epoch 29/50\n",
      "24/24 [==============================] - 0s 706us/step - loss: 0.1332 - accuracy: 0.9583\n",
      "Epoch 30/50\n",
      "24/24 [==============================] - 0s 706us/step - loss: 0.1198 - accuracy: 0.9333\n",
      "Epoch 31/50\n",
      "24/24 [==============================] - 0s 1ms/step - loss: 0.1148 - accuracy: 0.9417\n",
      "Epoch 32/50\n",
      "24/24 [==============================] - 0s 829us/step - loss: 0.0744 - accuracy: 0.9750\n",
      "Epoch 33/50\n",
      "24/24 [==============================] - 0s 831us/step - loss: 0.1020 - accuracy: 0.9667\n",
      "Epoch 34/50\n",
      "24/24 [==============================] - 0s 790us/step - loss: 0.1125 - accuracy: 0.9667\n",
      "Epoch 35/50\n",
      "24/24 [==============================] - 0s 665us/step - loss: 0.1970 - accuracy: 0.9167\n",
      "Epoch 36/50\n",
      "24/24 [==============================] - 0s 665us/step - loss: 0.1143 - accuracy: 0.9500\n",
      "Epoch 37/50\n",
      "24/24 [==============================] - 0s 707us/step - loss: 0.1278 - accuracy: 0.9500\n",
      "Epoch 38/50\n",
      "24/24 [==============================] - 0s 706us/step - loss: 0.1717 - accuracy: 0.9333\n",
      "Epoch 39/50\n",
      "24/24 [==============================] - 0s 706us/step - loss: 0.0947 - accuracy: 0.9667\n",
      "Epoch 40/50\n",
      "24/24 [==============================] - 0s 706us/step - loss: 0.1062 - accuracy: 0.9583\n",
      "Epoch 41/50\n",
      "24/24 [==============================] - 0s 665us/step - loss: 0.0827 - accuracy: 0.9750\n",
      "Epoch 42/50\n",
      "24/24 [==============================] - 0s 623us/step - loss: 0.0829 - accuracy: 0.9667\n",
      "Epoch 43/50\n",
      "24/24 [==============================] - 0s 665us/step - loss: 0.0755 - accuracy: 0.9750\n",
      "Epoch 44/50\n",
      "24/24 [==============================] - 0s 706us/step - loss: 0.1463 - accuracy: 0.9333\n",
      "Epoch 45/50\n",
      "24/24 [==============================] - 0s 706us/step - loss: 0.0911 - accuracy: 0.9583\n",
      "Epoch 46/50\n",
      "24/24 [==============================] - 0s 665us/step - loss: 0.0737 - accuracy: 0.9667\n",
      "Epoch 47/50\n",
      "24/24 [==============================] - 0s 706us/step - loss: 0.0756 - accuracy: 0.9750\n",
      "Epoch 48/50\n",
      "24/24 [==============================] - 0s 665us/step - loss: 0.0864 - accuracy: 0.9583\n",
      "Epoch 49/50\n",
      "24/24 [==============================] - 0s 623us/step - loss: 0.1520 - accuracy: 0.9250\n",
      "Epoch 50/50\n",
      "24/24 [==============================] - 0s 665us/step - loss: 0.1316 - accuracy: 0.9333\n"
     ]
    }
   ],
   "source": [
    "fit_hist = model.fit(X_train, Y_train, batch_size=5, epochs=50, verbose=1)"
   ]
  },
  {
   "cell_type": "code",
   "execution_count": 8,
   "metadata": {},
   "outputs": [
    {
     "name": "stdout",
     "output_type": "stream",
     "text": [
      "Final test set accuracy : 1.0\n"
     ]
    }
   ],
   "source": [
    "score = model.evaluate(X_test, Y_test, verbose=0)\n",
    "print('Final test set accuracy :', score[1])  # 검증정확도가 얼마나 되는지"
   ]
  },
  {
   "cell_type": "code",
   "execution_count": 9,
   "metadata": {},
   "outputs": [
    {
     "data": {
      "image/png": "[encoded data removed]",
      "text/plain": [
       "<Figure size 864x576 with 1 Axes>"
      ]
     },
     "metadata": {
      "needs_background": "light"
     },
     "output_type": "display_data"
    }
   ],
   "source": [
    "plt.plot(fit_hist.history['accuracy'])\n",
    "plt.show()"
   ]
  },
  {
   "cell_type": "code",
   "execution_count": 10,
   "metadata": {},
   "outputs": [
    {
     "name": "stdout",
     "output_type": "stream",
     "text": [
      "[7.3 2.9 6.3 1.8]\n",
      "[[7.3 2.9 6.3 1.8]]\n",
      "pred is : [[9.5099458e-06 4.1154522e-02 9.5883602e-01]]\n",
      "actual is : [0. 0. 1.]\n",
      "Target : virginica\n",
      "Prediction after learning is : virginica\n"
     ]
    }
   ],
   "source": [
    "my_sample = np.random.randint(30)\n",
    "sample = X_test[my_sample]\n",
    "print(sample)\n",
    "sample = sample.reshape(-1, 4)\n",
    "print(sample)\n",
    "pred = model.predict(sample)\n",
    "print('pred is :', pred)\n",
    "print('actual is :', Y_test[my_sample])\n",
    "print('Target :',\n",
    "      iris.target_names[np.argmax(Y_test[my_sample])])\n",
    "print('Prediction after learning is :',\n",
    "      iris.target_names[np.argmax(pred)])"
   ]
  }
 ],
 "metadata": {
  "interpreter": {
   "hash": "4575c94a40ab9deff75d62c2d009a795e0a61bcd141d3513a0cd65a998cae360"
  },
  "kernelspec": {
   "display_name": "Python 3.7.11 ('DL_exam_37')",
   "language": "python",
   "name": "python3"
  },
  "language_info": {
   "codemirror_mode": {
    "name": "ipython",
    "version": 3
   },
   "file_extension": ".py",
   "mimetype": "text/x-python",
   "name": "python",
   "nbconvert_exporter": "python",
   "pygments_lexer": "ipython3",
   "version": "3.7.11"
  },
  "orig_nbformat": 4
 },
 "nbformat": 4,
 "nbformat_minor": 2
}
