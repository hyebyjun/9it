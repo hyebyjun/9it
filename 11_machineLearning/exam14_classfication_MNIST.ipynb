{
 "cells": [
  {
   "cell_type": "code",
   "execution_count": 32,
   "metadata": {},
   "outputs": [],
   "source": [
    "from tensorflow.keras.models import Sequential\n",
    "from tensorflow.keras.layers import Dense, Dropout\n",
    "from tensorflow.keras.optimizers import Adam\n",
    "from tensorflow.keras import datasets\n",
    "from keras.utils import np_utils\n",
    "import pandas as pd\n",
    "plt.rcParams['figure.figsize'] = [12, 8]\n",
    "import numpy as np\n",
    "import matplotlib.pyplot as plt\n",
    "from sklearn.preprocessing import StandardScaler\n",
    "from sklearn.preprocessing import OneHotEncoder\n",
    "from sklearn.model_selection import train_test_split\n",
    "from sklearn.datasets import load_iris"
   ]
  },
  {
   "cell_type": "code",
   "execution_count": 33,
   "metadata": {},
   "outputs": [
    {
     "name": "stdout",
     "output_type": "stream",
     "text": [
      "(60000, 28, 28) (60000,)\n",
      "(10000, 28, 28) (10000,)\n"
     ]
    }
   ],
   "source": [
    "(X_train, Y_train), (X_test, Y_test) = datasets.mnist.load_data()\n",
    "print(X_train.shape, Y_train.shape)\n",
    "print(X_test.shape, Y_test.shape)"
   ]
  },
  {
   "cell_type": "code",
   "execution_count": 34,
   "metadata": {},
   "outputs": [
    {
     "data": {
      "image/png": "[encoded data removed]",
      "text/plain": [
       "<Figure size 864x576 with 1 Axes>"
      ]
     },
     "metadata": {
      "needs_background": "light"
     },
     "output_type": "display_data"
    },
    {
     "name": "stdout",
     "output_type": "stream",
     "text": [
      "9\n",
      "[[  0   0   0   0   0   0   0   0   0   0   0   0   0   0   0   0   0   0\n",
      "    0   0   0   0   0   0   0   0   0   0]\n",
      " [  0   0   0   0   0   0   0   0   0   0   0   0   0   0   0   0   0   0\n",
      "    0   0   0   0   0   0   0   0   0   0]\n",
      " [  0   0   0   0   0   0   0   0   0   0   0   0   0   0   0   0   0   0\n",
      "    0   0   0   0   0   0   0   0   0   0]\n",
      " [  0   0   0   0   0   0   0   0   0   0   0   0   0   0   0   0   0   0\n",
      "    0   0   0   0   0   0   0   0   0   0]\n",
      " [  0   0   0   0   0   0   0   0   0   0   0   0   0   0   0   0   0   0\n",
      "    0   0   0   0   0   0   0   0   0   0]\n",
      " [  0   0   0   0   0   0   0   0   0   0   0   0   0   0   0   0   0   0\n",
      "    0   0   0   0   0   0   0   0   0   0]\n",
      " [  0   0   0   0   0   0   0   0   0   0   0   0   0   0   0   0   0   0\n",
      "    0   0   0   0   0   0   0   0   0   0]\n",
      " [  0   0   0   0   0   0   0   0   0   0 147 253 253 253 255 128 113  38\n",
      "    0   0   0   0   0   0   0   0   0   0]\n",
      " [  0   0   0   0   0   0   0  57 163 226 249 252 252 252 253 252 252 218\n",
      "   85   0   0   0   0   0   0   0   0   0]\n",
      " [  0   0   0   0   0   0  45 234 252 253 252 252 252 252 253 252 252 252\n",
      "  252 135   6   0   0   0   0   0   0   0]\n",
      " [  0   0   0   0   0   0 150 252 252 253 252 252 252 252 253 252 252 252\n",
      "  252 253  52  22   0   0   0   0   0   0]\n",
      " [  0   0   0   0   0   0 197 252 252 253 204 112 112 112 112 237 252 252\n",
      "  252 253 252 227  47   0   0   0   0   0]\n",
      " [  0   0   0   0   0  38 222 253 253 255  27   0   0   0   0 226 253 253\n",
      "  253 255 253 253  84   0   0   0   0   0]\n",
      " [  0   0   0   0   0  57 233 252 252 253 228 225 225 225 226 249 252 252\n",
      "  252 253 252 252  84   0   0   0   0   0]\n",
      " [  0   0   0   0   0   0 197 252 252 253 252 252 252 252 253 252 252 252\n",
      "  252 253 252 208  19   0   0   0   0   0]\n",
      " [  0   0   0   0   0   0  97 227 252 253 252 252 252 252 253 252 252 252\n",
      "  252 253 252 195   0   0   0   0   0   0]\n",
      " [  0   0   0   0   0   0   0  13 189 253 252 252 252 252 253 252 220 205\n",
      "  252 253 252 195   0   0   0   0   0   0]\n",
      " [  0   0   0   0   0   0   0   0   0   0 126 140 126   0  63  15  57 253\n",
      "  253 255 253 133   0   0   0   0   0   0]\n",
      " [  0   0   0   0   0   0   0   0   0   0   0   0   0   0   0  29 200 252\n",
      "  252 253 129   6   0   0   0   0   0   0]\n",
      " [  0   0   0   0   0   0   0   0   0   0   0   0   0   0   0 117 252 252\n",
      "  252 228  21   0   0   0   0   0   0   0]\n",
      " [  0   0   0   0   0   0   0   0   0   0   0   0   0   0  13 228 252 252\n",
      "  252 126   0   0   0   0   0   0   0   0]\n",
      " [  0   0   0   0   0   0   0   0   0   0   0   0   0   0 191 252 252 252\n",
      "  173   0   0   0   0   0   0   0   0   0]\n",
      " [  0   0   0   0   0   0   0   0   0   0   0   0   0 141 255 253 253 253\n",
      "  112   0   0   0   0   0   0   0   0   0]\n",
      " [  0   0   0   0   0   0   0   0   0   0   0   0  10 178 253 252 252 226\n",
      "   12   0   0   0   0   0   0   0   0   0]\n",
      " [  0   0   0   0   0   0   0   0   0   0   0   0  60 252 253 252 239  96\n",
      "    0   0   0   0   0   0   0   0   0   0]\n",
      " [  0   0   0   0   0   0   0   0   0   0   0   0 169 252 253 252 180   0\n",
      "    0   0   0   0   0   0   0   0   0   0]\n",
      " [  0   0   0   0   0   0   0   0   0   0   0   0  91 252 253 204  25   0\n",
      "    0   0   0   0   0   0   0   0   0   0]\n",
      " [  0   0   0   0   0   0   0   0   0   0   0   0   0   0   0   0   0   0\n",
      "    0   0   0   0   0   0   0   0   0   0]]\n"
     ]
    }
   ],
   "source": [
    "my_sample = np.random.randint(60000)\n",
    "plt.imshow(X_train[my_sample])\n",
    "plt.show()\n",
    "print(Y_train[my_sample])\n",
    "print(X_train[my_sample])"
   ]
  },
  {
   "cell_type": "code",
   "execution_count": 35,
   "metadata": {},
   "outputs": [
    {
     "name": "stdout",
     "output_type": "stream",
     "text": [
      "7\n",
      "[0. 0. 0. 0. 0. 0. 0. 1. 0. 0.]\n"
     ]
    }
   ],
   "source": [
    "y_train = np_utils.to_categorical(Y_train)\n",
    "y_test = np_utils.to_categorical(Y_test)\n",
    "print(Y_train[5000])\n",
    "print(y_train[5000])"
   ]
  },
  {
   "cell_type": "code",
   "execution_count": 36,
   "metadata": {},
   "outputs": [
    {
     "name": "stdout",
     "output_type": "stream",
     "text": [
      "(60000, 784)\n"
     ]
    }
   ],
   "source": [
    "x_train = X_train.reshape(-1, 28*28)\n",
    "x_test = X_test.reshape(-1, 28*28)\n",
    "x_train = x_train / 255 # minmax 스케일링 : 0~1 사이의 값으로 바꿔주려고\n",
    "x_test = x_test / 255\n",
    "print(x_train.shape)"
   ]
  },
  {
   "cell_type": "code",
   "execution_count": 37,
   "metadata": {},
   "outputs": [],
   "source": [
    "model = Sequential()\n",
    "model.add(Dense(128, input_dim=28*28, activation='relu'))\n",
    "model.add(Dense(128, activation='relu'))\n",
    "model.add(Dense(10, activation='softmax'))"
   ]
  },
  {
   "cell_type": "code",
   "execution_count": 38,
   "metadata": {},
   "outputs": [
    {
     "name": "stdout",
     "output_type": "stream",
     "text": [
      "Model: \"sequential_1\"\n",
      "_________________________________________________________________\n",
      "Layer (type)                 Output Shape              Param #   \n",
      "=================================================================\n",
      "dense_3 (Dense)              (None, 128)               100480    \n",
      "_________________________________________________________________\n",
      "dense_4 (Dense)              (None, 128)               16512     \n",
      "_________________________________________________________________\n",
      "dense_5 (Dense)              (None, 10)                1290      \n",
      "=================================================================\n",
      "Total params: 118,282\n",
      "Trainable params: 118,282\n",
      "Non-trainable params: 0\n",
      "_________________________________________________________________\n",
      "None\n"
     ]
    }
   ],
   "source": [
    "model.compile(optimizer='adam', loss='categorical_crossentropy', metrics=['accuracy'])\n",
    "print(model.summary())"
   ]
  },
  {
   "cell_type": "code",
   "execution_count": 39,
   "metadata": {},
   "outputs": [
    {
     "name": "stdout",
     "output_type": "stream",
     "text": [
      "Epoch 1/15\n",
      "375/375 [==============================] - 1s 2ms/step - loss: 0.3466 - accuracy: 0.9019 - val_loss: 0.1683 - val_accuracy: 0.9511\n",
      "Epoch 2/15\n",
      "375/375 [==============================] - 0s 1ms/step - loss: 0.1435 - accuracy: 0.9578 - val_loss: 0.1250 - val_accuracy: 0.9646\n",
      "Epoch 3/15\n",
      "375/375 [==============================] - 0s 1ms/step - loss: 0.0956 - accuracy: 0.9716 - val_loss: 0.1089 - val_accuracy: 0.9668\n",
      "Epoch 4/15\n",
      "375/375 [==============================] - 0s 1ms/step - loss: 0.0735 - accuracy: 0.9773 - val_loss: 0.0983 - val_accuracy: 0.9698\n",
      "Epoch 5/15\n",
      "375/375 [==============================] - 0s 1ms/step - loss: 0.0554 - accuracy: 0.9834 - val_loss: 0.0906 - val_accuracy: 0.9737\n",
      "Epoch 6/15\n",
      "375/375 [==============================] - 0s 1ms/step - loss: 0.0419 - accuracy: 0.9874 - val_loss: 0.0892 - val_accuracy: 0.9756\n",
      "Epoch 7/15\n",
      "375/375 [==============================] - 0s 1ms/step - loss: 0.0359 - accuracy: 0.9894 - val_loss: 0.0887 - val_accuracy: 0.9745\n",
      "Epoch 8/15\n",
      "375/375 [==============================] - 0s 1ms/step - loss: 0.0289 - accuracy: 0.9910 - val_loss: 0.0848 - val_accuracy: 0.9769\n",
      "Epoch 9/15\n",
      "375/375 [==============================] - 0s 1ms/step - loss: 0.0204 - accuracy: 0.9942 - val_loss: 0.0840 - val_accuracy: 0.9783\n",
      "Epoch 10/15\n",
      "375/375 [==============================] - 0s 1ms/step - loss: 0.0153 - accuracy: 0.9954 - val_loss: 0.0884 - val_accuracy: 0.9765\n",
      "Epoch 11/15\n",
      "375/375 [==============================] - 0s 1ms/step - loss: 0.0177 - accuracy: 0.9944 - val_loss: 0.0881 - val_accuracy: 0.9774\n",
      "Epoch 12/15\n",
      "375/375 [==============================] - 0s 1ms/step - loss: 0.0128 - accuracy: 0.9959 - val_loss: 0.0986 - val_accuracy: 0.9763\n",
      "Epoch 13/15\n",
      "375/375 [==============================] - 0s 1ms/step - loss: 0.0115 - accuracy: 0.9965 - val_loss: 0.0997 - val_accuracy: 0.9750\n",
      "Epoch 14/15\n",
      "375/375 [==============================] - 0s 1ms/step - loss: 0.0109 - accuracy: 0.9966 - val_loss: 0.1105 - val_accuracy: 0.9747\n",
      "Epoch 15/15\n",
      "375/375 [==============================] - 1s 1ms/step - loss: 0.0108 - accuracy: 0.9964 - val_loss: 0.1057 - val_accuracy: 0.9764\n"
     ]
    }
   ],
   "source": [
    "fit_hist = model.fit(x_train, y_train, batch_size=128,\n",
    "                     validation_split=0.2, epochs=15, verbose=1)"
   ]
  },
  {
   "cell_type": "code",
   "execution_count": 40,
   "metadata": {},
   "outputs": [
    {
     "name": "stdout",
     "output_type": "stream",
     "text": [
      "Final Test set accuracy : 0.9775999784469604\n"
     ]
    }
   ],
   "source": [
    "score = model.evaluate(x_test, y_test, verbose=0)\n",
    "print('Final Test set accuracy :', score[1])"
   ]
  }
 ],
 "metadata": {
  "interpreter": {
   "hash": "4575c94a40ab9deff75d62c2d009a795e0a61bcd141d3513a0cd65a998cae360"
  },
  "kernelspec": {
   "display_name": "Python 3.7.11 ('DL_exam_37')",
   "language": "python",
   "name": "python3"
  },
  "language_info": {
   "codemirror_mode": {
    "name": "ipython",
    "version": 3
   },
   "file_extension": ".py",
   "mimetype": "text/x-python",
   "name": "python",
   "nbconvert_exporter": "python",
   "pygments_lexer": "ipython3",
   "version": "3.7.11"
  },
  "orig_nbformat": 4
 },
 "nbformat": 4,
 "nbformat_minor": 2
}
