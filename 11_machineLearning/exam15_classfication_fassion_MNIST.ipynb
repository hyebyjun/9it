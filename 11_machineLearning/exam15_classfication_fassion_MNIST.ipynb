{
 "cells": [
  {
   "cell_type": "code",
   "execution_count": 10,
   "metadata": {},
   "outputs": [],
   "source": [
    "import numpy as np\n",
    "import matplotlib.pyplot as plt\n",
    "from tensorflow.keras.models import Sequential\n",
    "from tensorflow.keras.layers import Dense\n",
    "from tensorflow.keras import datasets\n",
    "from keras.utils import np_utils"
   ]
  },
  {
   "cell_type": "code",
   "execution_count": 11,
   "metadata": {},
   "outputs": [
    {
     "name": "stdout",
     "output_type": "stream",
     "text": [
      "(60000, 28, 28) (60000,)\n",
      "(10000, 28, 28) (10000,)\n"
     ]
    },
    {
     "data": {
      "image/png": "[encoded data removed]",
      "text/plain": [
       "<Figure size 432x288 with 1 Axes>"
      ]
     },
     "metadata": {
      "needs_background": "light"
     },
     "output_type": "display_data"
    },
    {
     "name": "stdout",
     "output_type": "stream",
     "text": [
      "5\n",
      "[[  0   0   0   0   0   0   0   0   0   0   0   0   0   0   0   0   0   0\n",
      "    0   0   0   0   0   0   0   0   0   0]\n",
      " [  0   0   0   0   0   0   0   0   0   0   0   0   0   0   0   0   1   0\n",
      "    0   0   0  10 127  26   0   1   1   0]\n",
      " [  0   0   0   0   0   0   0   0   0   0   1   1   0   1   0   0   0   0\n",
      "    0  97 185 192 220 168   0   0   0   0]\n",
      " [  0   0   0   0   0   0   0   0   2   0   1   1   0   0   0  12 101 173\n",
      "  245 233 161 136  65 168  62   0   3   0]\n",
      " [  0   0   0   0   0   0   0   0   0   0   2   0   0 105 127 151 166 141\n",
      "   76   0   0   0   0  52 188   0   0   0]\n",
      " [  0   0   0   0   0   0   0   0   0   0   2   0   0 153 105  31   0   0\n",
      "    0   0   0   0   0   0 178  65   0   0]\n",
      " [  0   0   0   0   0   0   0   0   2   0   1   0   0   0   0   0   0   1\n",
      "    5   0   0   2   0  58 113 110  25   0]\n",
      " [  0   0   0   0   0   0   0   0   0   0   1   1   0   3   6   1   1   0\n",
      "    0   0   0   1   0 130  97  96 116   0]\n",
      " [  0   0   0   0   0   0   0   0   0   0   0   0   0   0   0   0   0   0\n",
      "    1   0   0   0   0 173  61  60 160  27]\n",
      " [  0   0   0   0   0   0   0   0   0   0   0   0   0   0   0   0   0   0\n",
      "    1   0   3   0  81 148  52  83 101 123]\n",
      " [  0   0   0   0   0   0   0   0   0   0   0   0   0   0   0   0   0   0\n",
      "    0   0   0   0 188  96  73  96  60 155]\n",
      " [  0   0   0   0   0   0   0   0   0   0   0   0   0   0   0   0   0   0\n",
      "    0   0   0   0 181  65 100  83  73 138]\n",
      " [  0   0   0   0   0   0   0   0   0   0   0   0   0   0   0   0   0   0\n",
      "    0   1   0  15 215  48  97  71  98  86]\n",
      " [  0   0   0   0   0   0   0   0   0   0   0   0   0   0   0   0   0   0\n",
      "    0   5   0  61 227  40 102 127 166  58]\n",
      " [  0   0   0   0   0   0   0   0   0   0   0   0   0   0   0   0   0   0\n",
      "    1   0   0   8 122 122 177 125 136  13]\n",
      " [  0   0   0   0   0   0   0   0   0   0   0   0   0   0   0   0   0   0\n",
      "    0   0  32  98 191 225 172 127 133   2]\n",
      " [  0   0   0   0   1   0   0   0   0   0   0   0   0   0   0   0   0   0\n",
      "    0  53 155 193 108   0   0 171 117   0]\n",
      " [  0   0   0   0   1   1   1   0   0   0   0   0   0   0   0   0   0   0\n",
      "   58 171 192   0   0   0   0 140 115   0]\n",
      " [  0   0   0   0   1   0   1   2   2   0   0   0   0   0   0   0   0  46\n",
      "  165 196   0   0   1   0   0 141 108   0]\n",
      " [  0   0   0   0   1   5   0   0   0   0   0   0   0   0   0   0  22 137\n",
      "  221   0   0   0   0   0   0 133 105   0]\n",
      " [  0   0   0   0   0   0   0  23   0   0   0   0   0   0   0   5  97 235\n",
      "   33   0   5   2   1   0   0 105 108   0]\n",
      " [  0   0   0   2   0  41  87 106 105   0   1   0   0   0  15  43 203 132\n",
      "    0   3   0   1   0   1   0 101 110   0]\n",
      " [  2   1   1   1   0  60  27   0 170   0   0   0   0   0  60 155 213   0\n",
      "    0   0   0   0   0   0   0 123 112   0]\n",
      " [  0   0   0   0   0   0   0   0 173  57   0   0   0  43 113 240  16   0\n",
      "    0   0   0   0   0   0   0 117 123   0]\n",
      " [  0   1  10  36  21  78 125 120 173  75   0   8  58 111 246 101   0   0\n",
      "    0   0   0   0   0   1   0  93  90   0]\n",
      " [132 200 142 130 112 116 157 131 110 187 188 187 202 255 132   0   3   0\n",
      "    0   0   0   0   0   2   0 137 195   0]\n",
      " [  0  62  97 123 152 155 176 197 212 225 218 193 161  20   0   0   0   1\n",
      "    0   0   0   0   0   2   0  37  81   0]\n",
      " [  0   0   0   0   0   0   0   0   0   0   0   0   0   0   0   0   0   0\n",
      "    0   0   0   0   0   0   0   0   0   0]]\n"
     ]
    }
   ],
   "source": [
    "(X_train, Y_train), (X_test, Y_test) = datasets.fashion_mnist.load_data()\n",
    "print(X_train.shape, Y_train.shape)\n",
    "print(X_test.shape, Y_test.shape)\n",
    "\n",
    "my_sample = np.random.randint(60000)\n",
    "plt.imshow(X_train[my_sample], cmap='gray')\n",
    "plt.show()\n",
    "print(Y_train[my_sample])\n",
    "print(X_train[my_sample])\n",
    "\n",
    "label = ['T-shirt', 'trouser', 'pullover', 'dress', 'coat',\n",
    "         'sandal', 'shirt', 'sneaker', 'bag', 'ankle boot']"
   ]
  },
  {
   "cell_type": "code",
   "execution_count": null,
   "metadata": {},
   "outputs": [],
   "source": []
  }
 ],
 "metadata": {
  "interpreter": {
   "hash": "4575c94a40ab9deff75d62c2d009a795e0a61bcd141d3513a0cd65a998cae360"
  },
  "kernelspec": {
   "display_name": "Python 3.7.11 ('DL_exam_37')",
   "language": "python",
   "name": "python3"
  },
  "language_info": {
   "codemirror_mode": {
    "name": "ipython",
    "version": 3
   },
   "file_extension": ".py",
   "mimetype": "text/x-python",
   "name": "python",
   "nbconvert_exporter": "python",
   "pygments_lexer": "ipython3",
   "version": "3.7.11"
  },
  "orig_nbformat": 4
 },
 "nbformat": 4,
 "nbformat_minor": 2
}
