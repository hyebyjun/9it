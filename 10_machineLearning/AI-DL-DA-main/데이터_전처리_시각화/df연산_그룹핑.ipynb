{
  "nbformat": 4,
  "nbformat_minor": 0,
  "metadata": {
    "colab": {
      "name": "pandas_그룹핑.ipynb",
      "provenance": [],
      "collapsed_sections": [],
      "authorship_tag": "ABX9TyPSvFHsadr7Xv6XuOsKa1UP",
      "include_colab_link": true
    },
    "kernelspec": {
      "name": "python3",
      "display_name": "Python 3"
    },
    "language_info": {
      "name": "python"
    }
  },
  "cells": [
    {
      "cell_type": "markdown",
      "metadata": {
        "id": "view-in-github",
        "colab_type": "text"
      },
      "source": [
        "<a href=\"https://colab.research.google.com/github/kang-narae/AI-DL-DA/blob/main/%EB%8D%B0%EC%9D%B4%ED%84%B0%EC%A0%84%EC%B2%98%EB%A6%AC/df%EC%97%B0%EC%82%B0_%EA%B7%B8%EB%A3%B9%ED%95%91.ipynb\" target=\"_parent\"><img src=\"https://colab.research.google.com/assets/colab-badge.svg\" alt=\"Open In Colab\"/></a>"
      ]
    },
    {
      "cell_type": "markdown",
      "source": [
        "# 컬럼값에 apply로 함수 적용"
      ],
      "metadata": {
        "id": "3OVqLhwSgiLR"
      }
    },
    {
      "cell_type": "code",
      "source": [
        "import pandas as pd\n",
        "import seaborn as sns"
      ],
      "metadata": {
        "id": "BzRMii6fgk9H"
      },
      "execution_count": null,
      "outputs": []
    },
    {
      "cell_type": "code",
      "source": [
        "titanic =  sns.load_dataset('titanic')\n",
        "df= titanic.loc[:, ['age','fare']]     #dataset doth  age, fare 컬럼만 가져온 df 객체 만들고\n",
        "df['ten'] = 10    #ten이라는 컬럼 추가함\n",
        "\n",
        "print(df.head())"
      ],
      "metadata": {
        "colab": {
          "base_uri": "https://localhost:8080/"
        },
        "id": "5OrCNLowgvXX",
        "outputId": "55817362-bd34-42b0-f7ef-2d2945b2dd0e"
      },
      "execution_count": null,
      "outputs": [
        {
          "output_type": "stream",
          "name": "stdout",
          "text": [
            "    age     fare  ten\n",
            "0  22.0   7.2500   10\n",
            "1  38.0  71.2833   10\n",
            "2  26.0   7.9250   10\n",
            "3  35.0  53.1000   10\n",
            "4  35.0   8.0500   10\n"
          ]
        }
      ]
    },
    {
      "cell_type": "code",
      "source": [
        "def add_5(n):\n",
        "  return n+5"
      ],
      "metadata": {
        "id": "GfVIH7xXhH23"
      },
      "execution_count": null,
      "outputs": []
    },
    {
      "cell_type": "code",
      "source": [
        "for i in range(len(df)):\n",
        "  df.iloc[i,0] = add_5(df.iloc[i,0])             #age행의 각 값에 함수를 적용한다.\n",
        "print(df.age)"
      ],
      "metadata": {
        "colab": {
          "base_uri": "https://localhost:8080/"
        },
        "id": "OvkhHiI_hovH",
        "outputId": "897ddb4a-713e-4116-ad30-b3f601d0b673"
      },
      "execution_count": null,
      "outputs": [
        {
          "output_type": "stream",
          "name": "stdout",
          "text": [
            "0      27.0\n",
            "1      43.0\n",
            "2      31.0\n",
            "3      40.0\n",
            "4      40.0\n",
            "       ... \n",
            "886    32.0\n",
            "887    24.0\n",
            "888     NaN\n",
            "889    31.0\n",
            "890    37.0\n",
            "Name: age, Length: 891, dtype: float64\n"
          ]
        }
      ]
    },
    {
      "cell_type": "code",
      "source": [
        "#포문 쓰지 않고 apply함수 적용해서 값 처리 하는 법.\n",
        "\n",
        "\n",
        "\n",
        "sr1= df['age'].apply(add_5)\n",
        "print(sr1)"
      ],
      "metadata": {
        "colab": {
          "base_uri": "https://localhost:8080/"
        },
        "id": "xSi7wYrIiGAO",
        "outputId": "c76206c1-bb1e-4303-dd77-90f23d7f1a5c"
      },
      "execution_count": null,
      "outputs": [
        {
          "output_type": "stream",
          "name": "stdout",
          "text": [
            "0      32.0\n",
            "1      48.0\n",
            "2      36.0\n",
            "3      45.0\n",
            "4      45.0\n",
            "       ... \n",
            "886    37.0\n",
            "887    29.0\n",
            "888     NaN\n",
            "889    36.0\n",
            "890    42.0\n",
            "Name: age, Length: 891, dtype: float64\n"
          ]
        }
      ]
    },
    {
      "cell_type": "code",
      "source": [
        "sr1= df['age'].apply(lambda x: x*3 -4)\n",
        "print(sr1)"
      ],
      "metadata": {
        "colab": {
          "base_uri": "https://localhost:8080/"
        },
        "id": "relhgQ15iVQn",
        "outputId": "110820c4-6e8d-4c3a-9d43-e9479f64e275"
      },
      "execution_count": null,
      "outputs": [
        {
          "output_type": "stream",
          "name": "stdout",
          "text": [
            "0       77.0\n",
            "1      125.0\n",
            "2       89.0\n",
            "3      116.0\n",
            "4      116.0\n",
            "       ...  \n",
            "886     92.0\n",
            "887     68.0\n",
            "888      NaN\n",
            "889     89.0\n",
            "890    107.0\n",
            "Name: age, Length: 891, dtype: float64\n"
          ]
        }
      ]
    },
    {
      "cell_type": "markdown",
      "source": [
        "# concat으로 두 데이터프레임 합치기"
      ],
      "metadata": {
        "id": "Yvrg46-BxbV1"
      }
    },
    {
      "cell_type": "code",
      "source": [
        "df1= pd.DataFrame({'a':['a0','a1','a2','a3'],\n",
        "                   'b':['b0','b1','b2','b3'],\n",
        "                   'c':['c0','c1','c2','c3']\n",
        "                   },\n",
        "                   index=[0,1,2,3]\n",
        "                   )\n",
        "print(df1)"
      ],
      "metadata": {
        "colab": {
          "base_uri": "https://localhost:8080/"
        },
        "id": "F3whuT_Hiqt2",
        "outputId": "3e40e0b1-66b3-4371-fcde-67b79ed30d08"
      },
      "execution_count": null,
      "outputs": [
        {
          "output_type": "stream",
          "name": "stdout",
          "text": [
            "    a   b   c\n",
            "0  a0  b0  c0\n",
            "1  a1  b1  c1\n",
            "2  a2  b2  c2\n",
            "3  a3  b3  c3\n"
          ]
        }
      ]
    },
    {
      "cell_type": "code",
      "source": [
        "df2= pd.DataFrame({'a':['a2','a3','a4','a5'],\n",
        "                   'b':['b2','b3','b4','b5'],\n",
        "                   'c':['c2','c3','c4','c5'],\n",
        "                   'd':['d2','d3','d4','d5']},\n",
        "                   index=[2,3,4,5]\n",
        "                   )\n",
        "print(df2)"
      ],
      "metadata": {
        "colab": {
          "base_uri": "https://localhost:8080/"
        },
        "id": "qw27uYpfkYRu",
        "outputId": "739b9721-d13e-454e-f812-200361fe914a"
      },
      "execution_count": null,
      "outputs": [
        {
          "output_type": "stream",
          "name": "stdout",
          "text": [
            "    a   b   c   d\n",
            "2  a2  b2  c2  d2\n",
            "3  a3  b3  c3  d3\n",
            "4  a4  b4  c4  d4\n",
            "5  a5  b5  c5  d5\n"
          ]
        }
      ]
    },
    {
      "cell_type": "code",
      "source": [
        "result1 = pd.concat([df1, df2])   #컨캣할때 없는값은 nan으로 채워줌. 중복은 그대로 중복적으로 나옴.\n",
        "result1.reset_index(drop=True,  inplace=True)   #원래인덱스 빼고, 새로운 인덱스로 채움\n",
        "print(result1)"
      ],
      "metadata": {
        "colab": {
          "base_uri": "https://localhost:8080/"
        },
        "id": "xDjdDtYjkoLm",
        "outputId": "62e0e0bb-5ca6-4feb-f72b-c73788fb4295"
      },
      "execution_count": null,
      "outputs": [
        {
          "output_type": "stream",
          "name": "stdout",
          "text": [
            "    a   b   c    d\n",
            "0  a0  b0  c0  NaN\n",
            "1  a1  b1  c1  NaN\n",
            "2  a2  b2  c2  NaN\n",
            "3  a3  b3  c3  NaN\n",
            "4  a2  b2  c2   d2\n",
            "5  a3  b3  c3   d3\n",
            "6  a4  b4  c4   d4\n",
            "7  a5  b5  c5   d5\n"
          ]
        }
      ]
    },
    {
      "cell_type": "code",
      "source": [
        "result2= pd.concat([df1, df2], ignore_index=True)       #원래의 인덱스를 무시하고 새롭게 인덱스를 순서대로 붙여줌.\n",
        "print(result2)"
      ],
      "metadata": {
        "colab": {
          "base_uri": "https://localhost:8080/"
        },
        "id": "qM0GkBD5k6-u",
        "outputId": "332fa9aa-399a-4c51-f959-f6ec035c9509"
      },
      "execution_count": null,
      "outputs": [
        {
          "output_type": "stream",
          "name": "stdout",
          "text": [
            "    a   b   c    d\n",
            "0  a0  b0  c0  NaN\n",
            "1  a1  b1  c1  NaN\n",
            "2  a2  b2  c2  NaN\n",
            "3  a3  b3  c3  NaN\n",
            "4  a2  b2  c2   d2\n",
            "5  a3  b3  c3   d3\n",
            "6  a4  b4  c4   d4\n",
            "7  a5  b5  c5   d5\n"
          ]
        }
      ]
    },
    {
      "cell_type": "code",
      "source": [
        "result3= pd.concat([df1, df2], axis='columns')            #열기준으로 오른쪽으로 이어붙임\n",
        "print(result3)"
      ],
      "metadata": {
        "colab": {
          "base_uri": "https://localhost:8080/"
        },
        "id": "kXYW5A0qlzYP",
        "outputId": "f3693423-8778-42fe-e7db-41349ac28577"
      },
      "execution_count": null,
      "outputs": [
        {
          "output_type": "stream",
          "name": "stdout",
          "text": [
            "     a    b    c    a    b    c    d\n",
            "0   a0   b0   c0  NaN  NaN  NaN  NaN\n",
            "1   a1   b1   c1  NaN  NaN  NaN  NaN\n",
            "2   a2   b2   c2   a2   b2   c2   d2\n",
            "3   a3   b3   c3   a3   b3   c3   d3\n",
            "4  NaN  NaN  NaN   a4   b4   c4   d4\n",
            "5  NaN  NaN  NaN   a5   b5   c5   d5\n"
          ]
        }
      ]
    },
    {
      "cell_type": "code",
      "source": [
        "result4= pd.concat([df1, df2], axis=1 , join= 'inner')     #공통된 부분만. 교집합\n",
        "print(result4)"
      ],
      "metadata": {
        "colab": {
          "base_uri": "https://localhost:8080/"
        },
        "id": "xBlMbaUumU6m",
        "outputId": "8eb91284-bf8b-4f34-d961-057a701cc3ca"
      },
      "execution_count": null,
      "outputs": [
        {
          "output_type": "stream",
          "name": "stdout",
          "text": [
            "    a   b   c   a   b   c   d\n",
            "2  a2  b2  c2  a2  b2  c2  d2\n",
            "3  a3  b3  c3  a3  b3  c3  d3\n"
          ]
        }
      ]
    },
    {
      "cell_type": "code",
      "source": [
        "result5= pd.concat([df1, df2], axis=0, join= 'inner')     #공통된 부분만. 교집합\n",
        "print(result5)"
      ],
      "metadata": {
        "colab": {
          "base_uri": "https://localhost:8080/"
        },
        "id": "1PwLvS1Qmlrm",
        "outputId": "ca08f864-0b8c-4c38-dcc7-49356cc54ec3"
      },
      "execution_count": null,
      "outputs": [
        {
          "output_type": "stream",
          "name": "stdout",
          "text": [
            "    a   b   c\n",
            "0  a0  b0  c0\n",
            "1  a1  b1  c1\n",
            "2  a2  b2  c2\n",
            "3  a3  b3  c3\n",
            "2  a2  b2  c2\n",
            "3  a3  b3  c3\n",
            "4  a4  b4  c4\n",
            "5  a5  b5  c5\n"
          ]
        }
      ]
    },
    {
      "cell_type": "code",
      "source": [
        "result5= pd.concat([df1, df2], axis=0)    #기본적으로 outer로 나옴.\n",
        "print(result5)"
      ],
      "metadata": {
        "colab": {
          "base_uri": "https://localhost:8080/"
        },
        "id": "vDfIa4hmnXDO",
        "outputId": "8f4f90c1-1c54-4357-a550-9b787c47d554"
      },
      "execution_count": null,
      "outputs": [
        {
          "output_type": "stream",
          "name": "stdout",
          "text": [
            "    a   b   c    d\n",
            "0  a0  b0  c0  NaN\n",
            "1  a1  b1  c1  NaN\n",
            "2  a2  b2  c2  NaN\n",
            "3  a3  b3  c3  NaN\n",
            "2  a2  b2  c2   d2\n",
            "3  a3  b3  c3   d3\n",
            "4  a4  b4  c4   d4\n",
            "5  a5  b5  c5   d5\n"
          ]
        }
      ]
    },
    {
      "cell_type": "markdown",
      "source": [
        "## 타이타닉 예제"
      ],
      "metadata": {
        "id": "wlWpvsy1zaXB"
      }
    },
    {
      "cell_type": "code",
      "source": [
        "titanic"
      ],
      "metadata": {
        "colab": {
          "base_uri": "https://localhost:8080/",
          "height": 424
        },
        "id": "chf9J9kBnk2V",
        "outputId": "5e9d35f7-dc81-4b85-d863-56ecdf109fef"
      },
      "execution_count": null,
      "outputs": [
        {
          "output_type": "execute_result",
          "data": {
            "text/plain": [
              "     survived  pclass     sex   age  sibsp  parch     fare embarked   class  \\\n",
              "0           0       3    male  22.0      1      0   7.2500        S   Third   \n",
              "1           1       1  female  38.0      1      0  71.2833        C   First   \n",
              "2           1       3  female  26.0      0      0   7.9250        S   Third   \n",
              "3           1       1  female  35.0      1      0  53.1000        S   First   \n",
              "4           0       3    male  35.0      0      0   8.0500        S   Third   \n",
              "..        ...     ...     ...   ...    ...    ...      ...      ...     ...   \n",
              "886         0       2    male  27.0      0      0  13.0000        S  Second   \n",
              "887         1       1  female  19.0      0      0  30.0000        S   First   \n",
              "888         0       3  female   NaN      1      2  23.4500        S   Third   \n",
              "889         1       1    male  26.0      0      0  30.0000        C   First   \n",
              "890         0       3    male  32.0      0      0   7.7500        Q   Third   \n",
              "\n",
              "       who  adult_male deck  embark_town alive  alone  \n",
              "0      man        True  NaN  Southampton    no  False  \n",
              "1    woman       False    C    Cherbourg   yes  False  \n",
              "2    woman       False  NaN  Southampton   yes   True  \n",
              "3    woman       False    C  Southampton   yes  False  \n",
              "4      man        True  NaN  Southampton    no   True  \n",
              "..     ...         ...  ...          ...   ...    ...  \n",
              "886    man        True  NaN  Southampton    no   True  \n",
              "887  woman       False    B  Southampton   yes   True  \n",
              "888  woman       False  NaN  Southampton    no  False  \n",
              "889    man        True    C    Cherbourg   yes   True  \n",
              "890    man        True  NaN   Queenstown    no   True  \n",
              "\n",
              "[891 rows x 15 columns]"
            ],
            "text/html": [
              "\n",
              "  <div id=\"df-e58244f5-310c-4f81-8a79-4f57694d5025\">\n",
              "    <div class=\"colab-df-container\">\n",
              "      <div>\n",
              "<style scoped>\n",
              "    .dataframe tbody tr th:only-of-type {\n",
              "        vertical-align: middle;\n",
              "    }\n",
              "\n",
              "    .dataframe tbody tr th {\n",
              "        vertical-align: top;\n",
              "    }\n",
              "\n",
              "    .dataframe thead th {\n",
              "        text-align: right;\n",
              "    }\n",
              "</style>\n",
              "<table border=\"1\" class=\"dataframe\">\n",
              "  <thead>\n",
              "    <tr style=\"text-align: right;\">\n",
              "      <th></th>\n",
              "      <th>survived</th>\n",
              "      <th>pclass</th>\n",
              "      <th>sex</th>\n",
              "      <th>age</th>\n",
              "      <th>sibsp</th>\n",
              "      <th>parch</th>\n",
              "      <th>fare</th>\n",
              "      <th>embarked</th>\n",
              "      <th>class</th>\n",
              "      <th>who</th>\n",
              "      <th>adult_male</th>\n",
              "      <th>deck</th>\n",
              "      <th>embark_town</th>\n",
              "      <th>alive</th>\n",
              "      <th>alone</th>\n",
              "    </tr>\n",
              "  </thead>\n",
              "  <tbody>\n",
              "    <tr>\n",
              "      <th>0</th>\n",
              "      <td>0</td>\n",
              "      <td>3</td>\n",
              "      <td>male</td>\n",
              "      <td>22.0</td>\n",
              "      <td>1</td>\n",
              "      <td>0</td>\n",
              "      <td>7.2500</td>\n",
              "      <td>S</td>\n",
              "      <td>Third</td>\n",
              "      <td>man</td>\n",
              "      <td>True</td>\n",
              "      <td>NaN</td>\n",
              "      <td>Southampton</td>\n",
              "      <td>no</td>\n",
              "      <td>False</td>\n",
              "    </tr>\n",
              "    <tr>\n",
              "      <th>1</th>\n",
              "      <td>1</td>\n",
              "      <td>1</td>\n",
              "      <td>female</td>\n",
              "      <td>38.0</td>\n",
              "      <td>1</td>\n",
              "      <td>0</td>\n",
              "      <td>71.2833</td>\n",
              "      <td>C</td>\n",
              "      <td>First</td>\n",
              "      <td>woman</td>\n",
              "      <td>False</td>\n",
              "      <td>C</td>\n",
              "      <td>Cherbourg</td>\n",
              "      <td>yes</td>\n",
              "      <td>False</td>\n",
              "    </tr>\n",
              "    <tr>\n",
              "      <th>2</th>\n",
              "      <td>1</td>\n",
              "      <td>3</td>\n",
              "      <td>female</td>\n",
              "      <td>26.0</td>\n",
              "      <td>0</td>\n",
              "      <td>0</td>\n",
              "      <td>7.9250</td>\n",
              "      <td>S</td>\n",
              "      <td>Third</td>\n",
              "      <td>woman</td>\n",
              "      <td>False</td>\n",
              "      <td>NaN</td>\n",
              "      <td>Southampton</td>\n",
              "      <td>yes</td>\n",
              "      <td>True</td>\n",
              "    </tr>\n",
              "    <tr>\n",
              "      <th>3</th>\n",
              "      <td>1</td>\n",
              "      <td>1</td>\n",
              "      <td>female</td>\n",
              "      <td>35.0</td>\n",
              "      <td>1</td>\n",
              "      <td>0</td>\n",
              "      <td>53.1000</td>\n",
              "      <td>S</td>\n",
              "      <td>First</td>\n",
              "      <td>woman</td>\n",
              "      <td>False</td>\n",
              "      <td>C</td>\n",
              "      <td>Southampton</td>\n",
              "      <td>yes</td>\n",
              "      <td>False</td>\n",
              "    </tr>\n",
              "    <tr>\n",
              "      <th>4</th>\n",
              "      <td>0</td>\n",
              "      <td>3</td>\n",
              "      <td>male</td>\n",
              "      <td>35.0</td>\n",
              "      <td>0</td>\n",
              "      <td>0</td>\n",
              "      <td>8.0500</td>\n",
              "      <td>S</td>\n",
              "      <td>Third</td>\n",
              "      <td>man</td>\n",
              "      <td>True</td>\n",
              "      <td>NaN</td>\n",
              "      <td>Southampton</td>\n",
              "      <td>no</td>\n",
              "      <td>True</td>\n",
              "    </tr>\n",
              "    <tr>\n",
              "      <th>...</th>\n",
              "      <td>...</td>\n",
              "      <td>...</td>\n",
              "      <td>...</td>\n",
              "      <td>...</td>\n",
              "      <td>...</td>\n",
              "      <td>...</td>\n",
              "      <td>...</td>\n",
              "      <td>...</td>\n",
              "      <td>...</td>\n",
              "      <td>...</td>\n",
              "      <td>...</td>\n",
              "      <td>...</td>\n",
              "      <td>...</td>\n",
              "      <td>...</td>\n",
              "      <td>...</td>\n",
              "    </tr>\n",
              "    <tr>\n",
              "      <th>886</th>\n",
              "      <td>0</td>\n",
              "      <td>2</td>\n",
              "      <td>male</td>\n",
              "      <td>27.0</td>\n",
              "      <td>0</td>\n",
              "      <td>0</td>\n",
              "      <td>13.0000</td>\n",
              "      <td>S</td>\n",
              "      <td>Second</td>\n",
              "      <td>man</td>\n",
              "      <td>True</td>\n",
              "      <td>NaN</td>\n",
              "      <td>Southampton</td>\n",
              "      <td>no</td>\n",
              "      <td>True</td>\n",
              "    </tr>\n",
              "    <tr>\n",
              "      <th>887</th>\n",
              "      <td>1</td>\n",
              "      <td>1</td>\n",
              "      <td>female</td>\n",
              "      <td>19.0</td>\n",
              "      <td>0</td>\n",
              "      <td>0</td>\n",
              "      <td>30.0000</td>\n",
              "      <td>S</td>\n",
              "      <td>First</td>\n",
              "      <td>woman</td>\n",
              "      <td>False</td>\n",
              "      <td>B</td>\n",
              "      <td>Southampton</td>\n",
              "      <td>yes</td>\n",
              "      <td>True</td>\n",
              "    </tr>\n",
              "    <tr>\n",
              "      <th>888</th>\n",
              "      <td>0</td>\n",
              "      <td>3</td>\n",
              "      <td>female</td>\n",
              "      <td>NaN</td>\n",
              "      <td>1</td>\n",
              "      <td>2</td>\n",
              "      <td>23.4500</td>\n",
              "      <td>S</td>\n",
              "      <td>Third</td>\n",
              "      <td>woman</td>\n",
              "      <td>False</td>\n",
              "      <td>NaN</td>\n",
              "      <td>Southampton</td>\n",
              "      <td>no</td>\n",
              "      <td>False</td>\n",
              "    </tr>\n",
              "    <tr>\n",
              "      <th>889</th>\n",
              "      <td>1</td>\n",
              "      <td>1</td>\n",
              "      <td>male</td>\n",
              "      <td>26.0</td>\n",
              "      <td>0</td>\n",
              "      <td>0</td>\n",
              "      <td>30.0000</td>\n",
              "      <td>C</td>\n",
              "      <td>First</td>\n",
              "      <td>man</td>\n",
              "      <td>True</td>\n",
              "      <td>C</td>\n",
              "      <td>Cherbourg</td>\n",
              "      <td>yes</td>\n",
              "      <td>True</td>\n",
              "    </tr>\n",
              "    <tr>\n",
              "      <th>890</th>\n",
              "      <td>0</td>\n",
              "      <td>3</td>\n",
              "      <td>male</td>\n",
              "      <td>32.0</td>\n",
              "      <td>0</td>\n",
              "      <td>0</td>\n",
              "      <td>7.7500</td>\n",
              "      <td>Q</td>\n",
              "      <td>Third</td>\n",
              "      <td>man</td>\n",
              "      <td>True</td>\n",
              "      <td>NaN</td>\n",
              "      <td>Queenstown</td>\n",
              "      <td>no</td>\n",
              "      <td>True</td>\n",
              "    </tr>\n",
              "  </tbody>\n",
              "</table>\n",
              "<p>891 rows × 15 columns</p>\n",
              "</div>\n",
              "      <button class=\"colab-df-convert\" onclick=\"convertToInteractive('df-e58244f5-310c-4f81-8a79-4f57694d5025')\"\n",
              "              title=\"Convert this dataframe to an interactive table.\"\n",
              "              style=\"display:none;\">\n",
              "        \n",
              "  <svg xmlns=\"http://www.w3.org/2000/svg\" height=\"24px\"viewBox=\"0 0 24 24\"\n",
              "       width=\"24px\">\n",
              "    <path d=\"M0 0h24v24H0V0z\" fill=\"none\"/>\n",
              "    <path d=\"M18.56 5.44l.94 2.06.94-2.06 2.06-.94-2.06-.94-.94-2.06-.94 2.06-2.06.94zm-11 1L8.5 8.5l.94-2.06 2.06-.94-2.06-.94L8.5 2.5l-.94 2.06-2.06.94zm10 10l.94 2.06.94-2.06 2.06-.94-2.06-.94-.94-2.06-.94 2.06-2.06.94z\"/><path d=\"M17.41 7.96l-1.37-1.37c-.4-.4-.92-.59-1.43-.59-.52 0-1.04.2-1.43.59L10.3 9.45l-7.72 7.72c-.78.78-.78 2.05 0 2.83L4 21.41c.39.39.9.59 1.41.59.51 0 1.02-.2 1.41-.59l7.78-7.78 2.81-2.81c.8-.78.8-2.07 0-2.86zM5.41 20L4 18.59l7.72-7.72 1.47 1.35L5.41 20z\"/>\n",
              "  </svg>\n",
              "      </button>\n",
              "      \n",
              "  <style>\n",
              "    .colab-df-container {\n",
              "      display:flex;\n",
              "      flex-wrap:wrap;\n",
              "      gap: 12px;\n",
              "    }\n",
              "\n",
              "    .colab-df-convert {\n",
              "      background-color: #E8F0FE;\n",
              "      border: none;\n",
              "      border-radius: 50%;\n",
              "      cursor: pointer;\n",
              "      display: none;\n",
              "      fill: #1967D2;\n",
              "      height: 32px;\n",
              "      padding: 0 0 0 0;\n",
              "      width: 32px;\n",
              "    }\n",
              "\n",
              "    .colab-df-convert:hover {\n",
              "      background-color: #E2EBFA;\n",
              "      box-shadow: 0px 1px 2px rgba(60, 64, 67, 0.3), 0px 1px 3px 1px rgba(60, 64, 67, 0.15);\n",
              "      fill: #174EA6;\n",
              "    }\n",
              "\n",
              "    [theme=dark] .colab-df-convert {\n",
              "      background-color: #3B4455;\n",
              "      fill: #D2E3FC;\n",
              "    }\n",
              "\n",
              "    [theme=dark] .colab-df-convert:hover {\n",
              "      background-color: #434B5C;\n",
              "      box-shadow: 0px 1px 3px 1px rgba(0, 0, 0, 0.15);\n",
              "      filter: drop-shadow(0px 1px 2px rgba(0, 0, 0, 0.3));\n",
              "      fill: #FFFFFF;\n",
              "    }\n",
              "  </style>\n",
              "\n",
              "      <script>\n",
              "        const buttonEl =\n",
              "          document.querySelector('#df-e58244f5-310c-4f81-8a79-4f57694d5025 button.colab-df-convert');\n",
              "        buttonEl.style.display =\n",
              "          google.colab.kernel.accessAllowed ? 'block' : 'none';\n",
              "\n",
              "        async function convertToInteractive(key) {\n",
              "          const element = document.querySelector('#df-e58244f5-310c-4f81-8a79-4f57694d5025');\n",
              "          const dataTable =\n",
              "            await google.colab.kernel.invokeFunction('convertToInteractive',\n",
              "                                                     [key], {});\n",
              "          if (!dataTable) return;\n",
              "\n",
              "          const docLinkHtml = 'Like what you see? Visit the ' +\n",
              "            '<a target=\"_blank\" href=https://colab.research.google.com/notebooks/data_table.ipynb>data table notebook</a>'\n",
              "            + ' to learn more about interactive tables.';\n",
              "          element.innerHTML = '';\n",
              "          dataTable['output_type'] = 'display_data';\n",
              "          await google.colab.output.renderOutput(dataTable, element);\n",
              "          const docLink = document.createElement('div');\n",
              "          docLink.innerHTML = docLinkHtml;\n",
              "          element.appendChild(docLink);\n",
              "        }\n",
              "      </script>\n",
              "    </div>\n",
              "  </div>\n",
              "  "
            ]
          },
          "metadata": {},
          "execution_count": 25
        }
      ]
    },
    {
      "cell_type": "code",
      "source": [
        "df= titanic.loc[: , ['age','sex','class','fare','survived']]   #titanic df중 전체 행, 일부 컬럼 불러옴\n",
        "print(len(df))\n",
        "print(df.head())"
      ],
      "metadata": {
        "colab": {
          "base_uri": "https://localhost:8080/"
        },
        "id": "H2hn--p15l0e",
        "outputId": "3210097c-5b47-499b-d1c0-255350f5cf87"
      },
      "execution_count": null,
      "outputs": [
        {
          "output_type": "stream",
          "name": "stdout",
          "text": [
            "891\n",
            "    age     sex  class     fare  survived\n",
            "0  22.0    male  Third   7.2500         0\n",
            "1  38.0  female  First  71.2833         1\n",
            "2  26.0  female  Third   7.9250         1\n",
            "3  35.0  female  First  53.1000         1\n",
            "4  35.0    male  Third   8.0500         0\n"
          ]
        }
      ]
    },
    {
      "cell_type": "code",
      "source": [
        "df['class'].unique()      #특정 컬럼의 중복제거하고 유니크한 값과 개수 찾기\n",
        "print(df['class'].value_counts())"
      ],
      "metadata": {
        "colab": {
          "base_uri": "https://localhost:8080/"
        },
        "id": "fg1dQ2X954f8",
        "outputId": "c7ca5c0e-ea2d-409e-951d-2100461a879e"
      },
      "execution_count": null,
      "outputs": [
        {
          "output_type": "stream",
          "name": "stdout",
          "text": [
            "Third     491\n",
            "First     216\n",
            "Second    184\n",
            "Name: class, dtype: int64\n"
          ]
        }
      ]
    },
    {
      "cell_type": "markdown",
      "source": [
        "# 특정컬럼의 유니크값 기준으로 그룹핑한 객체 만들기"
      ],
      "metadata": {
        "id": "UVulFSg3zjKa"
      }
    },
    {
      "cell_type": "code",
      "source": [
        "grouped= df.groupby(['class'])       #클래스 컬럼의 값 기준으로 그룹핑\n",
        "print(grouped)"
      ],
      "metadata": {
        "id": "bFw2PF4P6FT1"
      },
      "execution_count": null,
      "outputs": []
    },
    {
      "cell_type": "code",
      "source": [
        "grouped_df= {}\n",
        "for key,group in grouped:\n",
        "  print('key:', key)\n",
        "  print('length:', len(group))\n",
        "  grouped_df[key] = group   #빈딕셔너리에 추가함. 근데 왜 빈딕셔너리에 추가해야 하는 거지?\n",
        "  print(group.head())\n"
      ],
      "metadata": {
        "colab": {
          "base_uri": "https://localhost:8080/"
        },
        "id": "2zxY14NC6WDB",
        "outputId": "05a5c1f0-2cc8-42b6-e5b0-171efed8f058"
      },
      "execution_count": null,
      "outputs": [
        {
          "output_type": "stream",
          "name": "stdout",
          "text": [
            "key: First\n",
            "length: 216\n",
            "     age     sex  class     fare  survived\n",
            "1   38.0  female  First  71.2833         1\n",
            "3   35.0  female  First  53.1000         1\n",
            "6   54.0    male  First  51.8625         0\n",
            "11  58.0  female  First  26.5500         1\n",
            "23  28.0    male  First  35.5000         1\n",
            "key: Second\n",
            "length: 184\n",
            "     age     sex   class     fare  survived\n",
            "9   14.0  female  Second  30.0708         1\n",
            "15  55.0  female  Second  16.0000         1\n",
            "17   NaN    male  Second  13.0000         1\n",
            "20  35.0    male  Second  26.0000         0\n",
            "21  34.0    male  Second  13.0000         1\n",
            "key: Third\n",
            "length: 491\n",
            "    age     sex  class     fare  survived\n",
            "0  22.0    male  Third   7.2500         0\n",
            "2  26.0  female  Third   7.9250         1\n",
            "4  35.0    male  Third   8.0500         0\n",
            "5   NaN    male  Third   8.4583         0\n",
            "7   2.0    male  Third  21.0750         0\n"
          ]
        }
      ]
    },
    {
      "cell_type": "code",
      "source": [
        "average= grouped.mean()   #그룹핑된 객체의 평균을 구하면"
      ],
      "metadata": {
        "id": "XxBBP6sc66s4"
      },
      "execution_count": null,
      "outputs": []
    },
    {
      "cell_type": "code",
      "source": [
        "print(average)                #클래스별로 그룹핑된 그룹별로, 숫자로 된 - 계산가능한 - 컬럼들을 계산해줌. \n",
        "# groupby 객체여서 가능한 거. 그룹별로 각각그이 평균을 구하거나, 표준편차를 구하거나 .  . . .."
      ],
      "metadata": {
        "colab": {
          "base_uri": "https://localhost:8080/"
        },
        "id": "AHespcYI8I_s",
        "outputId": "3acf4190-f5d6-4b56-88c1-2abc46394e95"
      },
      "execution_count": null,
      "outputs": [
        {
          "output_type": "stream",
          "name": "stdout",
          "text": [
            "              age       fare  survived\n",
            "class                                 \n",
            "First   38.233441  84.154687  0.629630\n",
            "Second  29.877630  20.662183  0.472826\n",
            "Third   25.140620  13.675550  0.242363\n"
          ]
        }
      ]
    },
    {
      "cell_type": "markdown",
      "source": [
        "# 두가지 이상의 컬럼을 기준으로 그룹핑"
      ],
      "metadata": {
        "id": "e-Au9gSM0Nqs"
      }
    },
    {
      "cell_type": "code",
      "source": [
        "grouped_two = df.groupby(['class','sex'])       #두개의 컬럼을 기준으로 그룹핑하면\n",
        "\n",
        "for key, group in grouped_two:           #각각의 키와 그룹이 생긴다\n",
        "  print('key는', key)\n",
        "  print('length는', len(group))\n",
        "  print('group은')\n",
        "  print(group.head())"
      ],
      "metadata": {
        "colab": {
          "base_uri": "https://localhost:8080/"
        },
        "id": "vFyQcau_8J-c",
        "outputId": "b123a69f-58e1-4174-f56a-ef0fcc2d419c"
      },
      "execution_count": null,
      "outputs": [
        {
          "output_type": "stream",
          "name": "stdout",
          "text": [
            "key는 ('First', 'female')\n",
            "length는 94\n",
            "group은\n",
            "     age     sex  class      fare  survived\n",
            "1   38.0  female  First   71.2833         1\n",
            "3   35.0  female  First   53.1000         1\n",
            "11  58.0  female  First   26.5500         1\n",
            "31   NaN  female  First  146.5208         1\n",
            "52  49.0  female  First   76.7292         1\n",
            "key는 ('First', 'male')\n",
            "length는 122\n",
            "group은\n",
            "     age   sex  class      fare  survived\n",
            "6   54.0  male  First   51.8625         0\n",
            "23  28.0  male  First   35.5000         1\n",
            "27  19.0  male  First  263.0000         0\n",
            "30  40.0  male  First   27.7208         0\n",
            "34  28.0  male  First   82.1708         0\n",
            "key는 ('Second', 'female')\n",
            "length는 76\n",
            "group은\n",
            "     age     sex   class     fare  survived\n",
            "9   14.0  female  Second  30.0708         1\n",
            "15  55.0  female  Second  16.0000         1\n",
            "41  27.0  female  Second  21.0000         0\n",
            "43   3.0  female  Second  41.5792         1\n",
            "53  29.0  female  Second  26.0000         1\n",
            "key는 ('Second', 'male')\n",
            "length는 108\n",
            "group은\n",
            "     age   sex   class  fare  survived\n",
            "17   NaN  male  Second  13.0         1\n",
            "20  35.0  male  Second  26.0         0\n",
            "21  34.0  male  Second  13.0         1\n",
            "33  66.0  male  Second  10.5         0\n",
            "70  32.0  male  Second  10.5         0\n",
            "key는 ('Third', 'female')\n",
            "length는 144\n",
            "group은\n",
            "     age     sex  class     fare  survived\n",
            "2   26.0  female  Third   7.9250         1\n",
            "8   27.0  female  Third  11.1333         1\n",
            "10   4.0  female  Third  16.7000         1\n",
            "14  14.0  female  Third   7.8542         0\n",
            "18  31.0  female  Third  18.0000         0\n",
            "key는 ('Third', 'male')\n",
            "length는 347\n",
            "group은\n",
            "     age   sex  class     fare  survived\n",
            "0   22.0  male  Third   7.2500         0\n",
            "4   35.0  male  Third   8.0500         0\n",
            "5    NaN  male  Third   8.4583         0\n",
            "7    2.0  male  Third  21.0750         0\n",
            "12  20.0  male  Third   8.0500         0\n"
          ]
        }
      ]
    },
    {
      "cell_type": "code",
      "source": [
        "print(grouped_two.mean())      #두개의 컬럼으로 그룹핑된 각각의 그룹에서, 계산 가능한 컬럼마다 mean 계산하기."
      ],
      "metadata": {
        "colab": {
          "base_uri": "https://localhost:8080/"
        },
        "id": "RsaxZIP19KhN",
        "outputId": "a3c89446-bd16-40ba-ce5a-97b98fefd501"
      },
      "execution_count": null,
      "outputs": [
        {
          "output_type": "stream",
          "name": "stdout",
          "text": [
            "                     age        fare  survived\n",
            "class  sex                                    \n",
            "First  female  34.611765  106.125798  0.968085\n",
            "       male    41.281386   67.226127  0.368852\n",
            "Second female  28.722973   21.970121  0.921053\n",
            "       male    30.740707   19.741782  0.157407\n",
            "Third  female  21.750000   16.118810  0.500000\n",
            "       male    26.507589   12.661633  0.135447\n"
          ]
        }
      ]
    },
    {
      "cell_type": "code",
      "source": [
        "group3f = grouped_two.get_group(('Third', 'female'))         #그룹핑된 그룹 중  get_group 사용으로 특정 그룹을 찾아내기.\n",
        "print(group3f)"
      ],
      "metadata": {
        "colab": {
          "base_uri": "https://localhost:8080/"
        },
        "id": "RJckejSp94Sc",
        "outputId": "f64b7b42-5189-4ab6-fdcb-8685a51d506e"
      },
      "execution_count": null,
      "outputs": [
        {
          "output_type": "stream",
          "name": "stdout",
          "text": [
            "      age     sex  class     fare  survived\n",
            "2    26.0  female  Third   7.9250         1\n",
            "8    27.0  female  Third  11.1333         1\n",
            "10    4.0  female  Third  16.7000         1\n",
            "14   14.0  female  Third   7.8542         0\n",
            "18   31.0  female  Third  18.0000         0\n",
            "..    ...     ...    ...      ...       ...\n",
            "863   NaN  female  Third  69.5500         0\n",
            "875  15.0  female  Third   7.2250         1\n",
            "882  22.0  female  Third  10.5167         0\n",
            "885  39.0  female  Third  29.1250         0\n",
            "888   NaN  female  Third  23.4500         0\n",
            "\n",
            "[144 rows x 5 columns]\n"
          ]
        }
      ]
    },
    {
      "cell_type": "code",
      "source": [
        "dfg= grouped_two.mean()\n",
        "print(dfg)"
      ],
      "metadata": {
        "colab": {
          "base_uri": "https://localhost:8080/"
        },
        "id": "YTVNpdm9-wKr",
        "outputId": "ab9add38-f52f-475d-9995-596580106624"
      },
      "execution_count": null,
      "outputs": [
        {
          "output_type": "stream",
          "name": "stdout",
          "text": [
            "                     age        fare  survived\n",
            "class  sex                                    \n",
            "First  female  34.611765  106.125798  0.968085\n",
            "       male    41.281386   67.226127  0.368852\n",
            "Second female  28.722973   21.970121  0.921053\n",
            "       male    30.740707   19.741782  0.157407\n",
            "Third  female  21.750000   16.118810  0.500000\n",
            "       male    26.507589   12.661633  0.135447\n"
          ]
        }
      ]
    },
    {
      "cell_type": "code",
      "source": [
        "print(dfg.loc[('First','male')])             #그룹핑된 df에서 loc 이용해서 튜플로 위치 찾을 수 있음."
      ],
      "metadata": {
        "colab": {
          "base_uri": "https://localhost:8080/"
        },
        "id": "1F4fFuPQ_fDr",
        "outputId": "558ea004-39fc-4285-e25b-a79e3456234d"
      },
      "execution_count": null,
      "outputs": [
        {
          "output_type": "stream",
          "name": "stdout",
          "text": [
            "age         41.281386\n",
            "fare        67.226127\n",
            "survived     0.368852\n",
            "Name: (First, male), dtype: float64\n"
          ]
        }
      ]
    },
    {
      "cell_type": "code",
      "source": [
        "print(dfg.loc['First'])"
      ],
      "metadata": {
        "colab": {
          "base_uri": "https://localhost:8080/"
        },
        "id": "t7SDDBSB_osH",
        "outputId": "b4ba6ed3-a07e-4f39-a175-f5502663ee4c"
      },
      "execution_count": null,
      "outputs": [
        {
          "output_type": "stream",
          "name": "stdout",
          "text": [
            "              age        fare  survived\n",
            "sex                                    \n",
            "female  34.611765  106.125798  0.968085\n",
            "male    41.281386   67.226127  0.368852\n"
          ]
        }
      ]
    },
    {
      "cell_type": "code",
      "source": [
        "print(dfg.xs('female', level='sex'))"
      ],
      "metadata": {
        "colab": {
          "base_uri": "https://localhost:8080/"
        },
        "id": "g7Zf-bLA_4Oz",
        "outputId": "2cca4aa6-9554-4032-ee06-830e15c7523a"
      },
      "execution_count": null,
      "outputs": [
        {
          "output_type": "stream",
          "name": "stdout",
          "text": [
            "              age        fare  survived\n",
            "class                                  \n",
            "First   34.611765  106.125798  0.968085\n",
            "Second  28.722973   21.970121  0.921053\n",
            "Third   21.750000   16.118810  0.500000\n"
          ]
        }
      ]
    },
    {
      "cell_type": "markdown",
      "source": [
        "# 피봇테이블"
      ],
      "metadata": {
        "id": "iIkEna1H1Wcp"
      }
    },
    {
      "cell_type": "code",
      "source": [
        "pdf1= pd.pivot_table(df,                   \n",
        "                     index='class',      #클래스 컬럼의 값을 기준으로 인덱싱하고\n",
        "                     columns='sex',     #sex 컬럼의 값을 기준으로 열을 나눈다\n",
        "                     values='age',      #내부에는 age값을\n",
        "                     aggfunc='mean'        #mean 집계함수를 이용한다.\n",
        "                     )\n",
        "print(pdf1)\n",
        "print(type(pdf1))             #피봇테이블은 데이터프레임 타입이다"
      ],
      "metadata": {
        "colab": {
          "base_uri": "https://localhost:8080/"
        },
        "id": "6EG9vP7eAH8L",
        "outputId": "4354f5cb-f4c3-4849-8b2d-5439ac72a71e"
      },
      "execution_count": null,
      "outputs": [
        {
          "output_type": "stream",
          "name": "stdout",
          "text": [
            "sex        female       male\n",
            "class                       \n",
            "First   34.611765  41.281386\n",
            "Second  28.722973  30.740707\n",
            "Third   21.750000  26.507589\n",
            "<class 'pandas.core.frame.DataFrame'>\n"
          ]
        }
      ]
    },
    {
      "cell_type": "code",
      "source": [
        "pdf2= pd.pivot_table(df,                   \n",
        "                     index='class',\n",
        "                     columns='sex',\n",
        "                     values=['age','fare'],    #두개의 계산가능한 컬럼에 대한\n",
        "                     aggfunc='mean'           #집계함수\n",
        "                     )\n",
        "print(pdf2)\n",
        "print(type(pdf2))"
      ],
      "metadata": {
        "colab": {
          "base_uri": "https://localhost:8080/"
        },
        "id": "05yu9QGvA_zL",
        "outputId": "22eac848-8aec-4fa1-963e-fe07050320c4"
      },
      "execution_count": null,
      "outputs": [
        {
          "output_type": "stream",
          "name": "stdout",
          "text": [
            "              age                   fare           \n",
            "sex        female       male      female       male\n",
            "class                                              \n",
            "First   34.611765  41.281386  106.125798  67.226127\n",
            "Second  28.722973  30.740707   21.970121  19.741782\n",
            "Third   21.750000  26.507589   16.118810  12.661633\n",
            "<class 'pandas.core.frame.DataFrame'>\n"
          ]
        }
      ]
    },
    {
      "cell_type": "code",
      "source": [
        "pdf3= pd.pivot_table(df,                   \n",
        "                     index='class',\n",
        "                     columns='sex',\n",
        "                     values='age',\n",
        "                     aggfunc=['mean', 'sum', 'std']\n",
        "                     )\n",
        "print(pdf3)\n",
        "print(type(pdf3))"
      ],
      "metadata": {
        "colab": {
          "base_uri": "https://localhost:8080/"
        },
        "id": "1WU6XUA3Bmdi",
        "outputId": "bdc1dd3b-feb9-4bfd-e956-d8d893c6373f"
      },
      "execution_count": null,
      "outputs": [
        {
          "output_type": "stream",
          "name": "stdout",
          "text": [
            "             mean                sum                 std           \n",
            "sex        female       male  female     male     female       male\n",
            "class                                                              \n",
            "First   34.611765  41.281386  2942.0  4169.42  13.612052  15.139570\n",
            "Second  28.722973  30.740707  2125.5  3043.33  12.872702  14.793894\n",
            "Third   21.750000  26.507589  2218.5  6706.42  12.729964  12.159514\n",
            "<class 'pandas.core.frame.DataFrame'>\n"
          ]
        }
      ]
    },
    {
      "cell_type": "code",
      "source": [
        "pdf4= pd.pivot_table(df,                   \n",
        "                     index=['class', 'sex'],\n",
        "                     columns='survived',\n",
        "                     values=['age','fare'],\n",
        "                     aggfunc=['mean', 'max']\n",
        "                     )\n",
        "print(pdf4)\n",
        "print(type(pdf4))"
      ],
      "metadata": {
        "colab": {
          "base_uri": "https://localhost:8080/"
        },
        "id": "FvY9nQBDB7ML",
        "outputId": "9a07ce60-2c7e-436d-93ff-e1875bc3b6ae"
      },
      "execution_count": null,
      "outputs": [
        {
          "output_type": "stream",
          "name": "stdout",
          "text": [
            "                    mean                                      max        \\\n",
            "                     age                   fare               age         \n",
            "survived               0          1           0           1     0     1   \n",
            "class  sex                                                                \n",
            "First  female  25.666667  34.939024  110.604167  105.978159  50.0  63.0   \n",
            "       male    44.581967  36.248000   62.894910   74.637320  71.0  80.0   \n",
            "Second female  36.000000  28.080882   18.250000   22.288989  57.0  55.0   \n",
            "       male    33.369048  16.022000   19.488965   21.095100  70.0  62.0   \n",
            "Third  female  23.818182  19.329787   19.773093   12.464526  48.0  63.0   \n",
            "       male    27.255814  22.274211   12.204469   15.579696  74.0  45.0   \n",
            "\n",
            "                                 \n",
            "                 fare            \n",
            "survived            0         1  \n",
            "class  sex                       \n",
            "First  female  151.55  512.3292  \n",
            "       male    263.00  512.3292  \n",
            "Second female   26.00   65.0000  \n",
            "       male     73.50   39.0000  \n",
            "Third  female   69.55   31.3875  \n",
            "       male     69.55   56.4958  \n",
            "<class 'pandas.core.frame.DataFrame'>\n"
          ]
        }
      ]
    },
    {
      "cell_type": "code",
      "source": [
        "print(pdf4.index)\n",
        "print(pdf4.columns)"
      ],
      "metadata": {
        "colab": {
          "base_uri": "https://localhost:8080/"
        },
        "id": "F3pUaf-2CHG7",
        "outputId": "ccf594b6-f52b-46d4-91a7-f0ccb8eb6eca"
      },
      "execution_count": null,
      "outputs": [
        {
          "output_type": "stream",
          "name": "stdout",
          "text": [
            "MultiIndex([( 'First', 'female'),\n",
            "            ( 'First',   'male'),\n",
            "            ('Second', 'female'),\n",
            "            ('Second',   'male'),\n",
            "            ( 'Third', 'female'),\n",
            "            ( 'Third',   'male')],\n",
            "           names=['class', 'sex'])\n",
            "MultiIndex([('mean',  'age', 0),\n",
            "            ('mean',  'age', 1),\n",
            "            ('mean', 'fare', 0),\n",
            "            ('mean', 'fare', 1),\n",
            "            ( 'max',  'age', 0),\n",
            "            ( 'max',  'age', 1),\n",
            "            ( 'max', 'fare', 0),\n",
            "            ( 'max', 'fare', 1)],\n",
            "           names=[None, None, 'survived'])\n"
          ]
        }
      ]
    },
    {
      "cell_type": "code",
      "source": [
        "print(pdf4.xs('First'))"
      ],
      "metadata": {
        "colab": {
          "base_uri": "https://localhost:8080/"
        },
        "id": "jUIuJ8TiCriS",
        "outputId": "518099f2-1df4-4f52-c521-a4630b28df0b"
      },
      "execution_count": null,
      "outputs": [
        {
          "output_type": "stream",
          "name": "stdout",
          "text": [
            "               mean                                      max                \\\n",
            "                age                   fare               age          fare   \n",
            "survived          0          1           0           1     0     1       0   \n",
            "sex                                                                          \n",
            "female    25.666667  34.939024  110.604167  105.978159  50.0  63.0  151.55   \n",
            "male      44.581967  36.248000   62.894910   74.637320  71.0  80.0  263.00   \n",
            "\n",
            "                    \n",
            "                    \n",
            "survived         1  \n",
            "sex                 \n",
            "female    512.3292  \n",
            "male      512.3292  \n"
          ]
        }
      ]
    }
  ]
}