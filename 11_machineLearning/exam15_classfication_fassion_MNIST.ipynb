{
 "cells": [
  {
   "cell_type": "code",
   "execution_count": 2,
   "metadata": {},
   "outputs": [],
   "source": [
    "import numpy as np\n",
    "import matplotlib.pyplot as plt\n",
    "from tensorflow.keras.models import Sequential\n",
    "from tensorflow.keras.layers import Dense\n",
    "from tensorflow.keras import datasets\n",
    "from keras.utils import np_utils"
   ]
  },
  {
   "cell_type": "code",
   "execution_count": 3,
   "metadata": {},
   "outputs": [
    {
     "name": "stdout",
     "output_type": "stream",
     "text": [
      "Downloading data from https://storage.googleapis.com/tensorflow/tf-keras-datasets/train-labels-idx1-ubyte.gz\n",
      "32768/29515 [=================================] - 0s 0us/step\n",
      "Downloading data from https://storage.googleapis.com/tensorflow/tf-keras-datasets/train-images-idx3-ubyte.gz\n",
      "26427392/26421880 [==============================] - 1s 0us/step\n",
      "Downloading data from https://storage.googleapis.com/tensorflow/tf-keras-datasets/t10k-labels-idx1-ubyte.gz\n",
      "8192/5148 [===============================================] - 0s 0us/step\n",
      "Downloading data from https://storage.googleapis.com/tensorflow/tf-keras-datasets/t10k-images-idx3-ubyte.gz\n",
      "4423680/4422102 [==============================] - 0s 0us/step\n",
      "(60000, 28, 28) (60000,)\n",
      "(10000, 28, 28) (10000,)\n"
     ]
    },
    {
     "data": {
      "image/png": "[encoded data removed]",
      "text/plain": [
       "<Figure size 432x288 with 1 Axes>"
      ]
     },
     "metadata": {
      "needs_background": "light"
     },
     "output_type": "display_data"
    },
    {
     "name": "stdout",
     "output_type": "stream",
     "text": [
      "4\n",
      "[[  0   0   0   0   0   0   0   0   0   0   0 123 180 156 204 190 117   0\n",
      "    0   1   0   0   0   0   0   0   0   0]\n",
      " [  0   0   0   0   0   0   0   0   3   0   0 253 215 175 196 227 244  54\n",
      "    0   4   0   0   0   0   0   0   0   0]\n",
      " [  0   0   0   0   1   0   5   0   0   0  43 221 218 214 220 211 227  73\n",
      "    0   0   4   1   0   0   0   0   0   0]\n",
      " [  0   0   0   0   0   3   0   0  70 216 241 231 220 204 204 213 220 218\n",
      "  154   7   0   0   0   0   0   0   0   0]\n",
      " [  0   0   0   0   1   0   0 162 243 234 225 227 227 211 207 222 225 221\n",
      "  234 220 105   0   1   0   0   0   0   0]\n",
      " [  0   0   0   0   8   0 100 242 216 220 217 212 213 211 220 213 211 210\n",
      "  202 215 233  41   0   5   0   0   0   0]\n",
      " [  0   0   0   0   0   0 179 226 222 226 226 224 216 212 226 220 224 222\n",
      "  220 216 218 138   0   4   0   0   0   0]\n",
      " [  0   0   0   0   0  19 214 214 217 212 218 217 215 215 226 224 221 213\n",
      "  209 212 207 190   0   0   0   0   0   0]\n",
      " [  0   0   0   0   0  85 224 213 218 208 215 213 208 217 224 215 211 205\n",
      "  201 199 198 214  40   0   0   0   0   0]\n",
      " [  0   0   0   0   0 139 228 212 226 221 222 218 210 211 220 218 208 196\n",
      "  212 225 214 225  92   0   0   0   0   0]\n",
      " [  0   0   0   0   0 192 222 217 239 198 202 193 183 206 218 192 178 182\n",
      "  189 236 212 210 150   0   0   0   0   0]\n",
      " [  0   0   0   0   0 189 222 228 234 211 219 209 190 204 211 193 204 220\n",
      "  206 225 211 208 195   0   0   0   0   0]\n",
      " [  0   0   0   0   0 195 213 230 233 221 219 214 211 208 210 207 213 221\n",
      "  216 232 220 213 219   0   0   0   0   0]\n",
      " [  0   0   0   0  13 209 200 221 255 210 207 208 195 202 211 185 183 186\n",
      "  203 233 209 203 234   0   0   0   0   0]\n",
      " [  0   0   0   0  36 219 214 234 216 218 239 230 214 213 213 214 231 235\n",
      "  213 234 211 209 211  18   0   0   0   0]\n",
      " [  0   0   0   0  68 219 197 237 150 212 205 205 198 207 218 184 178 189\n",
      "  199 238 222 213 215  57   0   0   0   0]\n",
      " [  0   0   0   0  93 226 211 239 138 236 219 230 215 207 213 210 209 212\n",
      "  207 222 226 204 209  90   0   0   0   0]\n",
      " [  0   0   0   0  96 222 210 231 101 230 207 211 209 210 217 194 192 196\n",
      "  192 221 222 213 251  99   0   0   0   0]\n",
      " [  0   0   0   0 116 228 214 221 154 244 216 226 214 212 216 207 209 203\n",
      "  198 215 226 206 224 107   0   0   0   0]\n",
      " [  0   0   0   0 115 221 221 201 156 237 213 221 213 214 218 200 200 211\n",
      "  207 208 241 218 236 133   0   0   0   0]\n",
      " [  0   0   0   0 130 222 222 194 196 219 208 211 203 211 217 194 190 184\n",
      "  192 200 225 209 215 143   0   0   0   0]\n",
      " [  0   0   0   0 130 224 224 152 200 234 227 228 219 217 221 213 213 214\n",
      "  217 208 239 226 221 165   0   0   0   0]\n",
      " [  0   0   0   0 147 222 226 164 218 214 208 203 205 213 219 206 188 188\n",
      "  205 208 220 219 211 154   0   0   0   0]\n",
      " [  0   0   0   0 154 224 224 126 225 219 226 232 216 214 218 216 222 214\n",
      "  217 204 224 230 225 172   0   0   0   0]\n",
      " [  0   0   0   0 157 212 206 173 219 204 208 208 208 211 216 202 199 200\n",
      "  206 206 222 224 213 168   0   0   0   0]\n",
      " [  0   0   0   0 184 213 204  98 228 235 233 231 225 231 239 226 222 231\n",
      "  237 230 214 232 216 169   0   0   0   0]\n",
      " [  0   0   0   0 187 226 215   0  32 139 133 135 141 153 147 142 143 134\n",
      "  138  73  43 240 216 185   0   0   0   0]\n",
      " [  0   0   0   0  53 182 137   0   0   0   0   0   0   0   0   0   0   0\n",
      "    0   0   0 218 225 115   0   0   0   0]]\n"
     ]
    }
   ],
   "source": [
    "(X_train, Y_train), (X_test, Y_test) = datasets.fashion_mnist.load_data()\n",
    "print(X_train.shape, Y_train.shape)\n",
    "print(X_test.shape, Y_test.shape)\n",
    "\n",
    "\n",
    "my_sample = np.random.randint(60000)\n",
    "plt.imshow(X_train[my_sample], cmap='gray')\n",
    "plt.show()\n",
    "print(Y_train[my_sample])\n",
    "print(X_train[my_sample])"
   ]
  },
  {
   "cell_type": "code",
   "execution_count": null,
   "metadata": {},
   "outputs": [],
   "source": [
    "label = ['T-shirt', 'trouser', 'pullover', 'dress', 'coat',\n",
    "         'sandal', 'shirt', 'sneaker', 'bag', 'ankle boot']"
   ]
  }
 ],
 "metadata": {
  "interpreter": {
   "hash": "4575c94a40ab9deff75d62c2d009a795e0a61bcd141d3513a0cd65a998cae360"
  },
  "kernelspec": {
   "display_name": "Python 3.7.11 ('DL_exam_37')",
   "language": "python",
   "name": "python3"
  },
  "language_info": {
   "codemirror_mode": {
    "name": "ipython",
    "version": 3
   },
   "file_extension": ".py",
   "mimetype": "text/x-python",
   "name": "python",
   "nbconvert_exporter": "python",
   "pygments_lexer": "ipython3",
   "version": "3.7.11"
  },
  "orig_nbformat": 4
 },
 "nbformat": 4,
 "nbformat_minor": 2
}
