{
 "cells": [
  {
   "cell_type": "code",
   "execution_count": 99,
   "metadata": {},
   "outputs": [],
   "source": [
    "import numpy as np"
   ]
  },
  {
   "cell_type": "code",
   "execution_count": 100,
   "metadata": {},
   "outputs": [],
   "source": [
    "class add_graph:\n",
    "    def __init__(self):\n",
    "        pass\n",
    "    def forward(self, x, y):\n",
    "        out = x + y\n",
    "        return out\n",
    "    def backward(self, dout):  # 미분..\n",
    "        dx = 1 * dout\n",
    "        dy = 1 * dout\n",
    "        return dx, dy"
   ]
  },
  {
   "cell_type": "code",
   "execution_count": 101,
   "metadata": {},
   "outputs": [],
   "source": [
    "class mul_graph:\n",
    "    def __init__(self):\n",
    "        self.x = None\n",
    "        self.y = None\n",
    "    def forward(self, x, y):\n",
    "        self.x = x\n",
    "        self.y = y\n",
    "        out = x * y\n",
    "        return out\n",
    "    def backward(self, dout):\n",
    "        dx = self.y * dout\n",
    "        dy = self.x * dout\n",
    "        return dx, dy"
   ]
  },
  {
   "cell_type": "code",
   "execution_count": 102,
   "metadata": {},
   "outputs": [],
   "source": [
    "class mse_graph:\n",
    "    def __init__(self):\n",
    "        self.loss = None\n",
    "        self.y = None  # 예측모델\n",
    "        self.t = None  # target 정답근사치모델?\n",
    "        self.x = None  # 입력값\n",
    "    def forward(self, y, t):\n",
    "        self.t = t\n",
    "        self.y = y\n",
    "        self.loss = np.square(self.t - self.y).sum() / self.t.shape[0]\n",
    "        return self.loss\n",
    "    def backward(self, x, dout=1):\n",
    "        data_size = self.t.shape[0]\n",
    "        dweight_mse = ((self.y - self.t)*x).sum() * 2 / data_size  # mse를 a에 대해 미분한 값\n",
    "        dbias_mse = (self.y - self.t).sum() * 2 / data_size  # 뭔데 이거..\n",
    "        return dweight_mse, dbias_mse"
   ]
  },
  {
   "cell_type": "code",
   "execution_count": 103,
   "metadata": {},
   "outputs": [],
   "source": [
    "apple = 100\n",
    "apple_num = 2\n",
    "orange = 150\n",
    "orange_num = 3\n",
    "tax = 1.1"
   ]
  },
  {
   "cell_type": "code",
   "execution_count": 104,
   "metadata": {},
   "outputs": [],
   "source": [
    "mul_apple_graph = mul_graph()\n",
    "mul_orange_graph = mul_graph()\n",
    "add_apple_orange_graph = add_graph()\n",
    "mul_tax_graph = mul_graph()"
   ]
  },
  {
   "cell_type": "code",
   "execution_count": 105,
   "metadata": {},
   "outputs": [
    {
     "name": "stdout",
     "output_type": "stream",
     "text": [
      "715.0000000000001\n"
     ]
    }
   ],
   "source": [
    "apple_price = mul_apple_graph.forward(apple, apple_num)\n",
    "orange_price = mul_orange_graph.forward(orange, orange_num)\n",
    "all_price = add_apple_orange_graph.forward(apple_price, orange_price)\n",
    "total_price = mul_tax_graph.forward(all_price, tax)\n",
    "print(total_price)"
   ]
  },
  {
   "cell_type": "code",
   "execution_count": 106,
   "metadata": {},
   "outputs": [
    {
     "name": "stdout",
     "output_type": "stream",
     "text": [
      "dApple : 2.2\n",
      "dApple_num : 110.00000000000001\n",
      "dOrange : 3.3000000000000003\n",
      "dOrange_num : 165.0\n"
     ]
    }
   ],
   "source": [
    "dprice = 1  # 맨 끝단에 줄 미분값 1..\n",
    "dall_price, dtax = mul_tax_graph.backward(dprice)\n",
    "dapple_price, dorange_price = add_apple_orange_graph.backward(dall_price)\n",
    "dorange, dorange_num = mul_orange_graph.backward(dorange_price)\n",
    "dapple, dapple_num = mul_apple_graph.backward(dapple_price)\n",
    "print('dApple :', dapple)\n",
    "print('dApple_num :', dapple_num)\n",
    "print('dOrange :', dorange)\n",
    "print('dOrange_num :', dorange_num)"
   ]
  },
  {
   "cell_type": "code",
   "execution_count": 107,
   "metadata": {},
   "outputs": [
    {
     "name": "stdout",
     "output_type": "stream",
     "text": [
      "[0.   0.01 0.02 0.03 0.04 0.05 0.06 0.07 0.08 0.09 0.1  0.11 0.12 0.13\n",
      " 0.14 0.15 0.16 0.17 0.18 0.19 0.2  0.21 0.22 0.23 0.24 0.25 0.26 0.27\n",
      " 0.28 0.29 0.3  0.31 0.32 0.33 0.34 0.35 0.36 0.37 0.38 0.39 0.4  0.41\n",
      " 0.42 0.43 0.44 0.45 0.46 0.47 0.48 0.49 0.5  0.51 0.52 0.53 0.54 0.55\n",
      " 0.56 0.57 0.58 0.59 0.6  0.61 0.62 0.63 0.64 0.65 0.66 0.67 0.68 0.69\n",
      " 0.7  0.71 0.72 0.73 0.74 0.75 0.76 0.77 0.78 0.79 0.8  0.81 0.82 0.83\n",
      " 0.84 0.85 0.86 0.87 0.88 0.89 0.9  0.91 0.92 0.93 0.94 0.95 0.96 0.97\n",
      " 0.98 0.99]\n",
      "[0.32  0.338 0.356 0.374 0.392 0.41  0.428 0.446 0.464 0.482 0.5   0.518\n",
      " 0.536 0.554 0.572 0.59  0.608 0.626 0.644 0.662 0.68  0.698 0.716 0.734\n",
      " 0.752 0.77  0.788 0.806 0.824 0.842 0.86  0.878 0.896 0.914 0.932 0.95\n",
      " 0.968 0.986 1.004 1.022 1.04  1.058 1.076 1.094 1.112 1.13  1.148 1.166\n",
      " 1.184 1.202 1.22  1.238 1.256 1.274 1.292 1.31  1.328 1.346 1.364 1.382\n",
      " 1.4   1.418 1.436 1.454 1.472 1.49  1.508 1.526 1.544 1.562 1.58  1.598\n",
      " 1.616 1.634 1.652 1.67  1.688 1.706 1.724 1.742 1.76  1.778 1.796 1.814\n",
      " 1.832 1.85  1.868 1.886 1.904 1.922 1.94  1.958 1.976 1.994 2.012 2.03\n",
      " 2.048 2.066 2.084 2.102]\n"
     ]
    }
   ],
   "source": [
    "def celsius_to_fahrenheit(x):\n",
    "    return x*1.8 + 32\n",
    "\n",
    "data_C = np.array(range(100))\n",
    "data_F = celsius_to_fahrenheit(data_C)\n",
    "scaled_data_C = data_C / 100\n",
    "scaled_data_F = data_F / 100\n",
    "# 아까 스케일링 /100 작게 만든 이유.. 정답 찾으러 와리가리할때 발산하지말라고..\n",
    "\n",
    "print(scaled_data_C)\n",
    "print(scaled_data_F)"
   ]
  },
  {
   "cell_type": "code",
   "execution_count": 108,
   "metadata": {},
   "outputs": [
    {
     "name": "stdout",
     "output_type": "stream",
     "text": [
      "[2.84719975]\n"
     ]
    }
   ],
   "source": [
    "weight = np.random.uniform(0, 5, 1)  # 0부터 5 사이의 값을 1개 뽑!\n",
    "print(weight)\n",
    "bias = 0  # 이거는 0으로......간다..Z\n",
    "# 모델은 두개뿐.. weight=kernel, bias.."
   ]
  },
  {
   "cell_type": "code",
   "execution_count": 109,
   "metadata": {},
   "outputs": [],
   "source": [
    "weight_graph = mul_graph()\n",
    "bias_graph = add_graph()"
   ]
  },
  {
   "cell_type": "code",
   "execution_count": 110,
   "metadata": {},
   "outputs": [
    {
     "name": "stdout",
     "output_type": "stream",
     "text": [
      "[0.         0.028472   0.056944   0.08541599 0.11388799 0.14235999\n",
      " 0.17083199 0.19930398 0.22777598 0.25624798 0.28471998 0.31319197\n",
      " 0.34166397 0.37013597 0.39860797 0.42707996 0.45555196 0.48402396\n",
      " 0.51249596 0.54096795 0.56943995 0.59791195 0.62638395 0.65485594\n",
      " 0.68332794 0.71179994 0.74027194 0.76874393 0.79721593 0.82568793\n",
      " 0.85415993 0.88263192 0.91110392 0.93957592 0.96804792 0.99651991\n",
      " 1.02499191 1.05346391 1.08193591 1.1104079  1.1388799  1.1673519\n",
      " 1.1958239  1.22429589 1.25276789 1.28123989 1.30971189 1.33818388\n",
      " 1.36665588 1.39512788 1.42359988 1.45207187 1.48054387 1.50901587\n",
      " 1.53748787 1.56595986 1.59443186 1.62290386 1.65137586 1.67984785\n",
      " 1.70831985 1.73679185 1.76526385 1.79373584 1.82220784 1.85067984\n",
      " 1.87915184 1.90762383 1.93609583 1.96456783 1.99303983 2.02151182\n",
      " 2.04998382 2.07845582 2.10692782 2.13539981 2.16387181 2.19234381\n",
      " 2.22081581 2.2492878  2.2777598  2.3062318  2.3347038  2.36317579\n",
      " 2.39164779 2.42011979 2.44859179 2.47706378 2.50553578 2.53400778\n",
      " 2.56247978 2.59095177 2.61942377 2.64789577 2.67636777 2.70483976\n",
      " 2.73331176 2.76178376 2.79025576 2.81872775]\n"
     ]
    }
   ],
   "source": [
    "weighted_data = weight_graph.forward(weight, scaled_data_C)\n",
    "predict_data = bias_graph.forward(weighted_data, bias)\n",
    "print(predict_data)"
   ]
  },
  {
   "cell_type": "code",
   "execution_count": 111,
   "metadata": {},
   "outputs": [
    {
     "name": "stdout",
     "output_type": "stream",
     "text": [
      "1\n",
      "[0.   0.01 0.02 0.03 0.04 0.05 0.06 0.07 0.08 0.09 0.1  0.11 0.12 0.13\n",
      " 0.14 0.15 0.16 0.17 0.18 0.19 0.2  0.21 0.22 0.23 0.24 0.25 0.26 0.27\n",
      " 0.28 0.29 0.3  0.31 0.32 0.33 0.34 0.35 0.36 0.37 0.38 0.39 0.4  0.41\n",
      " 0.42 0.43 0.44 0.45 0.46 0.47 0.48 0.49 0.5  0.51 0.52 0.53 0.54 0.55\n",
      " 0.56 0.57 0.58 0.59 0.6  0.61 0.62 0.63 0.64 0.65 0.66 0.67 0.68 0.69\n",
      " 0.7  0.71 0.72 0.73 0.74 0.75 0.76 0.77 0.78 0.79 0.8  0.81 0.82 0.83\n",
      " 0.84 0.85 0.86 0.87 0.88 0.89 0.9  0.91 0.92 0.93 0.94 0.95 0.96 0.97\n",
      " 0.98 0.99]\n"
     ]
    }
   ],
   "source": [
    "dout = 1\n",
    "dbias, dbiased_data = bias_graph.backward(dout)\n",
    "dweight, dscaled_data_C = weight_graph.backward(dbiased_data)\n",
    "print(dbias)    # bias에 대한 미분값은 1개인데\n",
    "print(dweight)  # weight에 대한 미분값은 100개네요 곤란합니다\n",
    "# (왜 곤란한지도 잘 모르겠는데 지금은.. 일단 곤란하다니까 평균값으로 1개로 만들어준대..)"
   ]
  },
  {
   "cell_type": "code",
   "execution_count": 112,
   "metadata": {},
   "outputs": [
    {
     "name": "stdout",
     "output_type": "stream",
     "text": [
      "0.13072469873330234\n"
     ]
    }
   ],
   "source": [
    "mseGraph = mse_graph()\n",
    "mse = mseGraph.forward(predict_data, scaled_data_F)\n",
    "print(mse)"
   ]
  },
  {
   "cell_type": "code",
   "execution_count": 113,
   "metadata": {},
   "outputs": [
    {
     "name": "stdout",
     "output_type": "stream",
     "text": [
      "0.37089607616732656\n",
      "0.3967277530160703\n"
     ]
    }
   ],
   "source": [
    "weight_mse_gradient, bias_mse_gradient = mseGraph.backward(scaled_data_C)\n",
    "print(weight_mse_gradient)\n",
    "print(bias_mse_gradient)"
   ]
  },
  {
   "cell_type": "code",
   "execution_count": 114,
   "metadata": {},
   "outputs": [
    {
     "name": "stdout",
     "output_type": "stream",
     "text": [
      "before learnig weight : [2.84719975]\n",
      "after learning weight : [2.82884039]\n"
     ]
    }
   ],
   "source": [
    "learning_rate = 0.1  # 이거 왜 곱해줬었죠..? 알았는데요 모르겠습니다\n",
    "# 아 이거 그거 좌우 와리가리 발산금지 표식같은 ㅋㅋㅋㅋ 그래서 0.01 정도로 하는..? 하다보면 지가 조절함 (?!)\n",
    "learned_weight = weight - learning_rate * weight_mse_gradient * np.average(dweight)\n",
    "print('before learnig weight :', weight)\n",
    "print('after learning weight :', learned_weight)"
   ]
  },
  {
   "cell_type": "code",
   "execution_count": 115,
   "metadata": {},
   "outputs": [
    {
     "name": "stdout",
     "output_type": "stream",
     "text": [
      "before learning bias : 0\n",
      "after learning bias : -0.03967277530160703\n"
     ]
    }
   ],
   "source": [
    "learned_bias = bias - learning_rate * bias_mse_gradient * dbias\n",
    "print('before learning bias :', bias)\n",
    "print('after learning bias :', learned_bias)"
   ]
  },
  {
   "cell_type": "markdown",
   "metadata": {},
   "source": [
    "### 여기까지가 1 Epoch다~~~"
   ]
  },
  {
   "cell_type": "markdown",
   "metadata": {},
   "source": [
    "스케일링하는 이유 러닝 돌리다보면 서로 곱하고 더하고 옘병하는데 그게 1보다 큰 수면 난리버거지되니까.. 서로 지지고볶고해도 숫자 대책없이 커지지말라고 스케일링한다?"
   ]
  },
  {
   "cell_type": "code",
   "execution_count": 127,
   "metadata": {},
   "outputs": [
    {
     "name": "stdout",
     "output_type": "stream",
     "text": [
      "[1.8]\n",
      "0.31999999999999285\n"
     ]
    }
   ],
   "source": [
    "# 애기 공부하께요~~~~\n",
    "\n",
    "for i in range(1000):\n",
    "    # forward\n",
    "    weighted_data = weight_graph.forward(weight, scaled_data_C)\n",
    "    predict_data = bias_graph.forward(weighted_data, bias)\n",
    "\n",
    "    # backward\n",
    "    dout = 1\n",
    "    dbias, dbiased_data = bias_graph.backward(dout)\n",
    "    dweight, dscaled_data_C = weight_graph.backward(dbiased_data)\n",
    "\n",
    "    # mse\n",
    "    mse = mseGraph.forward(predict_data, scaled_data_F)\n",
    "    weight_mse_gradient, bias_mse_gradient = mseGraph.backward(scaled_data_C)\n",
    "\n",
    "    # learning\n",
    "    weight = weight - learning_rate * weight_mse_gradient * np.average(dweight)\n",
    "    bias = bias - learning_rate * bias_mse_gradient\n",
    "    \n",
    "print(weight)\n",
    "print(bias)"
   ]
  }
 ],
 "metadata": {
  "interpreter": {
   "hash": "4575c94a40ab9deff75d62c2d009a795e0a61bcd141d3513a0cd65a998cae360"
  },
  "kernelspec": {
   "display_name": "Python 3.7.11 ('DL_exam_37')",
   "language": "python",
   "name": "python3"
  },
  "language_info": {
   "codemirror_mode": {
    "name": "ipython",
    "version": 3
   },
   "file_extension": ".py",
   "mimetype": "text/x-python",
   "name": "python",
   "nbconvert_exporter": "python",
   "pygments_lexer": "ipython3",
   "version": "3.7.11"
  },
  "orig_nbformat": 4
 },
 "nbformat": 4,
 "nbformat_minor": 2
}
