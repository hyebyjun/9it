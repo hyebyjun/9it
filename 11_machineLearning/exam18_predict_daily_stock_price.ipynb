{
 "cells": [
  {
   "cell_type": "code",
   "execution_count": 3,
   "metadata": {},
   "outputs": [],
   "source": [
    "import pandas as pd\n",
    "import numpy as np\n",
    "import matplotlib.pyplot as plt\n",
    "from tensorflow.keras.models import Sequential\n",
    "from tensorflow.keras.layers import *"
   ]
  },
  {
   "cell_type": "code",
   "execution_count": 4,
   "metadata": {},
   "outputs": [
    {
     "name": "stdout",
     "output_type": "stream",
     "text": [
      "         Date     Open     High      Low    Close     Adj Close    Volume\n",
      "0  2020-01-29  59100.0  59700.0  58800.0  59100.0  55485.578125  16446102\n",
      "1  2020-01-30  58800.0  58800.0  56800.0  57200.0  53701.785156  20821939\n",
      "2  2020-01-31  57800.0  58400.0  56400.0  56400.0  52950.710938  19749457\n",
      "3  2020-02-03  55500.0  57400.0  55200.0  57200.0  53701.785156  23995260\n",
      "4  2020-02-04  57100.0  59000.0  56800.0  58900.0  55297.820313  21800192\n",
      "<class 'pandas.core.frame.DataFrame'>\n",
      "RangeIndex: 534 entries, 0 to 533\n",
      "Data columns (total 7 columns):\n",
      " #   Column     Non-Null Count  Dtype  \n",
      "---  ------     --------------  -----  \n",
      " 0   Date       534 non-null    object \n",
      " 1   Open       534 non-null    float64\n",
      " 2   High       534 non-null    float64\n",
      " 3   Low        534 non-null    float64\n",
      " 4   Close      534 non-null    float64\n",
      " 5   Adj Close  534 non-null    float64\n",
      " 6   Volume     534 non-null    int64  \n",
      "dtypes: float64(5), int64(1), object(1)\n",
      "memory usage: 29.3+ KB\n"
     ]
    }
   ],
   "source": [
    "raw_data = pd.read_csv('datasets/samsung200129_220328.csv')\n",
    "print(raw_data.head())\n",
    "raw_data.info()"
   ]
  }
 ],
 "metadata": {
  "interpreter": {
   "hash": "18f14f386e0b5429cddd1837668b7e8fdba53271b0edfb2862f4c40e1652c57a"
  },
  "kernelspec": {
   "display_name": "Python 3.7.11 ('DL_exam_37_opencv')",
   "language": "python",
   "name": "python3"
  },
  "language_info": {
   "codemirror_mode": {
    "name": "ipython",
    "version": 3
   },
   "file_extension": ".py",
   "mimetype": "text/x-python",
   "name": "python",
   "nbconvert_exporter": "python",
   "pygments_lexer": "ipython3",
   "version": "3.7.11"
  },
  "orig_nbformat": 4
 },
 "nbformat": 4,
 "nbformat_minor": 2
}
