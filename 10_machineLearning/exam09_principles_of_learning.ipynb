{
 "cells": [
  {
   "cell_type": "code",
   "execution_count": 167,
   "metadata": {},
   "outputs": [],
   "source": [
    "from tensorflow.keras.models import Sequential\n",
    "from tensorflow.keras.layers import Dense, InputLayer\n",
    "import numpy as np\n",
    "import matplotlib.pyplot as plt"
   ]
  },
  {
   "cell_type": "code",
   "execution_count": 168,
   "metadata": {},
   "outputs": [],
   "source": [
    "class add_graph:\n",
    "    def __init__(self):\n",
    "        pass\n",
    "    def forward(self, x, y):\n",
    "        out = x + y\n",
    "        return out\n",
    "    def backward(self, dout):  # 미분..\n",
    "        dx = 1 * dout\n",
    "        dy = 1 * dout\n",
    "        return dx, dy"
   ]
  },
  {
   "cell_type": "code",
   "execution_count": 169,
   "metadata": {},
   "outputs": [],
   "source": [
    "class mul_graph:\n",
    "    def __init__(self):\n",
    "        self.x = None\n",
    "        self.y = None\n",
    "    def forward(self, x, y):\n",
    "        self.x = x\n",
    "        self.y = y\n",
    "        out = x * y\n",
    "        return out\n",
    "    def backward(self, dout):\n",
    "        dx = self.y * dout\n",
    "        dy = self.x * dout\n",
    "        return dx, dy"
   ]
  },
  {
   "cell_type": "code",
   "execution_count": 170,
   "metadata": {},
   "outputs": [],
   "source": [
    "class mse_graph:\n",
    "    def __init__(self):\n",
    "        self.loss = None\n",
    "        self.y = None  # 예측모델\n",
    "        self.t = None  # target 정답근사치모델?\n",
    "        self.x = None  # 입력값\n",
    "    def forward(self, y, t):\n",
    "        self.t = t\n",
    "        self.y = y\n",
    "        self.loss = np.square(self.t - self.y).sum() / self.t.shape[0]\n",
    "        return self.loss\n",
    "    def backward(self, x, dout=1):\n",
    "        data_size = self.t.shape[0]\n",
    "        dweight_mse = ((self.y - self.t)*x).sum() * 2 / data_size  # mse를 a에 대해 미분한 값\n",
    "        dbias_mse = (self.y - self.t).sum() * 2 / data_size  # 뭔데 이거..\n",
    "        return dweight_mse, dbias_mse"
   ]
  },
  {
   "cell_type": "code",
   "execution_count": 171,
   "metadata": {},
   "outputs": [],
   "source": [
    "apple = 100\n",
    "apple_num = 2\n",
    "orange = 150\n",
    "orange_num = 3\n",
    "tax = 1.1"
   ]
  },
  {
   "cell_type": "code",
   "execution_count": 172,
   "metadata": {},
   "outputs": [],
   "source": [
    "mul_apple_graph = mul_graph()\n",
    "mul_orange_graph = mul_graph()\n",
    "add_apple_orange_graph = add_graph()\n",
    "mul_tax_graph = mul_graph()"
   ]
  },
  {
   "cell_type": "code",
   "execution_count": 173,
   "metadata": {},
   "outputs": [
    {
     "name": "stdout",
     "output_type": "stream",
     "text": [
      "715.0000000000001\n"
     ]
    }
   ],
   "source": [
    "apple_price = mul_apple_graph.forward(apple, apple_num)\n",
    "orange_price = mul_orange_graph.forward(orange, orange_num)\n",
    "all_price = add_apple_orange_graph.forward(apple_price, orange_price)\n",
    "total_price = mul_tax_graph.forward(all_price, tax)\n",
    "print(total_price)"
   ]
  },
  {
   "cell_type": "code",
   "execution_count": 174,
   "metadata": {},
   "outputs": [
    {
     "name": "stdout",
     "output_type": "stream",
     "text": [
      "dApple : 2.2\n",
      "dApple_num : 110.00000000000001\n",
      "dOrange : 3.3000000000000003\n",
      "dOrange_num : 165.0\n"
     ]
    }
   ],
   "source": [
    "dprice = 1  # 맨 끝단에 줄 미분값 1..\n",
    "dall_price, dtax = mul_tax_graph.backward(dprice)\n",
    "dapple_price, dorange_price = add_apple_orange_graph.backward(dall_price)\n",
    "dorange, dorange_num = mul_orange_graph.backward(dorange_price)\n",
    "dapple, dapple_num = mul_apple_graph.backward(dapple_price)\n",
    "print('dApple :', dapple)\n",
    "print('dApple_num :', dapple_num)\n",
    "print('dOrange :', dorange)\n",
    "print('dOrange_num :', dorange_num)"
   ]
  },
  {
   "cell_type": "code",
   "execution_count": 175,
   "metadata": {},
   "outputs": [
    {
     "name": "stdout",
     "output_type": "stream",
     "text": [
      "[0.   0.01 0.02 0.03 0.04 0.05 0.06 0.07 0.08 0.09 0.1  0.11 0.12 0.13\n",
      " 0.14 0.15 0.16 0.17 0.18 0.19 0.2  0.21 0.22 0.23 0.24 0.25 0.26 0.27\n",
      " 0.28 0.29 0.3  0.31 0.32 0.33 0.34 0.35 0.36 0.37 0.38 0.39 0.4  0.41\n",
      " 0.42 0.43 0.44 0.45 0.46 0.47 0.48 0.49 0.5  0.51 0.52 0.53 0.54 0.55\n",
      " 0.56 0.57 0.58 0.59 0.6  0.61 0.62 0.63 0.64 0.65 0.66 0.67 0.68 0.69\n",
      " 0.7  0.71 0.72 0.73 0.74 0.75 0.76 0.77 0.78 0.79 0.8  0.81 0.82 0.83\n",
      " 0.84 0.85 0.86 0.87 0.88 0.89 0.9  0.91 0.92 0.93 0.94 0.95 0.96 0.97\n",
      " 0.98 0.99]\n",
      "[0.32  0.338 0.356 0.374 0.392 0.41  0.428 0.446 0.464 0.482 0.5   0.518\n",
      " 0.536 0.554 0.572 0.59  0.608 0.626 0.644 0.662 0.68  0.698 0.716 0.734\n",
      " 0.752 0.77  0.788 0.806 0.824 0.842 0.86  0.878 0.896 0.914 0.932 0.95\n",
      " 0.968 0.986 1.004 1.022 1.04  1.058 1.076 1.094 1.112 1.13  1.148 1.166\n",
      " 1.184 1.202 1.22  1.238 1.256 1.274 1.292 1.31  1.328 1.346 1.364 1.382\n",
      " 1.4   1.418 1.436 1.454 1.472 1.49  1.508 1.526 1.544 1.562 1.58  1.598\n",
      " 1.616 1.634 1.652 1.67  1.688 1.706 1.724 1.742 1.76  1.778 1.796 1.814\n",
      " 1.832 1.85  1.868 1.886 1.904 1.922 1.94  1.958 1.976 1.994 2.012 2.03\n",
      " 2.048 2.066 2.084 2.102]\n"
     ]
    }
   ],
   "source": [
    "def celsius_to_fahrenheit(x):\n",
    "    return x*1.8 + 32\n",
    "\n",
    "data_C = np.array(range(100))\n",
    "data_F = celsius_to_fahrenheit(data_C)\n",
    "scaled_data_C = data_C / 100\n",
    "scaled_data_F = data_F / 100\n",
    "# 아까 스케일링 /100 작게 만든 이유.. 정답 찾으러 와리가리할때 발산하지말라고..\n",
    "\n",
    "print(scaled_data_C)\n",
    "print(scaled_data_F)"
   ]
  },
  {
   "cell_type": "code",
   "execution_count": 176,
   "metadata": {},
   "outputs": [
    {
     "name": "stdout",
     "output_type": "stream",
     "text": [
      "[1.84920561]\n"
     ]
    }
   ],
   "source": [
    "weight = np.random.uniform(0, 5, 1)  # 0부터 5 사이의 값을 1개 뽑!\n",
    "print(weight)\n",
    "bias = 0  # 이거는 0으로......간다..Z\n",
    "# 모델은 두개뿐.. weight=kernel, bias.."
   ]
  },
  {
   "cell_type": "code",
   "execution_count": 177,
   "metadata": {},
   "outputs": [],
   "source": [
    "weight_graph = mul_graph()\n",
    "bias_graph = add_graph()"
   ]
  },
  {
   "cell_type": "code",
   "execution_count": 178,
   "metadata": {},
   "outputs": [
    {
     "name": "stdout",
     "output_type": "stream",
     "text": [
      "[0.         0.01849206 0.03698411 0.05547617 0.07396822 0.09246028\n",
      " 0.11095234 0.12944439 0.14793645 0.1664285  0.18492056 0.20341262\n",
      " 0.22190467 0.24039673 0.25888879 0.27738084 0.2958729  0.31436495\n",
      " 0.33285701 0.35134907 0.36984112 0.38833318 0.40682523 0.42531729\n",
      " 0.44380935 0.4623014  0.48079346 0.49928551 0.51777757 0.53626963\n",
      " 0.55476168 0.57325374 0.5917458  0.61023785 0.62872991 0.64722196\n",
      " 0.66571402 0.68420608 0.70269813 0.72119019 0.73968224 0.7581743\n",
      " 0.77666636 0.79515841 0.81365047 0.83214252 0.85063458 0.86912664\n",
      " 0.88761869 0.90611075 0.92460281 0.94309486 0.96158692 0.98007897\n",
      " 0.99857103 1.01706309 1.03555514 1.0540472  1.07253925 1.09103131\n",
      " 1.10952337 1.12801542 1.14650748 1.16499953 1.18349159 1.20198365\n",
      " 1.2204757  1.23896776 1.25745981 1.27595187 1.29444393 1.31293598\n",
      " 1.33142804 1.3499201  1.36841215 1.38690421 1.40539626 1.42388832\n",
      " 1.44238038 1.46087243 1.47936449 1.49785654 1.5163486  1.53484066\n",
      " 1.55333271 1.57182477 1.59031682 1.60880888 1.62730094 1.64579299\n",
      " 1.66428505 1.68277711 1.70126916 1.71976122 1.73825327 1.75674533\n",
      " 1.77523739 1.79372944 1.8122215  1.83071355]\n"
     ]
    }
   ],
   "source": [
    "weighted_data = weight_graph.forward(weight, scaled_data_C)\n",
    "predict_data = bias_graph.forward(weighted_data, bias)\n",
    "print(predict_data)"
   ]
  },
  {
   "cell_type": "code",
   "execution_count": 179,
   "metadata": {},
   "outputs": [
    {
     "name": "stdout",
     "output_type": "stream",
     "text": [
      "1\n",
      "[0.   0.01 0.02 0.03 0.04 0.05 0.06 0.07 0.08 0.09 0.1  0.11 0.12 0.13\n",
      " 0.14 0.15 0.16 0.17 0.18 0.19 0.2  0.21 0.22 0.23 0.24 0.25 0.26 0.27\n",
      " 0.28 0.29 0.3  0.31 0.32 0.33 0.34 0.35 0.36 0.37 0.38 0.39 0.4  0.41\n",
      " 0.42 0.43 0.44 0.45 0.46 0.47 0.48 0.49 0.5  0.51 0.52 0.53 0.54 0.55\n",
      " 0.56 0.57 0.58 0.59 0.6  0.61 0.62 0.63 0.64 0.65 0.66 0.67 0.68 0.69\n",
      " 0.7  0.71 0.72 0.73 0.74 0.75 0.76 0.77 0.78 0.79 0.8  0.81 0.82 0.83\n",
      " 0.84 0.85 0.86 0.87 0.88 0.89 0.9  0.91 0.92 0.93 0.94 0.95 0.96 0.97\n",
      " 0.98 0.99]\n"
     ]
    }
   ],
   "source": [
    "dout = 1\n",
    "dbias, dbiased_data = bias_graph.backward(dout)\n",
    "dweight, dscaled_data_C = weight_graph.backward(dbiased_data)\n",
    "print(dbias)    # bias에 대한 미분값은 1개인데\n",
    "print(dweight)  # weight에 대한 미분값은 100개네요 곤란합니다\n",
    "# (왜 곤란한지도 잘 모르겠는데 지금은.. 일단 곤란하다니까 평균값으로 1개로 만들어준대..)"
   ]
  },
  {
   "cell_type": "code",
   "execution_count": 180,
   "metadata": {},
   "outputs": [
    {
     "name": "stdout",
     "output_type": "stream",
     "text": [
      "0.08760666110814769\n"
     ]
    }
   ],
   "source": [
    "mseGraph = mse_graph()\n",
    "mse = mseGraph.forward(predict_data, scaled_data_F)\n",
    "print(mse)"
   ]
  },
  {
   "cell_type": "code",
   "execution_count": 181,
   "metadata": {},
   "outputs": [
    {
     "name": "stdout",
     "output_type": "stream",
     "text": [
      "-0.28448667578542436\n",
      "-0.591286445907675\n"
     ]
    }
   ],
   "source": [
    "weight_mse_gradient, bias_mse_gradient = mseGraph.backward(scaled_data_C)\n",
    "print(weight_mse_gradient)\n",
    "print(bias_mse_gradient)"
   ]
  },
  {
   "cell_type": "code",
   "execution_count": 182,
   "metadata": {},
   "outputs": [
    {
     "name": "stdout",
     "output_type": "stream",
     "text": [
      "before learnig weight : [1.84920561]\n",
      "after learning weight : [1.8632877]\n"
     ]
    }
   ],
   "source": [
    "learning_rate = 0.1  # 이거 왜 곱해줬었죠..? 알았는데요 모르겠습니다\n",
    "# 아 이거 그거 좌우 와리가리 발산금지 표식같은 ㅋㅋㅋㅋ 그래서 0.01 정도로 하는..? 하다보면 지가 조절함 (?!)\n",
    "learned_weight = weight - learning_rate * weight_mse_gradient * np.average(dweight)\n",
    "print('before learnig weight :', weight)\n",
    "print('after learning weight :', learned_weight)"
   ]
  },
  {
   "cell_type": "code",
   "execution_count": 183,
   "metadata": {},
   "outputs": [
    {
     "name": "stdout",
     "output_type": "stream",
     "text": [
      "before learning bias : 0\n",
      "after learning bias : 0.0591286445907675\n"
     ]
    }
   ],
   "source": [
    "learned_bias = bias - learning_rate * bias_mse_gradient * dbias\n",
    "print('before learning bias :', bias)\n",
    "print('after learning bias :', learned_bias)"
   ]
  },
  {
   "cell_type": "markdown",
   "metadata": {},
   "source": [
    "### 여기까지가 1 Epoch다~~~"
   ]
  },
  {
   "cell_type": "markdown",
   "metadata": {},
   "source": [
    "스케일링하는 이유 러닝 돌리다보면 서로 곱하고 더하고 옘병하는데 그게 1보다 큰 수면 난리버거지되니까.. 서로 지지고볶고해도 숫자 대책없이 커지지말라고 스케일링한다?"
   ]
  },
  {
   "cell_type": "code",
   "execution_count": 184,
   "metadata": {},
   "outputs": [
    {
     "name": "stdout",
     "output_type": "stream",
     "text": [
      "[1.7994799]\n",
      "0.3202672417558931\n"
     ]
    }
   ],
   "source": [
    "# 애기 공부하께요~~~~\n",
    "weight = np.random.uniform(0, 5, 1)\n",
    "bias = 0\n",
    "dout = 1\n",
    "learning_rate = 0.1\n",
    "error_list = []\n",
    "\n",
    "for i in range(1000):\n",
    "    #forward\n",
    "    weighted_data = weight_graph.forward(weight, scaled_data_C)\n",
    "    predict_data = bias_graph.forward(weighted_data, bias)\n",
    "    #backward\n",
    "    dout = 1\n",
    "    dbias, dbiased_data = bias_graph.backward(dout)\n",
    "    dweight, dscaled_data_C = weight_graph.backward(dbiased_data)\n",
    "    #mse\n",
    "    mse = mseGraph.forward(predict_data, scaled_data_F)\n",
    "    error_list.append(mse)\n",
    "    weight_mse_gradient, bias_mse_gradient = mseGraph.backward(scaled_data_C)\n",
    "    #learning\n",
    "    weight = weight - learning_rate * weight_mse_gradient * np.average(dweight)\n",
    "    bias = bias - learning_rate * bias_mse_gradient * dbias\n",
    "\n",
    "print(weight)\n",
    "print(bias)"
   ]
  },
  {
   "cell_type": "code",
   "execution_count": 185,
   "metadata": {},
   "outputs": [
    {
     "name": "stdout",
     "output_type": "stream",
     "text": [
      "2.2971354189201314e-08\n"
     ]
    },
    {
     "data": {
      "image/png": "[encoded data removed]",
      "text/plain": [
       "<Figure size 432x288 with 1 Axes>"
      ]
     },
     "metadata": {
      "needs_background": "light"
     },
     "output_type": "display_data"
    }
   ],
   "source": [
    "print(error_list[-1])\n",
    "\n",
    "plt.plot(error_list)\n",
    "plt.show()"
   ]
  }
 ],
 "metadata": {
  "interpreter": {
   "hash": "4575c94a40ab9deff75d62c2d009a795e0a61bcd141d3513a0cd65a998cae360"
  },
  "kernelspec": {
   "display_name": "Python 3.7.11 ('DL_exam_37')",
   "language": "python",
   "name": "python3"
  },
  "language_info": {
   "codemirror_mode": {
    "name": "ipython",
    "version": 3
   },
   "file_extension": ".py",
   "mimetype": "text/x-python",
   "name": "python",
   "nbconvert_exporter": "python",
   "pygments_lexer": "ipython3",
   "version": "3.7.11"
  },
  "orig_nbformat": 4
 },
 "nbformat": 4,
 "nbformat_minor": 2
}
